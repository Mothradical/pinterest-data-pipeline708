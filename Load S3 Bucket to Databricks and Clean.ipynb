{
 "cells": [
  {
   "cell_type": "code",
   "execution_count": 0,
   "metadata": {
    "application/vnd.databricks.v1+cell": {
     "cellMetadata": {
      "byteLimit": 2048000,
      "rowLimit": 10000
     },
     "inputWidgets": {},
     "nuid": "1567478f-6347-430b-a3f8-2bcefca13a93",
     "showTitle": false,
     "tableResultSettingsMap": {},
     "title": ""
    }
   },
   "outputs": [
    {
     "output_type": "display_data",
     "data": {
      "text/html": [
       "<style scoped>\n",
       "  .table-result-container {\n",
       "    max-height: 300px;\n",
       "    overflow: auto;\n",
       "  }\n",
       "  table, th, td {\n",
       "    border: 1px solid black;\n",
       "    border-collapse: collapse;\n",
       "  }\n",
       "  th, td {\n",
       "    padding: 5px;\n",
       "  }\n",
       "  th {\n",
       "    text-align: left;\n",
       "  }\n",
       "</style><div class='table-result-container'><table class='table-result'><thead style='background-color: white'><tr><th>country</th><th>ind</th><th>latitude</th><th>longitude</th><th>timestamp</th></tr></thead><tbody><tr><td>British Indian Ocean Territory (Chagos Archipelago)</td><td>9455</td><td>-82.9272</td><td>-150.346</td><td>2022-03-15 01:46:32</td></tr><tr><td>British Indian Ocean Territory (Chagos Archipelago)</td><td>6814</td><td>-86.5675</td><td>-149.565</td><td>2022-09-02 11:34:28</td></tr><tr><td>British Indian Ocean Territory (Chagos Archipelago)</td><td>5111</td><td>-83.7472</td><td>8.65953</td><td>2021-04-01 00:56:57</td></tr><tr><td>Antarctica (the territory South of 60 deg S)</td><td>10073</td><td>-32.8885</td><td>-170.295</td><td>2021-06-29 19:56:04</td></tr><tr><td>Antarctica (the territory South of 60 deg S)</td><td>2418</td><td>-88.4642</td><td>-171.061</td><td>2022-05-27 11:30:59</td></tr><tr><td>Antarctica (the territory South of 60 deg S)</td><td>5162</td><td>-71.6607</td><td>-149.206</td><td>2019-09-27 19:06:43</td></tr><tr><td>Antarctica (the territory South of 60 deg S)</td><td>1335</td><td>-77.9931</td><td>-175.682</td><td>2022-03-19 17:29:42</td></tr><tr><td>Antarctica (the territory South of 60 deg S)</td><td>9185</td><td>-10.3764</td><td>-22.9809</td><td>2019-10-06 18:12:55</td></tr><tr><td>Antarctica (the territory South of 60 deg S)</td><td>9335</td><td>-88.4642</td><td>-171.061</td><td>2020-11-14 23:42:22</td></tr><tr><td>Antarctica (the territory South of 60 deg S)</td><td>6749</td><td>-88.4642</td><td>-171.061</td><td>2018-04-16 07:39:46</td></tr><tr><td>South Georgia and the South Sandwich Islands</td><td>10507</td><td>-89.4786</td><td>-68.913</td><td>2018-12-27 23:57:31</td></tr><tr><td>Antarctica (the territory South of 60 deg S)</td><td>1729</td><td>-88.4642</td><td>-171.061</td><td>2021-05-04 14:59:44</td></tr><tr><td>Antarctica (the territory South of 60 deg S)</td><td>8836</td><td>-75.0203</td><td>-108.272</td><td>2022-09-06 23:57:01</td></tr><tr><td>Antarctica (the territory South of 60 deg S)</td><td>4361</td><td>-24.8372</td><td>-163.337</td><td>2022-07-17 10:48:12</td></tr><tr><td>Antarctica (the territory South of 60 deg S)</td><td>9117</td><td>-88.4642</td><td>-171.061</td><td>2018-08-02 03:26:24</td></tr><tr><td>Antarctica (the territory South of 60 deg S)</td><td>7090</td><td>-62.92</td><td>-63.7974</td><td>2022-01-08 18:53:52</td></tr><tr><td>Heard Island and McDonald Islands</td><td>7206</td><td>-69.8132</td><td>-173.161</td><td>2020-08-19 02:53:12</td></tr><tr><td>Lao People's Democratic Republic</td><td>8058</td><td>-45.8033</td><td>-140.37</td><td>2018-08-05 01:23:40</td></tr><tr><td>Heard Island and McDonald Islands</td><td>7631</td><td>54.4122</td><td>130.428</td><td>2021-12-15 22:42:25</td></tr><tr><td>Saint Vincent and the Grenadines</td><td>7958</td><td>-72.3686</td><td>174.831</td><td>2021-02-26 21:03:00</td></tr><tr><td>Saint Vincent and the Grenadines</td><td>2301</td><td>13.4683</td><td>51.7244</td><td>2020-11-14 00:25:28</td></tr><tr><td>Holy See (Vatican City State)</td><td>7180</td><td>-22.7118</td><td>-167.739</td><td>2018-04-22 21:33:50</td></tr><tr><td>Svalbard & Jan Mayen Islands</td><td>10204</td><td>-14.3257</td><td>26.9087</td><td>2020-04-06 02:56:29</td></tr><tr><td>Svalbard & Jan Mayen Islands</td><td>10204</td><td>-14.3257</td><td>26.9087</td><td>2020-04-06 02:56:29</td></tr><tr><td>United States Virgin Islands</td><td>7718</td><td>-21.4347</td><td>108.416</td><td>2022-08-10 06:57:29</td></tr><tr><td>Falkland Islands (Malvinas)</td><td>4186</td><td>-72.0557</td><td>-5.16099</td><td>2018-09-10 12:52:21</td></tr><tr><td>United States Virgin Islands</td><td>2297</td><td>28.1985</td><td>-94.6501</td><td>2021-10-04 19:45:54</td></tr><tr><td>United States Virgin Islands</td><td>7600</td><td>13.9054</td><td>-166.411</td><td>2019-10-14 10:12:49</td></tr><tr><td>French Southern Territories</td><td>6014</td><td>-26.6026</td><td>155.206</td><td>2019-04-30 12:33:13</td></tr><tr><td>French Southern Territories</td><td>813</td><td>-70.9146</td><td>-136.554</td><td>2022-06-13 23:08:43</td></tr><tr><td>Svalbard & Jan Mayen Islands</td><td>974</td><td>-56.9556</td><td>94.6183</td><td>2022-03-17 09:24:07</td></tr><tr><td>Bouvet Island (Bouvetoya)</td><td>10369</td><td>-79.0994</td><td>-101.415</td><td>2020-02-01 10:43:06</td></tr><tr><td>United States Virgin Islands</td><td>204</td><td>29.2096</td><td>-13.1258</td><td>2018-11-23 15:01:11</td></tr><tr><td>Bouvet Island (Bouvetoya)</td><td>8677</td><td>-84.3984</td><td>-144.933</td><td>2020-02-12 23:24:01</td></tr><tr><td>Bouvet Island (Bouvetoya)</td><td>9270</td><td>-84.3984</td><td>-144.933</td><td>2022-05-23 03:24:24</td></tr><tr><td>Bouvet Island (Bouvetoya)</td><td>2465</td><td>-57.1033</td><td>-29.6301</td><td>2022-07-23 11:15:09</td></tr><tr><td>Bouvet Island (Bouvetoya)</td><td>3185</td><td>-88.4607</td><td>-154.638</td><td>2022-06-14 09:39:11</td></tr><tr><td>Bouvet Island (Bouvetoya)</td><td>8251</td><td>-0.165781</td><td>-62.325</td><td>2022-02-03 11:05:11</td></tr><tr><td>Slovakia (Slovak Republic)</td><td>10513</td><td>25.2981</td><td>143.877</td><td>2021-05-30 01:56:22</td></tr><tr><td>Falkland Islands (Malvinas)</td><td>2226</td><td>3.38121</td><td>89.7473</td><td>2018-10-14 11:54:15</td></tr><tr><td>Bouvet Island (Bouvetoya)</td><td>4348</td><td>-81.2924</td><td>-145.407</td><td>2019-04-06 17:59:09</td></tr><tr><td>Bouvet Island (Bouvetoya)</td><td>4574</td><td>-81.2924</td><td>-145.407</td><td>2019-02-22 15:04:43</td></tr><tr><td>Saint Pierre and Miquelon</td><td>7258</td><td>-39.2432</td><td>-46.5562</td><td>2022-08-06 15:17:24</td></tr><tr><td>Cocos (Keeling) Islands</td><td>10794</td><td>-89.5236</td><td>-154.567</td><td>2022-01-01 02:26:50</td></tr><tr><td>Central African Republic</td><td>10052</td><td>14.7195</td><td>-130.921</td><td>2020-01-03 01:10:57</td></tr><tr><td>Bouvet Island (Bouvetoya)</td><td>6660</td><td>-54.5264</td><td>73.4883</td><td>2019-02-01 11:00:19</td></tr><tr><td>Saint Pierre and Miquelon</td><td>7370</td><td>-24.2107</td><td>138.463</td><td>2018-04-05 08:02:42</td></tr><tr><td>Cocos (Keeling) Islands</td><td>10020</td><td>-88.6883</td><td>-86.0607</td><td>2021-08-22 19:54:37</td></tr><tr><td>Bouvet Island (Bouvetoya)</td><td>9935</td><td>-88.516</td><td>-178.811</td><td>2022-02-04 05:27:15</td></tr><tr><td>Saint Pierre and Miquelon</td><td>6740</td><td>-19.6583</td><td>90.4449</td><td>2022-09-29 22:58:19</td></tr><tr><td>Central African Republic</td><td>6906</td><td>-88.5425</td><td>-157.374</td><td>2019-07-12 06:22:04</td></tr><tr><td>Slovakia (Slovak Republic)</td><td>5084</td><td>87.8011</td><td>53.0249</td><td>2022-01-06 22:16:07</td></tr><tr><td>Central African Republic</td><td>7209</td><td>-88.5425</td><td>-157.374</td><td>2020-02-12 11:09:50</td></tr><tr><td>British Virgin Islands</td><td>10602</td><td>-63.6447</td><td>-132.968</td><td>2018-03-05 12:50:32</td></tr><tr><td>United States of America</td><td>3979</td><td>-8.70075</td><td>74.2723</td><td>2021-12-30 14:26:47</td></tr><tr><td>Central African Republic</td><td>6937</td><td>-56.979</td><td>-117.695</td><td>2018-02-19 01:15:16</td></tr><tr><td>Turks and Caicos Islands</td><td>8946</td><td>-46.8006</td><td>89.0235</td><td>2021-04-23 02:37:41</td></tr><tr><td>Central African Republic</td><td>5322</td><td>79.7391</td><td>-99.0832</td><td>2018-10-04 09:40:58</td></tr><tr><td>Cocos (Keeling) Islands</td><td>9582</td><td>-88.6883</td><td>-86.0607</td><td>2018-05-29 08:25:00</td></tr><tr><td>Cocos (Keeling) Islands</td><td>5570</td><td>-86.2425</td><td>-175.734</td><td>2021-06-18 12:44:59</td></tr><tr><td>Central African Republic</td><td>612</td><td>-18.2471</td><td>-145.687</td><td>2022-09-05 05:10:23</td></tr><tr><td>Central African Republic</td><td>2074</td><td>-52.3213</td><td>-50.11</td><td>2019-11-03 05:41:59</td></tr><tr><td>British Virgin Islands</td><td>2293</td><td>-87.7946</td><td>-159.647</td><td>2022-03-21 10:46:53</td></tr><tr><td>British Virgin Islands</td><td>3824</td><td>-82.4276</td><td>-170.019</td><td>2018-10-28 19:22:34</td></tr><tr><td>Bosnia and Herzegovina</td><td>2553</td><td>-77.5565</td><td>-152.042</td><td>2022-01-05 11:05:38</td></tr><tr><td>British Virgin Islands</td><td>5395</td><td>-6.93422</td><td>-24.9989</td><td>2020-08-15 19:30:19</td></tr><tr><td>British Virgin Islands</td><td>8120</td><td>-59.1209</td><td>-93.9878</td><td>2022-02-07 04:10:37</td></tr><tr><td>Bosnia and Herzegovina</td><td>2795</td><td>-40.1415</td><td>-34.2076</td><td>2018-10-02 02:16:48</td></tr><tr><td>Turks and Caicos Islands</td><td>4892</td><td>55.2428</td><td>94.8432</td><td>2020-12-18 21:19:13</td></tr><tr><td>Cocos (Keeling) Islands</td><td>1188</td><td>-32.5999</td><td>18.3353</td><td>2019-02-20 19:38:32</td></tr><tr><td>Cocos (Keeling) Islands</td><td>4651</td><td>42.3157</td><td>-56.7178</td><td>2020-05-06 16:03:39</td></tr><tr><td>United States of America</td><td>8732</td><td>85.718</td><td>-25.2438</td><td>2022-03-06 12:41:07</td></tr><tr><td>British Virgin Islands</td><td>2337</td><td>-87.7946</td><td>-159.647</td><td>2019-08-22 16:11:41</td></tr><tr><td>British Virgin Islands</td><td>2206</td><td>-72.8879</td><td>-131.966</td><td>2022-08-15 23:33:00</td></tr><tr><td>Saint Kitts and Nevis</td><td>10663</td><td>-27.3474</td><td>-162.83</td><td>2019-07-25 18:53:51</td></tr><tr><td>Sao Tome and Principe</td><td>5293</td><td>-13.1463</td><td>-25.9649</td><td>2019-05-31 20:49:36</td></tr><tr><td>Sao Tome and Principe</td><td>9426</td><td>-29.8646</td><td>-78.1449</td><td>2021-06-30 02:14:47</td></tr><tr><td>Libyan Arab Jamahiriya</td><td>1857</td><td>21.2186</td><td>-40.6656</td><td>2018-05-10 13:51:40</td></tr><tr><td>Saint Kitts and Nevis</td><td>4925</td><td>-27.7949</td><td>-15.1704</td><td>2018-12-08 06:53:23</td></tr><tr><td>Palestinian Territory</td><td>8255</td><td>-73.5682</td><td>-168.842</td><td>2020-09-29 11:37:01</td></tr><tr><td>United States of America</td><td>8309</td><td>75.447</td><td>62.1468</td><td>2019-05-14 19:32:10</td></tr><tr><td>Bosnia and Herzegovina</td><td>228</td><td>-32.3508</td><td>-114.656</td><td>2021-01-15 17:47:34</td></tr><tr><td>Bosnia and Herzegovina</td><td>8977</td><td>-80.2967</td><td>-166.23</td><td>2021-07-05 00:38:13</td></tr><tr><td>Palestinian Territory</td><td>10319</td><td>45.3368</td><td>-145.879</td><td>2021-01-04 02:21:08</td></tr><tr><td>Libyan Arab Jamahiriya</td><td>1170</td><td>56.1198</td><td>20.2963</td><td>2019-08-07 22:17:07</td></tr><tr><td>British Virgin Islands</td><td>9550</td><td>-84.918</td><td>7.23235</td><td>2022-03-23 00:25:45</td></tr><tr><td>Bosnia and Herzegovina</td><td>2161</td><td>65.064</td><td>-26.9196</td><td>2019-07-18 22:30:21</td></tr><tr><td>Palestinian Territory</td><td>791</td><td>-52.9336</td><td>-85.6876</td><td>2018-09-09 22:08:16</td></tr><tr><td>Antigua and Barbuda</td><td>7922</td><td>-88.0974</td><td>-172.052</td><td>2021-01-27 09:14:19</td></tr><tr><td>Antigua and Barbuda</td><td>8606</td><td>-88.0974</td><td>-172.052</td><td>2021-03-28 14:54:07</td></tr><tr><td>Antigua and Barbuda</td><td>2604</td><td>-80.8933</td><td>-104.972</td><td>2018-12-01 09:23:35</td></tr><tr><td>Antigua and Barbuda</td><td>2048</td><td>-89.4008</td><td>-142.186</td><td>2017-11-20 06:33:50</td></tr><tr><td>Antigua and Barbuda</td><td>2048</td><td>-89.4008</td><td>-142.186</td><td>2017-11-20 06:33:50</td></tr><tr><td>Netherlands Antilles</td><td>1324</td><td>-10.2532</td><td>-124.71</td><td>2019-10-28 01:24:28</td></tr><tr><td>Antigua and Barbuda</td><td>9665</td><td>-54.2967</td><td>-115.789</td><td>2019-07-02 12:20:26</td></tr><tr><td>Antigua and Barbuda</td><td>5106</td><td>-41.6096</td><td>-17.9408</td><td>2019-11-05 04:24:06</td></tr><tr><td>Bosnia and Herzegovina</td><td>8146</td><td>43.735</td><td>6.26956</td><td>2022-08-17 20:56:45</td></tr><tr><td>Netherlands Antilles</td><td>603</td><td>14.0083</td><td>-141.603</td><td>2019-06-25 05:13:01</td></tr><tr><td>Antigua and Barbuda</td><td>2955</td><td>23.7768</td><td>-23.4838</td><td>2022-10-11 17:21:06</td></tr><tr><td>Antigua and Barbuda</td><td>450</td><td>-81.0108</td><td>-165.206</td><td>2018-09-28 05:43:18</td></tr><tr><td>Antigua and Barbuda</td><td>310</td><td>-81.0108</td><td>-165.206</td><td>2021-01-25 22:22:37</td></tr><tr><td>Dominican Republic</td><td>5911</td><td>-63.6774</td><td>-118.407</td><td>2020-11-04 03:19:21</td></tr><tr><td>Dominican Republic</td><td>5317</td><td>-72.2358</td><td>-119.449</td><td>2021-02-21 20:35:38</td></tr><tr><td>Dominican Republic</td><td>3884</td><td>-56.7762</td><td>-130.132</td><td>2021-03-02 08:38:33</td></tr><tr><td>Antigua and Barbuda</td><td>5460</td><td>-56.1614</td><td>7.19803</td><td>2022-04-25 15:02:37</td></tr><tr><td>Antigua and Barbuda</td><td>310</td><td>-81.0108</td><td>-165.206</td><td>2021-01-25 22:22:37</td></tr><tr><td>Dominican Republic</td><td>5911</td><td>-63.6774</td><td>-118.407</td><td>2020-11-04 03:19:21</td></tr><tr><td>Dominican Republic</td><td>9979</td><td>14.9967</td><td>-120.682</td><td>2018-07-18 19:01:46</td></tr><tr><td>Christmas Island</td><td>10119</td><td>-74.5431</td><td>-162.795</td><td>2020-10-22 01:59:58</td></tr><tr><td>Trinidad and Tobago</td><td>2060</td><td>52.4584</td><td>68.6527</td><td>2020-01-25 13:54:17</td></tr><tr><td>Wallis and Futuna</td><td>6615</td><td>-25.2428</td><td>-32.8992</td><td>2022-01-31 18:53:34</td></tr><tr><td>Antigua and Barbuda</td><td>74</td><td>-81.0108</td><td>-165.206</td><td>2020-01-29 14:03:35</td></tr><tr><td>Equatorial Guinea</td><td>10248</td><td>-31.9615</td><td>161.151</td><td>2019-11-03 15:11:00</td></tr><tr><td>Brunei Darussalam</td><td>2904</td><td>-35.6673</td><td>-173.786</td><td>2022-03-17 06:29:33</td></tr><tr><td>Antigua and Barbuda</td><td>1972</td><td>2.58949</td><td>111.716</td><td>2022-06-19 09:31:02</td></tr><tr><td>Antigua and Barbuda</td><td>9533</td><td>18.632</td><td>-179.847</td><td>2018-07-20 01:00:43</td></tr><tr><td>Saint Kitts and Nevis</td><td>5978</td><td>26.749</td><td>127.37</td><td>2020-06-27 23:54:35</td></tr><tr><td>Brunei Darussalam</td><td>5763</td><td>-5.58912</td><td>-18.8417</td><td>2021-10-10 09:15:43</td></tr><tr><td>Christmas Island</td><td>10119</td><td>-74.5431</td><td>-162.795</td><td>2020-10-22 01:59:58</td></tr><tr><td>Antigua and Barbuda</td><td>5357</td><td>56.8317</td><td>90.6551</td><td>2018-03-01 04:28:29</td></tr><tr><td>Christmas Island</td><td>1704</td><td>-56.8702</td><td>-93.6232</td><td>2018-11-29 04:46:39</td></tr><tr><td>Marshall Islands</td><td>6261</td><td>-10.3101</td><td>-109.763</td><td>2021-11-11 16:18:45</td></tr><tr><td>Christmas Island</td><td>10337</td><td>-42.3069</td><td>-109.17</td><td>2021-10-26 12:09:43</td></tr><tr><td>Solomon Islands</td><td>10917</td><td>-86.2944</td><td>-11.7821</td><td>2019-08-18 13:14:30</td></tr><tr><td>Dominican Republic</td><td>6575</td><td>81.7192</td><td>61.5152</td><td>2020-12-29 22:59:37</td></tr><tr><td>Equatorial Guinea</td><td>7271</td><td>37.8447</td><td>-98.2389</td><td>2022-06-02 07:28:41</td></tr><tr><td>Brunei Darussalam</td><td>4210</td><td>67.6263</td><td>-102.631</td><td>2021-08-26 11:24:35</td></tr><tr><td>Marshall Islands</td><td>10026</td><td>-70.8314</td><td>-90.784</td><td>2020-01-01 05:36:44</td></tr><tr><td>French Polynesia</td><td>3175</td><td>-84.8365</td><td>-122.171</td><td>2021-12-08 02:58:18</td></tr><tr><td>Christmas Island</td><td>9969</td><td>-85.0855</td><td>-156.903</td><td>2019-11-02 09:49:59</td></tr><tr><td>Christmas Island</td><td>4757</td><td>-79.9806</td><td>-112.824</td><td>2019-12-13 12:56:24</td></tr><tr><td>French Polynesia</td><td>3175</td><td>-84.8365</td><td>-122.171</td><td>2021-12-08 02:58:18</td></tr><tr><td>French Polynesia</td><td>4634</td><td>-50.8134</td><td>-160.465</td><td>2018-02-21 20:46:48</td></tr><tr><td>Pitcairn Islands</td><td>3201</td><td>34.0532</td><td>-68.4946</td><td>2019-06-25 08:31:37</td></tr><tr><td>Saint Barthelemy</td><td>3563</td><td>-77.3153</td><td>-69.505</td><td>2018-09-05 07:40:01</td></tr><tr><td>Solomon Islands</td><td>6916</td><td>-73.9714</td><td>-119.315</td><td>2020-04-26 04:12:09</td></tr><tr><td>Saint Barthelemy</td><td>6747</td><td>-63.5213</td><td>141.538</td><td>2019-04-23 08:01:32</td></tr><tr><td>French Polynesia</td><td>8004</td><td>44.8017</td><td>-151.313</td><td>2017-10-20 09:27:16</td></tr><tr><td>Kyrgyz Republic</td><td>10908</td><td>-37.8211</td><td>153.935</td><td>2020-07-31 13:10:52</td></tr><tr><td>Pitcairn Islands</td><td>2861</td><td>34.0532</td><td>-68.4946</td><td>2022-01-05 21:36:25</td></tr><tr><td>Papua New Guinea</td><td>7790</td><td>-43.692</td><td>64.9839</td><td>2018-07-31 08:19:15</td></tr><tr><td>American Samoa</td><td>9759</td><td>-77.9744</td><td>-106.258</td><td>2017-12-30 13:05:49</td></tr><tr><td>American Samoa</td><td>1422</td><td>-88.5252</td><td>-172.436</td><td>2018-04-30 08:27:21</td></tr><tr><td>American Samoa</td><td>8312</td><td>-77.9744</td><td>-106.258</td><td>2021-04-25 15:56:29</td></tr><tr><td>American Samoa</td><td>1450</td><td>-88.5252</td><td>-172.436</td><td>2022-01-15 16:04:27</td></tr><tr><td>American Samoa</td><td>9268</td><td>-88.5255</td><td>-161.644</td><td>2020-03-16 23:13:51</td></tr><tr><td>American Samoa</td><td>8886</td><td>-88.2286</td><td>-178.919</td><td>2022-01-16 10:17:16</td></tr><tr><td>American Samoa</td><td>4045</td><td>-89.3099</td><td>-166.033</td><td>2018-03-11 23:01:08</td></tr><tr><td>American Samoa</td><td>3626</td><td>-89.3099</td><td>-166.033</td><td>2021-05-31 08:12:00</td></tr><tr><td>Cayman Islands</td><td>10087</td><td>38.7097</td><td>-70.0495</td><td>2018-12-10 17:17:32</td></tr><tr><td>American Samoa</td><td>9407</td><td>-68.8926</td><td>-164.968</td><td>2022-03-05 17:22:15</td></tr><tr><td>American Samoa</td><td>3032</td><td>-66.7253</td><td>-122.489</td><td>2018-04-14 09:28:18</td></tr><tr><td>American Samoa</td><td>2759</td><td>-66.7253</td><td>-122.489</td><td>2022-02-20 11:53:20</td></tr><tr><td>Czech Republic</td><td>9718</td><td>-76.4505</td><td>-161.588</td><td>2021-11-25 04:36:47</td></tr><tr><td>American Samoa</td><td>2025</td><td>-88.5252</td><td>-172.436</td><td>2021-11-08 16:23:39</td></tr><tr><td>American Samoa</td><td>4251</td><td>-89.3099</td><td>-166.033</td><td>2018-09-24 23:24:26</td></tr><tr><td>American Samoa</td><td>9808</td><td>-77.9744</td><td>-106.258</td><td>2018-02-27 14:43:59</td></tr><tr><td>American Samoa</td><td>8612</td><td>-81.8896</td><td>-153.897</td><td>2022-04-09 09:20:15</td></tr><tr><td>American Samoa</td><td>8700</td><td>-88.5255</td><td>-161.644</td><td>2019-03-15 15:32:15</td></tr><tr><td>Faroe Islands</td><td>4505</td><td>0.0485475</td><td>-16.5635</td><td>2018-06-20 22:11:03</td></tr><tr><td>American Samoa</td><td>7889</td><td>-33.1771</td><td>-171.869</td><td>2021-04-13 10:36:07</td></tr><tr><td>American Samoa</td><td>8843</td><td>-88.5255</td><td>-161.644</td><td>2020-10-12 16:19:20</td></tr><tr><td>American Samoa</td><td>4045</td><td>-89.3099</td><td>-166.033</td><td>2018-03-11 23:01:08</td></tr><tr><td>American Samoa</td><td>1469</td><td>-81.8896</td><td>-153.897</td><td>2018-09-28 00:59:30</td></tr><tr><td>American Samoa</td><td>8561</td><td>-81.8896</td><td>-153.897</td><td>2019-09-07 20:08:45</td></tr><tr><td>American Samoa</td><td>1379</td><td>-88.5252</td><td>-172.436</td><td>2018-05-26 03:05:20</td></tr><tr><td>American Samoa</td><td>3647</td><td>-89.3099</td><td>-166.033</td><td>2018-11-27 04:18:51</td></tr><tr><td>American Samoa</td><td>3480</td><td>-89.3099</td><td>-166.033</td><td>2018-04-10 08:49:49</td></tr><tr><td>Papua New Guinea</td><td>4381</td><td>-73.112</td><td>166.935</td><td>2018-10-24 00:08:30</td></tr><tr><td>Papua New Guinea</td><td>7790</td><td>-43.692</td><td>64.9839</td><td>2018-07-31 08:19:15</td></tr><tr><td>Guinea-Bissau</td><td>10505</td><td>-79.0714</td><td>-109.728</td><td>2021-08-04 07:22:36</td></tr><tr><td>Cote d'Ivoire</td><td>2923</td><td>-84.6302</td><td>-164.507</td><td>2019-09-08 22:53:09</td></tr><tr><td>Czech Republic</td><td>4862</td><td>-65.3198</td><td>-123.45</td><td>2021-07-17 05:01:31</td></tr><tr><td>Solomon Islands</td><td>334</td><td>-42.0076</td><td>32.8769</td><td>2021-11-06 04:13:00</td></tr><tr><td>Cote d'Ivoire</td><td>5527</td><td>-74.0172</td><td>-109.979</td><td>2022-06-03 09:49:02</td></tr><tr><td>American Samoa</td><td>637</td><td>-41.2244</td><td>-158.022</td><td>2018-06-06 01:25:58</td></tr><tr><td>Burkina Faso</td><td>10321</td><td>-89.1005</td><td>-151.255</td><td>2022-10-09 08:06:50</td></tr><tr><td>American Samoa</td><td>781</td><td>-86.4433</td><td>-178.772</td><td>2021-02-27 23:30:48</td></tr><tr><td>American Samoa</td><td>570</td><td>-86.4433</td><td>-178.772</td><td>2019-05-21 00:12:37</td></tr><tr><td>American Samoa</td><td>155</td><td>-86.4433</td><td>-178.772</td><td>2021-06-01 07:43:02</td></tr><tr><td>American Samoa</td><td>2354</td><td>-75.8862</td><td>-111.36</td><td>2022-01-30 05:53:41</td></tr><tr><td>Kyrgyz Republic</td><td>4122</td><td>53.8438</td><td>5.89482</td><td>2021-04-03 21:48:54</td></tr><tr><td>American Samoa</td><td>925</td><td>-88.5252</td><td>-172.436</td><td>2018-02-02 19:41:14</td></tr><tr><td>American Samoa</td><td>6021</td><td>-69.1371</td><td>151.933</td><td>2021-07-25 21:41:11</td></tr><tr><td>American Samoa</td><td>385</td><td>-88.5252</td><td>-172.436</td><td>2017-12-30 19:35:54</td></tr><tr><td>American Samoa</td><td>155</td><td>-86.4433</td><td>-178.772</td><td>2021-06-01 07:43:02</td></tr><tr><td>Czech Republic</td><td>5497</td><td>-84.8278</td><td>-4.7503</td><td>2018-09-10 22:55:37</td></tr><tr><td>Czech Republic</td><td>5231</td><td>-84.8278</td><td>-4.7503</td><td>2021-01-03 15:19:31</td></tr><tr><td>American Samoa</td><td>1963</td><td>-85.7998</td><td>-109.58</td><td>2022-04-08 09:55:41</td></tr><tr><td>Norfolk Island</td><td>6781</td><td>63.0387</td><td>-69.2727</td><td>2021-02-02 21:27:49</td></tr><tr><td>Guinea-Bissau</td><td>10300</td><td>-22.5949</td><td>-65.081</td><td>2021-09-12 08:22:08</td></tr><tr><td>French Guiana</td><td>8304</td><td>-28.8852</td><td>-164.87</td><td>2019-09-13 04:50:29</td></tr><tr><td>Cote d'Ivoire</td><td>4315</td><td>-45.8508</td><td>66.1003</td><td>2019-12-15 03:51:28</td></tr><tr><td>Guinea-Bissau</td><td>8578</td><td>34.6427</td><td>-161.397</td><td>2018-01-26 19:27:11</td></tr><tr><td>New Caledonia</td><td>6844</td><td>-22.6915</td><td>5.69245</td><td>2021-06-06 21:53:11</td></tr><tr><td>Faroe Islands</td><td>8978</td><td>-2.01499</td><td>3.78198</td><td>2017-12-01 13:26:06</td></tr><tr><td>Isle of Man</td><td>10120</td><td>-55.1562</td><td>-122.854</td><td>2022-03-10 07:02:32</td></tr><tr><td>Faroe Islands</td><td>5620</td><td>-53.6087</td><td>-121.68</td><td>2021-02-18 12:34:44</td></tr><tr><td>French Guiana</td><td>3660</td><td>-85.2885</td><td>6.96501</td><td>2018-10-23 21:26:01</td></tr><tr><td>Afghanistan</td><td>10783</td><td>-71.4881</td><td>-117.355</td><td>2020-01-28 00:13:29</td></tr><tr><td>French Guiana</td><td>456</td><td>-63.2737</td><td>-163.515</td><td>2018-05-17 18:00:51</td></tr><tr><td>Saint Martin</td><td>1694</td><td>-32.6594</td><td>-62.5204</td><td>2022-07-14 11:09:10</td></tr><tr><td>Norfolk Island</td><td>4396</td><td>15.0521</td><td>51.8958</td><td>2021-03-18 10:05:16</td></tr><tr><td>Liechtenstein</td><td>7952</td><td>-38.428</td><td>-68.0234</td><td>2020-11-28 08:11:22</td></tr><tr><td>Guinea-Bissau</td><td>9530</td><td>-22.5949</td><td>-65.081</td><td>2021-06-20 12:16:53</td></tr><tr><td>Czech Republic</td><td>2403</td><td>12.4979</td><td>178.574</td><td>2019-10-03 03:36:09</td></tr><tr><td>Liechtenstein</td><td>7537</td><td>57.5347</td><td>-129.946</td><td>2020-06-01 18:04:11</td></tr><tr><td>Liechtenstein</td><td>7031</td><td>62.7213</td><td>-111.563</td><td>2018-03-25 09:15:16</td></tr><tr><td>Burkina Faso</td><td>7914</td><td>-45.8257</td><td>-8.67928</td><td>2022-04-07 23:58:08</td></tr><tr><td>New Caledonia</td><td>10068</td><td>13.8681</td><td>169.303</td><td>2020-03-21 11:24:52</td></tr><tr><td>Afghanistan</td><td>3599</td><td>-88.5478</td><td>-174.971</td><td>2019-03-03 06:13:41</td></tr><tr><td>Afghanistan</td><td>7268</td><td>-88.3754</td><td>-164.273</td><td>2019-12-11 14:05:18</td></tr><tr><td>Afghanistan</td><td>4256</td><td>-88.5478</td><td>-174.971</td><td>2018-10-10 17:57:16</td></tr><tr><td>Afghanistan</td><td>10099</td><td>-89.4261</td><td>-171.58</td><td>2020-12-24 13:33:03</td></tr><tr><td>Burkina Faso</td><td>8174</td><td>-66.6708</td><td>-110.47</td><td>2018-10-20 17:28:23</td></tr><tr><td>Turkmenistan</td><td>9527</td><td>-38.4443</td><td>170.601</td><td>2021-11-17 07:50:58</td></tr><tr><td>New Caledonia</td><td>744</td><td>-76.8074</td><td>58.7517</td><td>2019-08-28 15:03:13</td></tr><tr><td>Afghanistan</td><td>7801</td><td>-75.9161</td><td>-27.6285</td><td>2017-11-18 22:54:58</td></tr><tr><td>Netherlands</td><td>6717</td><td>-58.7512</td><td>-162.324</td><td>2022-09-07 16:35:00</td></tr><tr><td>Bangladesh</td><td>10425</td><td>-89.4254</td><td>-161.818</td><td>2022-03-30 21:28:40</td></tr><tr><td>Afghanistan</td><td>4424</td><td>-85.7989</td><td>-150.644</td><td>2021-05-18 02:48:52</td></tr><tr><td>Afghanistan</td><td>3831</td><td>-88.5478</td><td>-174.971</td><td>2018-07-22 21:46:59</td></tr><tr><td>Afghanistan</td><td>6602</td><td>-88.0192</td><td>-169.911</td><td>2019-06-06 07:40:48</td></tr><tr><td>South Africa</td><td>10804</td><td>69.9913</td><td>170.373</td><td>2020-04-05 04:16:50</td></tr><tr><td>Afghanistan</td><td>9198</td><td>-12.1295</td><td>-29.9199</td><td>2019-04-07 22:11:02</td></tr><tr><td>Afghanistan</td><td>4249</td><td>-88.5478</td><td>-174.971</td><td>2021-09-01 11:10:02</td></tr><tr><td>El Salvador</td><td>7961</td><td>-25.6526</td><td>-170.677</td><td>2018-02-22 05:12:04</td></tr><tr><td>Afghanistan</td><td>4245</td><td>-88.5478</td><td>-174.971</td><td>2018-01-24 03:15:26</td></tr><tr><td>Afghanistan</td><td>3352</td><td>-84.5322</td><td>-179.647</td><td>2018-11-28 20:01:55</td></tr><tr><td>Afghanistan</td><td>7285</td><td>-88.3754</td><td>-164.273</td><td>2018-12-08 09:53:32</td></tr><tr><td>Afghanistan</td><td>3896</td><td>-88.5478</td><td>-174.971</td><td>2020-10-01 22:49:42</td></tr><tr><td>Afghanistan</td><td>8315</td><td>-87.8179</td><td>-178.525</td><td>2018-10-03 00:29:49</td></tr><tr><td>Afghanistan</td><td>7902</td><td>-87.8179</td><td>-178.525</td><td>2022-04-13 15:57:13</td></tr><tr><td>Afghanistan</td><td>4585</td><td>-75.7662</td><td>-171.892</td><td>2021-12-05 18:36:27</td></tr><tr><td>Faroe Islands</td><td>4590</td><td>-70.8231</td><td>62.688</td><td>2021-12-15 01:16:31</td></tr><tr><td>Afghanistan</td><td>8282</td><td>-87.8179</td><td>-178.525</td><td>2022-10-11 08:19:45</td></tr><tr><td>Puerto Rico</td><td>2447</td><td>-53.9666</td><td>-0.87653</td><td>2021-11-27 04:12:27</td></tr><tr><td>Afghanistan</td><td>7154</td><td>-88.3754</td><td>-164.273</td><td>2022-03-26 23:36:54</td></tr><tr><td>Cote d'Ivoire</td><td>9791</td><td>62.1818</td><td>80.6331</td><td>2022-09-12 04:27:50</td></tr><tr><td>Burkina Faso</td><td>7752</td><td>-66.6708</td><td>-110.47</td><td>2019-08-04 08:10:47</td></tr><tr><td>Afghanistan</td><td>3717</td><td>-88.5478</td><td>-174.971</td><td>2019-05-20 06:15:42</td></tr><tr><td>Azerbaijan</td><td>10253</td><td>-89.3669</td><td>-170.886</td><td>2018-03-07 12:37:25</td></tr><tr><td>Philippines</td><td>10500</td><td>-84.9984</td><td>155.706</td><td>2019-06-16 10:28:02</td></tr><tr><td>Afghanistan</td><td>8509</td><td>-12.1295</td><td>-29.9199</td><td>2019-01-16 20:04:11</td></tr><tr><td>Cote d'Ivoire</td><td>1473</td><td>1.54969</td><td>92.6435</td><td>2021-08-11 20:54:01</td></tr><tr><td>Afghanistan</td><td>3239</td><td>-78.0893</td><td>-57.1052</td><td>2019-10-22 00:54:29</td></tr><tr><td>Afghanistan</td><td>3475</td><td>-88.5478</td><td>-174.971</td><td>2018-01-20 01:58:54</td></tr><tr><td>Saint Helena</td><td>443</td><td>-53.7383</td><td>-86.0636</td><td>2017-12-28 04:23:13</td></tr><tr><td>Azerbaijan</td><td>5069</td><td>-63.0063</td><td>-157.474</td><td>2021-03-20 09:32:44</td></tr><tr><td>Mozambique</td><td>6145</td><td>-65.9079</td><td>-143.845</td><td>2019-12-05 02:09:44</td></tr><tr><td>Philippines</td><td>4508</td><td>69.1858</td><td>-76.0761</td><td>2019-01-04 11:15:27</td></tr><tr><td>Madagascar</td><td>4988</td><td>-32.1879</td><td>-35.2784</td><td>2020-07-11 11:01:12</td></tr><tr><td>Isle of Man</td><td>427</td><td>-66.9418</td><td>-30.0087</td><td>2020-04-22 03:08:50</td></tr><tr><td>Azerbaijan</td><td>5758</td><td>-79.3714</td><td>-145.242</td><td>2018-09-12 15:08:34</td></tr><tr><td>Guadeloupe</td><td>6558</td><td>-26.4944</td><td>-174.009</td><td>2019-09-08 03:27:31</td></tr><tr><td>Saint Helena</td><td>1521</td><td>24.5192</td><td>64.9674</td><td>2022-10-12 14:03:26</td></tr><tr><td>Bangladesh</td><td>1814</td><td>-82.3274</td><td>-122.209</td><td>2020-04-25 10:16:28</td></tr><tr><td>Bangladesh</td><td>6348</td><td>-76.8013</td><td>-28.1091</td><td>2019-07-30 01:45:14</td></tr><tr><td>New Zealand</td><td>8505</td><td>63.1367</td><td>-61.1867</td><td>2018-07-13 22:57:41</td></tr><tr><td>El Salvador</td><td>4654</td><td>-77.816</td><td>-168.413</td><td>2020-06-22 16:43:58</td></tr><tr><td>Guinea-Bissau</td><td>2315</td><td>17.806</td><td>-1.9042</td><td>2019-06-05 08:54:04</td></tr><tr><td>Bangladesh</td><td>6809</td><td>-89.4254</td><td>-161.818</td><td>2020-04-17 13:20:43</td></tr><tr><td>Luxembourg</td><td>3504</td><td>-49.3653</td><td>-110.641</td><td>2021-08-19 00:41:47</td></tr><tr><td>Afghanistan</td><td>1786</td><td>33.2467</td><td>-132.693</td><td>2018-05-15 13:12:23</td></tr><tr><td>Cape Verde</td><td>1308</td><td>-84.8196</td><td>-76.5704</td><td>2021-05-24 13:17:12</td></tr><tr><td>Costa Rica</td><td>6276</td><td>-25.6124</td><td>-79.4675</td><td>2022-04-02 10:32:04</td></tr><tr><td>Turkmenistan</td><td>4670</td><td>3.12721</td><td>24.4592</td><td>2021-09-28 23:26:00</td></tr><tr><td>Bangladesh</td><td>2041</td><td>-52.0123</td><td>-148.446</td><td>2022-03-01 18:26:27</td></tr><tr><td>Azerbaijan</td><td>7685</td><td>-50.8291</td><td>-40.8846</td><td>2020-06-07 21:29:34</td></tr><tr><td>Azerbaijan</td><td>9234</td><td>-68.2139</td><td>-44.4492</td><td>2021-07-08 05:58:46</td></tr><tr><td>Cook Islands</td><td>9643</td><td>89.4443</td><td>174.703</td><td>2020-08-06 23:23:24</td></tr><tr><td>Azerbaijan</td><td>2308</td><td>-42.3946</td><td>-149.855</td><td>2020-02-01 13:56:01</td></tr><tr><td>Azerbaijan</td><td>6305</td><td>-89.3669</td><td>-170.886</td><td>2021-05-09 19:54:08</td></tr><tr><td>Afghanistan</td><td>7861</td><td>-39.7124</td><td>25.1539</td><td>2019-02-26 16:20:44</td></tr><tr><td>Afghanistan</td><td>5796</td><td>-89.328</td><td>-175.555</td><td>2020-09-01 12:47:49</td></tr><tr><td>Guadeloupe</td><td>2499</td><td>-69.8437</td><td>-61.9355</td><td>2021-09-22 22:23:13</td></tr><tr><td>Guadeloupe</td><td>2523</td><td>-22.4337</td><td>-96.2152</td><td>2018-07-09 01:36:13</td></tr><tr><td>Afghanistan</td><td>5405</td><td>-89.328</td><td>-175.555</td><td>2019-04-05 14:51:19</td></tr><tr><td>Bangladesh</td><td>5561</td><td>-80.6398</td><td>-57.7465</td><td>2022-06-21 20:46:51</td></tr><tr><td>Saudi Arabia</td><td>1065</td><td>25.4542</td><td>26.6371</td><td>2018-09-27 13:09:39</td></tr><tr><td>Montserrat</td><td>3688</td><td>-64.6183</td><td>-173.527</td><td>2020-12-01 08:22:49</td></tr><tr><td>Switzerland</td><td>8277</td><td>40.4887</td><td>-39.9694</td><td>2021-10-25 06:21:53</td></tr><tr><td>Azerbaijan</td><td>3285</td><td>-42.3946</td><td>-149.855</td><td>2022-07-26 17:05:09</td></tr><tr><td>Burkina Faso</td><td>6586</td><td>53.9251</td><td>105.744</td><td>2017-11-04 07:10:22</td></tr><tr><td>Azerbaijan</td><td>5126</td><td>-32.1812</td><td>-138.244</td><td>2020-04-05 00:40:49</td></tr><tr><td>Madagascar</td><td>7073</td><td>-33.9813</td><td>-128.525</td><td>2021-12-23 13:56:14</td></tr><tr><td>Afghanistan</td><td>660</td><td>-75.7662</td><td>-171.892</td><td>2021-06-01 23:24:07</td></tr><tr><td>Azerbaijan</td><td>3285</td><td>-42.3946</td><td>-149.855</td><td>2022-07-26 17:05:09</td></tr><tr><td>Azerbaijan</td><td>5003</td><td>-89.3669</td><td>-170.886</td><td>2021-11-23 21:14:44</td></tr><tr><td>Azerbaijan</td><td>5117</td><td>-45.4254</td><td>-178.805</td><td>2018-07-31 04:06:21</td></tr><tr><td>Saint Martin</td><td>8083</td><td>68.4336</td><td>-67.038</td><td>2018-07-03 01:16:02</td></tr><tr><td>Bangladesh</td><td>5561</td><td>-80.6398</td><td>-57.7465</td><td>2022-06-21 20:46:51</td></tr><tr><td>Micronesia</td><td>9995</td><td>-9.48888</td><td>-144.585</td><td>2020-02-28 13:18:04</td></tr><tr><td>Bangladesh</td><td>4157</td><td>-27.9758</td><td>-133.082</td><td>2019-03-17 07:31:52</td></tr><tr><td>Azerbaijan</td><td>2908</td><td>-71.2179</td><td>-152.808</td><td>2018-05-05 02:37:55</td></tr><tr><td>Kazakhstan</td><td>9020</td><td>-75.7504</td><td>-120.512</td><td>2021-08-31 12:43:25</td></tr><tr><td>Afghanistan</td><td>3683</td><td>-26.686</td><td>-174.249</td><td>2019-04-01 09:33:55</td></tr><tr><td>Netherlands</td><td>6122</td><td>-72.914</td><td>-87.8294</td><td>2022-07-10 09:28:35</td></tr><tr><td>Bangladesh</td><td>428</td><td>-83.4105</td><td>-150.788</td><td>2020-09-27 18:46:41</td></tr><tr><td>Australia</td><td>7343</td><td>-65.4428</td><td>-161.684</td><td>2018-08-06 12:17:07</td></tr><tr><td>Seychelles</td><td>8653</td><td>48.4569</td><td>-139.658</td><td>2022-04-11 18:30:19</td></tr><tr><td>Isle of Man</td><td>5468</td><td>-83.544</td><td>33.9473</td><td>2020-05-16 23:17:50</td></tr><tr><td>Argentina</td><td>8930</td><td>-89.4739</td><td>-176.154</td><td>2021-09-29 13:25:49</td></tr><tr><td>Australia</td><td>7294</td><td>-76.2967</td><td>-136.501</td><td>2018-02-12 08:06:28</td></tr><tr><td>Montserrat</td><td>771</td><td>-29.1712</td><td>-107.111</td><td>2018-06-21 08:42:57</td></tr><tr><td>Mauritania</td><td>4076</td><td>-67.2157</td><td>27.8139</td><td>2019-06-07 20:13:50</td></tr><tr><td>Gibraltar</td><td>10509</td><td>-67.187</td><td>-24.2977</td><td>2019-03-06 12:21:56</td></tr><tr><td>Australia</td><td>9936</td><td>-82.1715</td><td>-147.691</td><td>2018-06-30 22:07:13</td></tr><tr><td>Cape Verde</td><td>6566</td><td>-39.225</td><td>-71.6593</td><td>2020-11-19 10:06:13</td></tr><tr><td>Isle of Man</td><td>223</td><td>1.15509</td><td>-118.397</td><td>2018-12-07 07:30:40</td></tr><tr><td>Argentina</td><td>2858</td><td>-65.1565</td><td>-166.807</td><td>2018-05-03 13:27:09</td></tr><tr><td>Nicaragua</td><td>10673</td><td>37.1991</td><td>-32.1713</td><td>2021-06-30 08:47:01</td></tr><tr><td>Mozambique</td><td>480</td><td>-30.7158</td><td>-167.461</td><td>2019-02-08 03:34:58</td></tr><tr><td>Guatemala</td><td>5151</td><td>-47.3372</td><td>-151.397</td><td>2020-07-15 01:42:38</td></tr><tr><td>Cape Verde</td><td>3184</td><td>-41.293</td><td>-171.585</td><td>2018-09-25 23:17:46</td></tr><tr><td>Argentina</td><td>1961</td><td>-65.3952</td><td>-175.249</td><td>2022-07-29 18:16:50</td></tr><tr><td>Bangladesh</td><td>680</td><td>-73.1838</td><td>-154.293</td><td>2019-03-29 23:22:56</td></tr><tr><td>Venezuela</td><td>3008</td><td>0.314337</td><td>-58.7666</td><td>2019-07-31 22:36:11</td></tr><tr><td>Puerto Rico</td><td>4377</td><td>-55.7837</td><td>2.5347</td><td>2020-07-18 04:12:10</td></tr><tr><td>Argentina</td><td>5737</td><td>-80.3487</td><td>-178.419</td><td>2020-04-11 11:27:31</td></tr><tr><td>Indonesia</td><td>5704</td><td>-85.9781</td><td>-172.038</td><td>2019-12-31 11:38:29</td></tr><tr><td>Argentina</td><td>8488</td><td>-89.4739</td><td>-176.154</td><td>2017-12-20 03:09:10</td></tr><tr><td>Argentina</td><td>7940</td><td>-87.7034</td><td>-178.422</td><td>2021-11-29 09:13:08</td></tr><tr><td>Bangladesh</td><td>1667</td><td>-83.448</td><td>-147.771</td><td>2022-02-23 16:10:08</td></tr><tr><td>Argentina</td><td>9146</td><td>-89.4739</td><td>-176.154</td><td>2018-08-08 16:20:34</td></tr><tr><td>Mozambique</td><td>7484</td><td>-6.16637</td><td>16.2863</td><td>2021-12-16 20:21:16</td></tr><tr><td>Singapore</td><td>10865</td><td>45.0564</td><td>-115.624</td><td>2019-09-16 04:32:25</td></tr><tr><td>Azerbaijan</td><td>4857</td><td>-39.5852</td><td>-175.96</td><td>2022-09-14 00:06:18</td></tr><tr><td>Argentina</td><td>8854</td><td>-89.4739</td><td>-176.154</td><td>2021-05-24 12:35:37</td></tr><tr><td>Argentina</td><td>7862</td><td>-87.7034</td><td>-178.422</td><td>2019-09-01 19:08:58</td></tr><tr><td>Australia</td><td>8519</td><td>-71.5286</td><td>-122.063</td><td>2019-05-06 20:52:00</td></tr><tr><td>Montserrat</td><td>4816</td><td>-55.559</td><td>-64.4094</td><td>2022-05-12 08:02:36</td></tr><tr><td>Argentina</td><td>9256</td><td>-89.4739</td><td>-176.154</td><td>2019-06-03 10:53:49</td></tr><tr><td>Australia</td><td>1776</td><td>-54.0745</td><td>-21.3922</td><td>2018-11-02 18:29:02</td></tr><tr><td>El Salvador</td><td>909</td><td>-19.8508</td><td>19.7334</td><td>2020-08-21 12:45:03</td></tr><tr><td>Bulgaria</td><td>10570</td><td>-87.6895</td><td>-176.801</td><td>2021-12-29 05:55:33</td></tr><tr><td>Argentina</td><td>7356</td><td>-89.4739</td><td>-176.154</td><td>2018-10-07 01:04:55</td></tr><tr><td>Tajikistan</td><td>924</td><td>-83.1793</td><td>-16.6569</td><td>2022-07-30 11:11:55</td></tr><tr><td>Montserrat</td><td>9123</td><td>53.8446</td><td>-84.5662</td><td>2019-04-30 02:16:32</td></tr><tr><td>Costa Rica</td><td>6386</td><td>-86.2326</td><td>-144.71</td><td>2019-02-24 14:41:20</td></tr><tr><td>Cape Verde</td><td>3052</td><td>-41.293</td><td>-171.585</td><td>2020-12-16 19:51:57</td></tr><tr><td>Bulgaria</td><td>10566</td><td>-65.0348</td><td>-139.576</td><td>2022-08-02 03:56:01</td></tr><tr><td>Indonesia</td><td>5523</td><td>-33.6892</td><td>-71.3189</td><td>2018-10-06 18:24:48</td></tr><tr><td>Australia</td><td>8407</td><td>-4.42914</td><td>-23.6931</td><td>2018-11-14 06:25:25</td></tr><tr><td>Argentina</td><td>8941</td><td>-89.4739</td><td>-176.154</td><td>2019-01-11 22:37:24</td></tr><tr><td>Indonesia</td><td>5523</td><td>-33.6892</td><td>-71.3189</td><td>2018-10-06 18:24:48</td></tr><tr><td>Australia</td><td>6521</td><td>-82.0198</td><td>-155.211</td><td>2020-05-27 11:27:08</td></tr><tr><td>Singapore</td><td>9721</td><td>-17.4568</td><td>-148.686</td><td>2021-11-06 19:42:39</td></tr><tr><td>Bulgaria</td><td>10659</td><td>-87.6895</td><td>-176.801</td><td>2018-06-12 12:29:05</td></tr><tr><td>Azerbaijan</td><td>6680</td><td>-24.8545</td><td>162.173</td><td>2020-09-06 18:52:17</td></tr><tr><td>Argentina</td><td>9402</td><td>-89.4739</td><td>-176.154</td><td>2022-06-15 08:25:16</td></tr><tr><td>Argentina</td><td>5360</td><td>-87.2245</td><td>-100.213</td><td>2017-11-04 17:03:23</td></tr><tr><td>Argentina</td><td>2858</td><td>-65.1565</td><td>-166.807</td><td>2018-05-03 13:27:09</td></tr><tr><td>Argentina</td><td>8941</td><td>-89.4739</td><td>-176.154</td><td>2019-01-11 22:37:24</td></tr><tr><td>Bangladesh</td><td>7529</td><td>-29.9924</td><td>90.2718</td><td>2017-12-12 08:44:52</td></tr><tr><td>Argentina</td><td>6498</td><td>-65.3952</td><td>-175.249</td><td>2020-04-04 16:25:16</td></tr><tr><td>Bulgaria</td><td>10570</td><td>-87.6895</td><td>-176.801</td><td>2021-12-29 05:55:33</td></tr><tr><td>Azerbaijan</td><td>5526</td><td>-78.0948</td><td>136.476</td><td>2020-10-15 18:40:44</td></tr><tr><td>Cape Verde</td><td>3747</td><td>46.7845</td><td>-63.5658</td><td>2020-07-06 06:40:16</td></tr><tr><td>Australia</td><td>6521</td><td>-82.0198</td><td>-155.211</td><td>2020-05-27 11:27:08</td></tr><tr><td>Argentina</td><td>5457</td><td>-80.3487</td><td>-178.419</td><td>2022-06-25 10:29:40</td></tr><tr><td>Martinique</td><td>4724</td><td>25.6497</td><td>-79.8812</td><td>2021-08-20 10:21:07</td></tr><tr><td>Argentina</td><td>9333</td><td>-89.4739</td><td>-176.154</td><td>2017-10-23 19:50:20</td></tr><tr><td>Bangladesh</td><td>2529</td><td>1.84103</td><td>-139.031</td><td>2020-08-31 08:01:19</td></tr><tr><td>Barbados</td><td>10158</td><td>-74.3382</td><td>-110.484</td><td>2018-10-22 00:56:14</td></tr><tr><td>Bulgaria</td><td>10711</td><td>-87.6895</td><td>-176.801</td><td>2018-12-06 02:51:03</td></tr><tr><td>Bangladesh</td><td>1969</td><td>-75.942</td><td>-74.9383</td><td>2022-04-21 00:32:37</td></tr><tr><td>Mauritania</td><td>2316</td><td>74.5185</td><td>-35.3238</td><td>2018-11-06 12:57:58</td></tr><tr><td>Bulgaria</td><td>5494</td><td>-82.6768</td><td>-129.202</td><td>2021-07-21 02:02:35</td></tr><tr><td>Anguilla</td><td>6063</td><td>-89.1797</td><td>-174.015</td><td>2021-07-20 09:02:47</td></tr><tr><td>Cambodia</td><td>3454</td><td>-0.375174</td><td>49.8106</td><td>2021-07-25 02:20:29</td></tr><tr><td>Jamaica</td><td>10625</td><td>-84.4944</td><td>-81.0613</td><td>2018-07-13 11:51:15</td></tr><tr><td>Barbados</td><td>9875</td><td>-74.3382</td><td>-110.484</td><td>2020-03-20 13:03:18</td></tr><tr><td>Botswana</td><td>8887</td><td>-28.0137</td><td>-160.708</td><td>2021-09-19 05:27:43</td></tr><tr><td>Australia</td><td>4137</td><td>-55.3079</td><td>108.918</td><td>2019-06-23 22:16:34</td></tr><tr><td>Argentina</td><td>1268</td><td>-41.7803</td><td>-177.23</td><td>2019-07-06 04:10:29</td></tr><tr><td>Maldives</td><td>5309</td><td>-89.4194</td><td>-84.2493</td><td>2020-05-04 22:00:32</td></tr><tr><td>Seychelles</td><td>1137</td><td>12.2544</td><td>10.7361</td><td>2020-12-26 00:56:04</td></tr><tr><td>Lithuania</td><td>3716</td><td>32.6648</td><td>-16.0578</td><td>2018-12-31 20:43:42</td></tr><tr><td>Anguilla</td><td>3334</td><td>-89.0609</td><td>-170.904</td><td>2019-09-26 20:13:48</td></tr><tr><td>Bulgaria</td><td>2565</td><td>-87.4992</td><td>-177.336</td><td>2022-02-06 13:42:35</td></tr><tr><td>Portugal</td><td>3351</td><td>-9.11859</td><td>-96.9091</td><td>2020-09-12 10:34:11</td></tr><tr><td>Barbados</td><td>3945</td><td>-66.2816</td><td>-142.673</td><td>2022-04-17 02:01:53</td></tr><tr><td>Anguilla</td><td>3360</td><td>-89.0609</td><td>-170.904</td><td>2019-01-26 07:43:57</td></tr><tr><td>Argentina</td><td>6380</td><td>-57.051</td><td>-133.377</td><td>2017-12-21 21:46:23</td></tr><tr><td>Bangladesh</td><td>6299</td><td>29.1899</td><td>98.5863</td><td>2022-10-05 06:08:34</td></tr><tr><td>Barbados</td><td>4027</td><td>-69.7124</td><td>-165.207</td><td>2019-01-23 20:53:22</td></tr><tr><td>Armenia</td><td>10931</td><td>-82.9685</td><td>-178.095</td><td>2021-03-20 06:14:31</td></tr><tr><td>Bulgaria</td><td>7896</td><td>-64.1231</td><td>-164.904</td><td>2020-06-02 13:49:36</td></tr><tr><td>Slovenia</td><td>1631</td><td>-25.8117</td><td>-69.8618</td><td>2020-08-24 10:43:22</td></tr><tr><td>Guatemala</td><td>7511</td><td>85.0721</td><td>-128.483</td><td>2019-10-25 19:38:50</td></tr><tr><td>Maldives</td><td>4780</td><td>-85.4758</td><td>-166.172</td><td>2020-10-25 17:29:49</td></tr><tr><td>Saudi Arabia</td><td>5091</td><td>-19.04</td><td>3.5168</td><td>2020-11-07 10:43:32</td></tr><tr><td>Ethiopia</td><td>9014</td><td>-37.2495</td><td>-118.101</td><td>2021-04-20 19:45:15</td></tr><tr><td>Armenia</td><td>10137</td><td>-50.8998</td><td>-112.455</td><td>2021-05-03 17:23:40</td></tr><tr><td>Cameroon</td><td>1179</td><td>-24.8281</td><td>-138.237</td><td>2018-11-24 03:50:34</td></tr><tr><td>Nicaragua</td><td>4556</td><td>69.6624</td><td>-128.284</td><td>2021-01-03 15:01:51</td></tr><tr><td>Swaziland</td><td>9653</td><td>-8.51096</td><td>48.4678</td><td>2018-10-04 15:17:55</td></tr><tr><td>Maldives</td><td>2946</td><td>-89.8559</td><td>-170.155</td><td>2020-09-26 03:51:16</td></tr><tr><td>Mauritius</td><td>6957</td><td>-70.9941</td><td>168.195</td><td>2021-04-25 04:41:38</td></tr><tr><td>Paraguay</td><td>10585</td><td>11.1301</td><td>-96.9338</td><td>2018-05-21 07:14:11</td></tr><tr><td>Estonia</td><td>10677</td><td>-86.3132</td><td>-105.805</td><td>2018-03-08 17:26:24</td></tr><tr><td>Bahrain</td><td>10278</td><td>-52.3365</td><td>-177.892</td><td>2019-07-23 13:35:03</td></tr><tr><td>Botswana</td><td>2793</td><td>-84.3867</td><td>-120.917</td><td>2021-03-22 17:39:38</td></tr><tr><td>Bulgaria</td><td>1832</td><td>-12.0827</td><td>-87.0131</td><td>2020-08-18 12:11:49</td></tr><tr><td>Cameroon</td><td>1778</td><td>-84.7767</td><td>-155.835</td><td>2020-05-23 00:20:16</td></tr><tr><td>Bulgaria</td><td>4107</td><td>-54.7673</td><td>-89.1567</td><td>2021-04-21 22:03:54</td></tr><tr><td>Anguilla</td><td>2288</td><td>-89.1797</td><td>-174.015</td><td>2019-11-03 06:08:36</td></tr><tr><td>Cambodia</td><td>1598</td><td>-55.4968</td><td>-165.517</td><td>2021-05-01 05:03:08</td></tr><tr><td>Cameroon</td><td>3349</td><td>-84.7767</td><td>-155.835</td><td>2022-01-09 07:39:35</td></tr><tr><td>Bahamas</td><td>10715</td><td>-57.3926</td><td>-145.818</td><td>2022-09-24 08:05:54</td></tr><tr><td>Nicaragua</td><td>7093</td><td>-11.9605</td><td>92.2728</td><td>2022-06-06 14:11:52</td></tr><tr><td>Anguilla</td><td>9183</td><td>-54.9713</td><td>-55.3111</td><td>2020-04-20 07:48:31</td></tr><tr><td>Guernsey</td><td>7560</td><td>-19.6852</td><td>-44.3416</td><td>2017-11-24 08:58:34</td></tr><tr><td>Mongolia</td><td>7057</td><td>-60.6942</td><td>-125.106</td><td>2020-11-13 07:13:30</td></tr><tr><td>Cambodia</td><td>1411</td><td>-55.4968</td><td>-165.517</td><td>2019-10-24 03:10:37</td></tr><tr><td>Somalia</td><td>10156</td><td>-16.9412</td><td>-35.1592</td><td>2019-03-08 14:42:14</td></tr><tr><td>Lithuania</td><td>2754</td><td>-86.4467</td><td>-74.949</td><td>2019-09-11 02:15:42</td></tr><tr><td>Hong Kong</td><td>4764</td><td>37.0844</td><td>-164.878</td><td>2018-01-10 11:06:53</td></tr><tr><td>Armenia</td><td>10479</td><td>-82.9685</td><td>-178.095</td><td>2019-03-06 19:31:55</td></tr><tr><td>Belarus</td><td>10234</td><td>-89.1492</td><td>-169.091</td><td>2020-08-25 17:45:15</td></tr><tr><td>Cambodia</td><td>4936</td><td>-20.2655</td><td>-163.485</td><td>2019-06-04 23:30:11</td></tr><tr><td>Colombia</td><td>6645</td><td>-62.5143</td><td>-114.548</td><td>2019-06-18 05:17:37</td></tr><tr><td>Costa Rica</td><td>8637</td><td>17.7523</td><td>90.2341</td><td>2020-12-04 20:23:56</td></tr><tr><td>Hong Kong</td><td>6503</td><td>42.8093</td><td>-33.7894</td><td>2019-09-01 18:43:30</td></tr><tr><td>Bulgaria</td><td>1745</td><td>-87.4992</td><td>-177.336</td><td>2019-12-11 16:49:31</td></tr><tr><td>Anguilla</td><td>2641</td><td>-89.0609</td><td>-170.904</td><td>2020-04-30 20:37:18</td></tr><tr><td>Cameroon</td><td>9567</td><td>-60.4206</td><td>-116.385</td><td>2021-09-02 20:30:15</td></tr><tr><td>Armenia</td><td>10912</td><td>-89.3302</td><td>-60.6105</td><td>2019-12-11 00:03:39</td></tr><tr><td>Anguilla</td><td>6309</td><td>-28.9498</td><td>-165.807</td><td>2022-10-14 19:53:00</td></tr><tr><td>Madagascar</td><td>7648</td><td>83.3604</td><td>7.88083</td><td>2018-02-14 12:26:14</td></tr><tr><td>Anguilla</td><td>6018</td><td>-28.9498</td><td>-165.807</td><td>2020-04-07 22:08:44</td></tr><tr><td>Maldives</td><td>8204</td><td>-18.1973</td><td>-126.543</td><td>2019-05-28 05:38:33</td></tr><tr><td>Australia</td><td>3630</td><td>34.7482</td><td>-114.021</td><td>2021-06-15 15:10:50</td></tr><tr><td>Cambodia</td><td>9433</td><td>-39.7916</td><td>-157.635</td><td>2020-08-15 02:44:48</td></tr><tr><td>Cameroon</td><td>9539</td><td>-60.4206</td><td>-116.385</td><td>2018-10-30 04:22:48</td></tr><tr><td>Bulgaria</td><td>4497</td><td>-22.2878</td><td>-125.947</td><td>2021-06-09 00:26:04</td></tr><tr><td>Tajikistan</td><td>9496</td><td>-52.2729</td><td>66.094</td><td>2022-03-16 10:41:03</td></tr><tr><td>Cameroon</td><td>9539</td><td>-60.4206</td><td>-116.385</td><td>2018-10-30 04:22:48</td></tr><tr><td>Bangladesh</td><td>6188</td><td>82.8384</td><td>-54.601</td><td>2017-12-16 03:31:14</td></tr><tr><td>Botswana</td><td>8887</td><td>-28.0137</td><td>-160.708</td><td>2021-09-19 05:27:43</td></tr><tr><td>Cameroon</td><td>1735</td><td>-84.7767</td><td>-155.835</td><td>2018-02-17 03:28:14</td></tr><tr><td>Bulgaria</td><td>2237</td><td>-22.2878</td><td>-125.947</td><td>2018-08-22 22:05:46</td></tr><tr><td>Bahrain</td><td>10278</td><td>-52.3365</td><td>-177.892</td><td>2019-07-23 13:35:03</td></tr><tr><td>Anguilla</td><td>3757</td><td>-89.1797</td><td>-174.015</td><td>2020-12-14 22:13:28</td></tr><tr><td>Argentina</td><td>891</td><td>-36.9507</td><td>-4.59275</td><td>2020-01-31 21:12:36</td></tr><tr><td>Anguilla</td><td>2665</td><td>-89.0609</td><td>-170.904</td><td>2020-10-08 00:08:33</td></tr><tr><td>Bulgaria</td><td>1757</td><td>-64.1231</td><td>-164.904</td><td>2021-10-04 21:34:57</td></tr><tr><td>Cambodia</td><td>4164</td><td>-75.3513</td><td>-38.9191</td><td>2019-08-23 09:21:37</td></tr><tr><td>Albania</td><td>7528</td><td>-89.9787</td><td>-173.293</td><td>2020-08-28 03:52:47</td></tr><tr><td>Armenia</td><td>2863</td><td>-5.34445</td><td>-177.924</td><td>2020-04-27 13:34:16</td></tr><tr><td>Colombia</td><td>5730</td><td>-77.015</td><td>-101.437</td><td>2021-04-19 17:37:03</td></tr><tr><td>Albania</td><td>3089</td><td>-89.9787</td><td>-173.293</td><td>2018-02-28 05:31:29</td></tr><tr><td>Austria</td><td>10138</td><td>-72.142</td><td>-74.3545</td><td>2019-08-03 00:59:29</td></tr><tr><td>Austria</td><td>9546</td><td>-70.0295</td><td>-155.428</td><td>2018-02-10 06:16:40</td></tr><tr><td>Albania</td><td>2411</td><td>-71.6856</td><td>-179.126</td><td>2020-11-15 17:10:07</td></tr><tr><td>Algeria</td><td>9590</td><td>-64.3876</td><td>-174.281</td><td>2019-05-20 19:48:48</td></tr><tr><td>Germany</td><td>5076</td><td>-70.7195</td><td>-91.1935</td><td>2019-05-05 16:22:23</td></tr><tr><td>Barbados</td><td>205</td><td>-75.8378</td><td>-163.945</td><td>2020-07-08 14:10:38</td></tr><tr><td>Armenia</td><td>1094</td><td>-46.7328</td><td>-124.445</td><td>2018-08-19 00:34:20</td></tr><tr><td>Bahrain</td><td>5630</td><td>-19.1403</td><td>-164.987</td><td>2019-05-12 14:43:19</td></tr><tr><td>Albania</td><td>6398</td><td>-3.29267</td><td>-179.726</td><td>2020-01-19 01:49:05</td></tr><tr><td>Afghanistan</td><td>46</td><td>4.21689</td><td>-145.82</td><td>2018-09-15 09:16:57</td></tr><tr><td>Grenada</td><td>10552</td><td>32.7568</td><td>-179.812</td><td>2020-08-24 11:39:32</td></tr><tr><td>Andorra</td><td>1371</td><td>-89.4584</td><td>-134.271</td><td>2018-08-08 04:41:17</td></tr><tr><td>Andorra</td><td>9074</td><td>-84.7363</td><td>-179.087</td><td>2022-04-10 17:06:13</td></tr><tr><td>Finland</td><td>10370</td><td>-81.9798</td><td>-71.932</td><td>2018-07-29 15:53:40</td></tr><tr><td>Algeria</td><td>7234</td><td>-86.4791</td><td>-169.547</td><td>2017-10-21 14:31:02</td></tr><tr><td>Algeria</td><td>7874</td><td>-89.5173</td><td>-179.689</td><td>2022-01-18 08:58:49</td></tr><tr><td>Bahamas</td><td>10245</td><td>-50.1835</td><td>146.776</td><td>2020-03-03 15:39:44</td></tr><tr><td>Austria</td><td>9093</td><td>-87.7764</td><td>-151.645</td><td>2021-07-24 23:07:06</td></tr><tr><td>Djibouti</td><td>2788</td><td>-36.076</td><td>-94.1779</td><td>2019-12-18 03:04:41</td></tr><tr><td>Algeria</td><td>7733</td><td>-89.5173</td><td>-179.689</td><td>2022-09-29 10:45:19</td></tr><tr><td>Comoros</td><td>3750</td><td>-73.8837</td><td>-159.054</td><td>2022-09-03 23:36:08</td></tr><tr><td>Guatemala</td><td>778</td><td>48.2704</td><td>-123.073</td><td>2018-10-19 14:43:39</td></tr><tr><td>Andorra</td><td>7586</td><td>-84.7363</td><td>-179.087</td><td>2021-02-07 22:17:31</td></tr><tr><td>Algeria</td><td>1864</td><td>-72.3958</td><td>-164.414</td><td>2020-04-24 17:08:13</td></tr><tr><td>Croatia</td><td>5333</td><td>-86.6652</td><td>-173.898</td><td>2021-01-20 08:10:08</td></tr><tr><td>Albania</td><td>1341</td><td>-89.9787</td><td>-173.293</td><td>2022-08-11 05:25:33</td></tr><tr><td>Austria</td><td>6250</td><td>-73.2098</td><td>-150.856</td><td>2020-11-22 18:28:02</td></tr><tr><td>Bahamas</td><td>4357</td><td>-75.4909</td><td>-179.908</td><td>2020-03-06 09:56:43</td></tr><tr><td>Bolivia</td><td>6066</td><td>-67.7278</td><td>-174.505</td><td>2019-03-04 01:04:11</td></tr><tr><td>Albania</td><td>1216</td><td>-69.8134</td><td>-152.834</td><td>2020-07-19 23:57:16</td></tr><tr><td>Namibia</td><td>7905</td><td>-47.8121</td><td>-134.015</td><td>2018-11-13 12:39:43</td></tr><tr><td>Finland</td><td>5488</td><td>-59.6163</td><td>-107.324</td><td>2021-03-14 05:55:21</td></tr><tr><td>Somalia</td><td>8341</td><td>-16.5066</td><td>-133.185</td><td>2022-08-08 05:09:50</td></tr><tr><td>Austria</td><td>6134</td><td>-68.8136</td><td>-128.482</td><td>2022-04-03 12:34:59</td></tr><tr><td>Dominica</td><td>2987</td><td>83.1466</td><td>-169.136</td><td>2019-12-24 22:33:06</td></tr><tr><td>Colombia</td><td>5551</td><td>-67.8095</td><td>63.2758</td><td>2022-03-22 06:04:33</td></tr><tr><td>Martinique</td><td>8015</td><td>52.4977</td><td>94.336</td><td>2020-03-13 18:02:39</td></tr><tr><td>Algeria</td><td>7745</td><td>-89.5173</td><td>-179.689</td><td>2018-11-01 18:20:28</td></tr><tr><td>Cameroon</td><td>409</td><td>-41.5492</td><td>-152.355</td><td>2019-05-28 01:00:22</td></tr><tr><td>Andorra</td><td>7759</td><td>-84.7363</td><td>-179.087</td><td>2020-06-14 00:42:47</td></tr><tr><td>Macedonia</td><td>9425</td><td>17.5612</td><td>132.851</td><td>2020-07-25 01:35:10</td></tr><tr><td>Malawi</td><td>10050</td><td>-62.2012</td><td>-115.461</td><td>2018-09-23 01:54:04</td></tr><tr><td>Hungary</td><td>4561</td><td>-63.6785</td><td>-29.2943</td><td>2020-04-05 19:38:48</td></tr><tr><td>Andorra</td><td>6341</td><td>-81.6697</td><td>-149.084</td><td>2018-05-22 07:07:24</td></tr><tr><td>Algeria</td><td>8100</td><td>-89.5173</td><td>-179.689</td><td>2019-12-03 15:49:59</td></tr><tr><td>Dominica</td><td>4781</td><td>-72.0263</td><td>32.3959</td><td>2019-06-30 13:16:16</td></tr><tr><td>Germany</td><td>5647</td><td>-82.2521</td><td>-110.013</td><td>2021-05-11 20:20:59</td></tr><tr><td>Austria</td><td>5166</td><td>-26.0588</td><td>-72.2696</td><td>2020-01-16 09:56:50</td></tr><tr><td>Albania</td><td>7240</td><td>-89.9787</td><td>-173.293</td><td>2022-05-31 21:23:46</td></tr><tr><td>Algeria</td><td>7670</td><td>-89.5173</td><td>-179.689</td><td>2021-12-25 18:58:40</td></tr><tr><td>Serbia</td><td>10160</td><td>-19.5192</td><td>-115.211</td><td>2019-05-07 04:28:27</td></tr><tr><td>Belgium</td><td>9734</td><td>-77.5092</td><td>-33.8585</td><td>2020-07-25 03:43:05</td></tr><tr><td>Algeria</td><td>9502</td><td>-71.3184</td><td>-113.724</td><td>2021-06-27 10:58:17</td></tr><tr><td>Albania</td><td>1341</td><td>-89.9787</td><td>-173.293</td><td>2022-08-11 05:25:33</td></tr><tr><td>Andorra</td><td>9155</td><td>-84.7363</td><td>-179.087</td><td>2021-09-04 20:27:36</td></tr><tr><td>Bermuda</td><td>7448</td><td>-48.4974</td><td>-61.5981</td><td>2017-12-20 07:13:19</td></tr><tr><td>Algeria</td><td>8090</td><td>-89.5173</td><td>-179.689</td><td>2019-04-18 00:54:25</td></tr><tr><td>Andorra</td><td>8996</td><td>-84.7363</td><td>-179.087</td><td>2022-06-12 07:21:52</td></tr><tr><td>Croatia</td><td>5198</td><td>-13.8028</td><td>-160.846</td><td>2020-10-21 11:13:53</td></tr><tr><td>Botswana</td><td>8592</td><td>-80.8644</td><td>-133.78</td><td>2018-01-18 04:17:50</td></tr><tr><td>Algeria</td><td>6865</td><td>-70.3363</td><td>-42.7487</td><td>2020-05-15 16:04:18</td></tr><tr><td>Belarus</td><td>10538</td><td>-82.4354</td><td>59.1527</td><td>2018-01-29 03:49:45</td></tr><tr><td>Burundi</td><td>7467</td><td>-55.3123</td><td>-170.812</td><td>2020-03-04 20:03:07</td></tr><tr><td>Georgia</td><td>3813</td><td>-26.2917</td><td>-29.1171</td><td>2020-06-15 09:37:48</td></tr><tr><td>Algeria</td><td>8237</td><td>-89.5173</td><td>-179.689</td><td>2021-07-08 05:55:06</td></tr><tr><td>Andorra</td><td>7891</td><td>-89.4584</td><td>-134.271</td><td>2020-05-05 10:10:10</td></tr><tr><td>Andorra</td><td>9332</td><td>-73.8268</td><td>-159.056</td><td>2018-09-22 14:44:57</td></tr><tr><td>Bahrain</td><td>9584</td><td>-36.8458</td><td>-116.844</td><td>2018-04-23 06:21:51</td></tr><tr><td>Albania</td><td>5159</td><td>-62.7034</td><td>-114.366</td><td>2021-08-26 08:03:46</td></tr><tr><td>Albania</td><td>5759</td><td>-62.7034</td><td>-114.366</td><td>2019-06-08 02:29:25</td></tr><tr><td>Lithuania</td><td>9363</td><td>-74.8991</td><td>79.285</td><td>2018-12-13 03:57:08</td></tr><tr><td>Botswana</td><td>2172</td><td>9.88473</td><td>-160.515</td><td>2022-05-19 04:02:52</td></tr><tr><td>Kiribati</td><td>1026</td><td>-23.6508</td><td>14.2803</td><td>2021-08-08 06:13:17</td></tr><tr><td>Algeria</td><td>8449</td><td>-89.5173</td><td>-179.689</td><td>2022-05-19 10:06:47</td></tr><tr><td>Bolivia</td><td>6488</td><td>-87.9073</td><td>-153.482</td><td>2018-05-15 03:11:41</td></tr><tr><td>Botswana</td><td>1066</td><td>-54.8354</td><td>39.6735</td><td>2019-08-29 17:31:37</td></tr><tr><td>Albania</td><td>5230</td><td>-89.9787</td><td>-173.293</td><td>2022-05-05 00:30:35</td></tr><tr><td>Argentina</td><td>6181</td><td>-89.63</td><td>-179.022</td><td>2022-08-18 21:20:00</td></tr><tr><td>Andorra</td><td>9099</td><td>-73.8268</td><td>-159.056</td><td>2017-12-24 21:03:56</td></tr><tr><td>Andorra</td><td>2927</td><td>-87.1113</td><td>-159.587</td><td>2020-02-14 00:04:58</td></tr><tr><td>Albania</td><td>1465</td><td>-69.8134</td><td>-152.834</td><td>2020-11-09 12:15:10</td></tr><tr><td>Bahamas</td><td>2787</td><td>-51.5396</td><td>-105.634</td><td>2022-03-05 15:22:38</td></tr><tr><td>Bulgaria</td><td>7318</td><td>-30.255</td><td>-87.2169</td><td>2019-10-27 05:28:07</td></tr><tr><td>Algeria</td><td>7769</td><td>-89.5173</td><td>-179.689</td><td>2019-05-27 20:40:51</td></tr><tr><td>Tunisia</td><td>9749</td><td>-44.6516</td><td>-5.39518</td><td>2022-02-06 22:14:06</td></tr><tr><td>Greenland</td><td>3710</td><td>73.3141</td><td>168.921</td><td>2018-11-05 01:18:53</td></tr><tr><td>Venezuela</td><td>7770</td><td>50.8676</td><td>58.8244</td><td>2019-10-03 17:28:34</td></tr><tr><td>Argentina</td><td>9010</td><td>-89.63</td><td>-179.022</td><td>2018-12-21 18:40:56</td></tr><tr><td>Anguilla</td><td>1676</td><td>69.5322</td><td>-89.9617</td><td>2019-01-11 11:53:56</td></tr><tr><td>Bahrain</td><td>1896</td><td>-76.9515</td><td>-150.467</td><td>2021-06-18 08:38:10</td></tr><tr><td>Austria</td><td>5044</td><td>-89.1633</td><td>-159.957</td><td>2022-08-28 14:19:24</td></tr><tr><td>Andorra</td><td>3226</td><td>-87.1113</td><td>-159.587</td><td>2020-07-26 13:44:36</td></tr><tr><td>Djibouti</td><td>1775</td><td>-73.588</td><td>-146.537</td><td>2018-05-06 00:29:03</td></tr><tr><td>Lebanon</td><td>8224</td><td>-72.7111</td><td>-162.159</td><td>2018-07-01 05:16:34</td></tr><tr><td>Andorra</td><td>4333</td><td>-79.0404</td><td>-143.074</td><td>2022-07-24 11:42:30</td></tr><tr><td>Bahamas</td><td>4944</td><td>-48.2064</td><td>-176.272</td><td>2020-07-06 02:24:51</td></tr><tr><td>Bulgaria</td><td>643</td><td>-87.4992</td><td>-177.336</td><td>2020-06-01 05:58:14</td></tr><tr><td>Bahrain</td><td>4641</td><td>-34.1594</td><td>-124.145</td><td>2020-12-23 00:16:10</td></tr><tr><td>Algeria</td><td>7964</td><td>-89.5173</td><td>-179.689</td><td>2019-03-08 16:29:06</td></tr><tr><td>Belarus</td><td>9950</td><td>-22.3693</td><td>-133.483</td><td>2020-01-14 04:36:41</td></tr><tr><td>Armenia</td><td>3632</td><td>-44.7118</td><td>-74.3034</td><td>2021-11-28 14:55:54</td></tr><tr><td>Bahrain</td><td>5209</td><td>-66.8154</td><td>-102.355</td><td>2021-01-21 07:00:24</td></tr><tr><td>Andorra</td><td>9035</td><td>-84.7363</td><td>-179.087</td><td>2020-05-18 06:09:15</td></tr><tr><td>Algeria</td><td>7666</td><td>-89.5173</td><td>-179.689</td><td>2021-02-06 19:47:52</td></tr><tr><td>Bahamas</td><td>2452</td><td>-82.2495</td><td>-135.586</td><td>2018-02-16 06:48:42</td></tr><tr><td>Denmark</td><td>7165</td><td>-62.9912</td><td>-142.837</td><td>2021-06-02 21:18:20</td></tr><tr><td>Algeria</td><td>2595</td><td>-53.9169</td><td>-104.473</td><td>2018-02-03 20:35:30</td></tr><tr><td>Dominica</td><td>187</td><td>-55.1732</td><td>-175.864</td><td>2018-06-20 10:32:48</td></tr><tr><td>Andorra</td><td>1780</td><td>-87.1113</td><td>-159.587</td><td>2019-11-01 18:14:25</td></tr><tr><td>Venezuela</td><td>4866</td><td>9.00668</td><td>46.1605</td><td>2021-10-27 23:57:46</td></tr><tr><td>Albania</td><td>2779</td><td>-85.7359</td><td>-161.599</td><td>2018-03-25 22:19:53</td></tr><tr><td>Albania</td><td>3260</td><td>-89.3675</td><td>-157.004</td><td>2019-10-23 19:52:59</td></tr><tr><td>Andorra</td><td>10440</td><td>-34.1179</td><td>44.4994</td><td>2021-08-20 01:36:51</td></tr><tr><td>Nicaragua</td><td>7413</td><td>-41.065</td><td>169.341</td><td>2021-10-23 08:25:14</td></tr><tr><td>Croatia</td><td>2001</td><td>-53.7111</td><td>-138.763</td><td>2021-11-11 15:42:04</td></tr><tr><td>Belarus</td><td>4565</td><td>-67.9802</td><td>-22.7204</td><td>2018-12-10 22:34:21</td></tr><tr><td>Lebanon</td><td>7785</td><td>-72.7111</td><td>-162.159</td><td>2020-02-24 05:42:00</td></tr><tr><td>Algeria</td><td>6878</td><td>-86.4791</td><td>-169.547</td><td>2019-03-18 04:11:07</td></tr><tr><td>Austria</td><td>1322</td><td>-66.7906</td><td>-99.8545</td><td>2021-08-29 12:37:19</td></tr><tr><td>Albania</td><td>3561</td><td>-89.8908</td><td>-179.887</td><td>2021-12-04 14:19:43</td></tr><tr><td>Algeria</td><td>6963</td><td>-86.4791</td><td>-169.547</td><td>2018-02-08 03:20:50</td></tr><tr><td>Andorra</td><td>9452</td><td>-84.7363</td><td>-179.087</td><td>2021-02-14 08:40:56</td></tr><tr><td>Austria</td><td>8738</td><td>-87.7764</td><td>-151.645</td><td>2018-11-21 16:40:06</td></tr><tr><td>Jamaica</td><td>3843</td><td>-65.1524</td><td>-18.7344</td><td>2019-09-20 23:22:44</td></tr><tr><td>Hungary</td><td>10501</td><td>-82.2067</td><td>110.935</td><td>2020-09-24 13:44:30</td></tr><tr><td>Albania</td><td>9307</td><td>-88.8298</td><td>-170.188</td><td>2018-05-05 18:51:37</td></tr><tr><td>Belgium</td><td>1821</td><td>-42.9967</td><td>-111.616</td><td>2020-08-29 00:40:44</td></tr><tr><td>Albania</td><td>4213</td><td>-89.8908</td><td>-179.887</td><td>2020-05-17 04:33:51</td></tr><tr><td>Algeria</td><td>8813</td><td>-89.5173</td><td>-179.689</td><td>2022-09-08 01:30:24</td></tr><tr><td>Colombia</td><td>6324</td><td>31.9862</td><td>-132.101</td><td>2022-03-24 20:45:08</td></tr><tr><td>Albania</td><td>3259</td><td>-85.7359</td><td>-161.599</td><td>2020-01-12 04:39:05</td></tr><tr><td>Finland</td><td>6264</td><td>-72.5021</td><td>-128.903</td><td>2019-06-09 00:01:11</td></tr><tr><td>Albania</td><td>6813</td><td>-89.9787</td><td>-173.293</td><td>2019-03-28 09:34:06</td></tr><tr><td>Bermuda</td><td>4482</td><td>-79.0427</td><td>-174.242</td><td>2020-04-14 23:57:05</td></tr><tr><td>Algeria</td><td>10097</td><td>-74.7055</td><td>-177.87</td><td>2021-09-24 16:28:48</td></tr><tr><td>Albania</td><td>2715</td><td>-58.4025</td><td>-168.097</td><td>2021-12-29 12:18:25</td></tr><tr><td>Honduras</td><td>4931</td><td>42.2143</td><td>-45.0378</td><td>2020-03-27 07:42:02</td></tr><tr><td>Guinea</td><td>10524</td><td>-39.0782</td><td>-177.418</td><td>2022-02-09 07:36:35</td></tr><tr><td>Albania</td><td>2530</td><td>-89.3675</td><td>-157.004</td><td>2018-08-21 22:40:24</td></tr><tr><td>Lesotho</td><td>1301</td><td>-20.2845</td><td>-1.62035</td><td>2020-12-16 16:24:43</td></tr><tr><td>Mongolia</td><td>8699</td><td>-66.2443</td><td>106.397</td><td>2018-03-08 03:33:18</td></tr><tr><td>Algeria</td><td>10179</td><td>-74.7055</td><td>-177.87</td><td>2019-11-06 05:51:25</td></tr><tr><td>Andorra</td><td>3556</td><td>-88.0812</td><td>-166.603</td><td>2022-02-05 02:03:08</td></tr><tr><td>Belgium</td><td>8159</td><td>-62.2853</td><td>-176.497</td><td>2021-01-02 09:48:03</td></tr><tr><td>Bahamas</td><td>3485</td><td>-87.0574</td><td>-164.826</td><td>2020-05-07 16:28:18</td></tr><tr><td>Armenia</td><td>4271</td><td>-44.7118</td><td>-74.3034</td><td>2021-01-02 01:56:52</td></tr><tr><td>Botswana</td><td>5365</td><td>-87.476</td><td>-163.419</td><td>2020-10-07 01:28:01</td></tr><tr><td>Grenada</td><td>8385</td><td>-13.7262</td><td>-178.706</td><td>2018-01-08 06:01:02</td></tr><tr><td>Algeria</td><td>7642</td><td>-89.5173</td><td>-179.689</td><td>2021-08-02 04:15:24</td></tr><tr><td>Ecuador</td><td>9896</td><td>-82.0334</td><td>-110.476</td><td>2018-01-12 05:40:05</td></tr><tr><td>Austria</td><td>8007</td><td>-65.3158</td><td>-179.734</td><td>2022-08-15 09:19:01</td></tr><tr><td>Albania</td><td>7283</td><td>-89.9787</td><td>-173.293</td><td>2022-08-23 00:58:33</td></tr><tr><td>Ireland</td><td>8944</td><td>54.4385</td><td>-0.300596</td><td>2020-02-29 04:51:18</td></tr><tr><td>Albania</td><td>8323</td><td>-89.9787</td><td>-173.293</td><td>2017-11-07 21:37:37</td></tr><tr><td>Djibouti</td><td>7487</td><td>-88.9574</td><td>55.5995</td><td>2019-08-20 08:34:24</td></tr><tr><td>Bolivia</td><td>2267</td><td>-77.4732</td><td>-161.087</td><td>2019-07-15 08:01:36</td></tr><tr><td>Croatia</td><td>5297</td><td>0.944996</td><td>-72.3861</td><td>2018-04-20 23:50:13</td></tr><tr><td>Guernsey</td><td>9173</td><td>-70.6233</td><td>-69.455</td><td>2019-08-22 13:23:51</td></tr><tr><td>Andorra</td><td>2639</td><td>-87.1113</td><td>-159.587</td><td>2020-01-28 21:57:17</td></tr><tr><td>Belgium</td><td>2140</td><td>-83.4755</td><td>-140.735</td><td>2022-10-05 22:53:51</td></tr><tr><td>Nicaragua</td><td>6359</td><td>87.0392</td><td>-82.493</td><td>2022-08-04 08:12:16</td></tr><tr><td>Albania</td><td>3428</td><td>-89.9787</td><td>-173.293</td><td>2022-01-01 23:37:41</td></tr><tr><td>Burundi</td><td>3911</td><td>-88.6619</td><td>-117.835</td><td>2019-05-17 10:19:20</td></tr><tr><td>Austria</td><td>9766</td><td>-70.0295</td><td>-155.428</td><td>2018-05-10 05:11:03</td></tr><tr><td>Albania</td><td>3977</td><td>-89.8908</td><td>-179.887</td><td>2020-09-16 11:54:15</td></tr><tr><td>Honduras</td><td>1550</td><td>-77.9348</td><td>-85.145</td><td>2022-09-23 11:22:04</td></tr><tr><td>Belgium</td><td>9072</td><td>-49.6438</td><td>-64.7355</td><td>2019-07-12 04:37:14</td></tr><tr><td>Guatemala</td><td>2928</td><td>5.83178</td><td>85.7978</td><td>2018-11-26 23:08:14</td></tr><tr><td>Djibouti</td><td>3320</td><td>-70.1494</td><td>-146.93</td><td>2020-03-12 10:26:49</td></tr><tr><td>Belgium</td><td>10329</td><td>63.1332</td><td>-101.653</td><td>2017-12-14 22:54:49</td></tr><tr><td>Bahamas</td><td>3287</td><td>-87.0574</td><td>-164.826</td><td>2018-09-21 07:53:56</td></tr><tr><td>Indonesia</td><td>809</td><td>35.2848</td><td>-157.542</td><td>2022-03-31 14:09:15</td></tr><tr><td>Algeria</td><td>8552</td><td>-89.5173</td><td>-179.689</td><td>2021-09-19 06:48:03</td></tr><tr><td>Bulgaria</td><td>3723</td><td>-47.953</td><td>-176.463</td><td>2020-06-15 17:24:20</td></tr><tr><td>Austria</td><td>8808</td><td>-87.7764</td><td>-151.645</td><td>2018-08-06 00:20:51</td></tr><tr><td>Armenia</td><td>3937</td><td>-70.7194</td><td>-158.271</td><td>2019-01-29 16:42:32</td></tr><tr><td>Indonesia</td><td>5283</td><td>47.0801</td><td>149.318</td><td>2018-05-06 16:29:26</td></tr><tr><td>Algeria</td><td>7886</td><td>-89.5173</td><td>-179.689</td><td>2020-11-09 22:39:30</td></tr><tr><td>Bahamas</td><td>2756</td><td>-51.5396</td><td>-105.634</td><td>2020-04-11 01:32:48</td></tr><tr><td>Bahamas</td><td>4463</td><td>-75.4909</td><td>-179.908</td><td>2020-07-24 16:26:38</td></tr><tr><td>Maldives</td><td>1313</td><td>77.0447</td><td>61.9119</td><td>2018-06-26 02:39:25</td></tr><tr><td>Angola</td><td>2959</td><td>-68.0095</td><td>-157.227</td><td>2019-08-19 08:22:02</td></tr><tr><td>Armenia</td><td>3156</td><td>-84.738</td><td>-160.795</td><td>2018-01-13 19:33:49</td></tr><tr><td>Armenia</td><td>719</td><td>-38.4062</td><td>-154.323</td><td>2018-10-29 04:05:12</td></tr><tr><td>Bermuda</td><td>2482</td><td>63.4563</td><td>-164.709</td><td>2019-09-13 08:20:13</td></tr><tr><td>Albania</td><td>808</td><td>-71.6856</td><td>-179.126</td><td>2019-01-03 15:43:12</td></tr><tr><td>Anguilla</td><td>1545</td><td>-30.18</td><td>-72.3784</td><td>2022-06-17 05:47:12</td></tr><tr><td>Armenia</td><td>2015</td><td>-17.629</td><td>-177.685</td><td>2018-09-22 13:52:19</td></tr><tr><td>Algeria</td><td>7768</td><td>-88.355</td><td>-96.0131</td><td>2018-05-25 21:34:19</td></tr><tr><td>Turkey</td><td>3729</td><td>-24.4793</td><td>-150.145</td><td>2018-01-17 03:43:38</td></tr><tr><td>Andorra</td><td>159</td><td>-88.0812</td><td>-166.603</td><td>2017-11-20 21:14:56</td></tr><tr><td>Ecuador</td><td>7167</td><td>-55.757</td><td>-157.572</td><td>2019-12-27 20:45:04</td></tr><tr><td>Canada</td><td>9487</td><td>-76.9532</td><td>-113.641</td><td>2018-12-18 11:16:52</td></tr><tr><td>Gibraltar</td><td>327</td><td>62.3674</td><td>100.972</td><td>2022-02-09 03:03:58</td></tr><tr><td>Tanzania</td><td>232</td><td>6.60912</td><td>-173.609</td><td>2019-02-18 03:38:47</td></tr><tr><td>Kuwait</td><td>8366</td><td>-38.5318</td><td>-139.215</td><td>2018-03-28 14:17:11</td></tr><tr><td>Australia</td><td>1967</td><td>32.74</td><td>-179.581</td><td>2021-02-05 10:37:28</td></tr><tr><td>Canada</td><td>1699</td><td>-54.3706</td><td>-127.783</td><td>2022-07-03 13:25:48</td></tr><tr><td>Norway</td><td>10168</td><td>-14.7211</td><td>137.812</td><td>2019-10-14 00:19:33</td></tr><tr><td>Moldova</td><td>995</td><td>-88.0923</td><td>-179.319</td><td>2022-09-22 12:17:57</td></tr><tr><td>Cyprus</td><td>5959</td><td>-44.9016</td><td>-17.5192</td><td>2020-08-10 01:00:33</td></tr><tr><td>Morocco</td><td>8123</td><td>80.2593</td><td>-134.292</td><td>2021-08-23 07:31:46</td></tr><tr><td>Denmark</td><td>1487</td><td>6.23029</td><td>-75.5939</td><td>2021-05-15 18:23:45</td></tr><tr><td>Ireland</td><td>6479</td><td>47.9142</td><td>-98.4756</td><td>2020-10-12 04:13:06</td></tr><tr><td>Georgia</td><td>4055</td><td>16.8902</td><td>-123.373</td><td>2021-09-23 06:42:16</td></tr><tr><td>Ecuador</td><td>7383</td><td>-55.757</td><td>-157.572</td><td>2022-01-28 15:36:36</td></tr><tr><td>Angola</td><td>3240</td><td>-24.2386</td><td>-165.309</td><td>2022-06-10 09:36:51</td></tr><tr><td>Armenia</td><td>8645</td><td>-69.636</td><td>-166.432</td><td>2022-06-22 09:32:17</td></tr><tr><td>Aruba</td><td>10734</td><td>-51.2174</td><td>-166.894</td><td>2021-08-29 21:27:53</td></tr><tr><td>Bahamas</td><td>10371</td><td>44.5638</td><td>101.933</td><td>2017-12-17 12:54:54</td></tr><tr><td>Albania</td><td>501</td><td>-88.8298</td><td>-170.188</td><td>2018-11-04 15:42:21</td></tr><tr><td>Bermuda</td><td>1173</td><td>-40.9049</td><td>110.638</td><td>2021-07-18 00:52:31</td></tr><tr><td>Lesotho</td><td>8926</td><td>43.0814</td><td>-91.8318</td><td>2019-10-28 22:24:31</td></tr><tr><td>Aruba</td><td>10029</td><td>-89.8157</td><td>-173.632</td><td>2020-06-17 14:24:19</td></tr><tr><td>Bahamas</td><td>857</td><td>-87.0574</td><td>-164.826</td><td>2021-12-28 23:31:43</td></tr><tr><td>Austria</td><td>4949</td><td>-26.961</td><td>-141.787</td><td>2021-05-08 19:16:52</td></tr><tr><td>Belize</td><td>7039</td><td>-77.5336</td><td>-161.068</td><td>2020-09-20 18:21:13</td></tr><tr><td>Moldova</td><td>6328</td><td>29.6234</td><td>-33.0952</td><td>2018-01-06 06:29:33</td></tr><tr><td>Brazil</td><td>5402</td><td>-27.1791</td><td>-159.955</td><td>2022-07-22 12:40:32</td></tr><tr><td>Armenia</td><td>3231</td><td>-84.738</td><td>-160.795</td><td>2018-10-12 08:31:30</td></tr><tr><td>Namibia</td><td>10526</td><td>59.1203</td><td>94.4738</td><td>2018-02-21 14:52:09</td></tr><tr><td>Austria</td><td>4064</td><td>-48.6363</td><td>-177.92</td><td>2021-11-19 16:11:38</td></tr><tr><td>Gabon</td><td>10198</td><td>-77.4995</td><td>-65.4026</td><td>2022-02-18 20:14:09</td></tr><tr><td>Algeria</td><td>8162</td><td>-74.408</td><td>-178.774</td><td>2020-07-22 06:56:03</td></tr><tr><td>Belgium</td><td>3393</td><td>-73.6491</td><td>-136.57</td><td>2018-10-10 20:34:11</td></tr><tr><td>Angola</td><td>2668</td><td>-24.2386</td><td>-165.309</td><td>2019-11-13 16:18:57</td></tr><tr><td>Romania</td><td>7950</td><td>76.0609</td><td>-60.6718</td><td>2017-10-23 12:34:22</td></tr><tr><td>Bermuda</td><td>10600</td><td>68.9357</td><td>122.338</td><td>2020-12-31 07:05:04</td></tr><tr><td>Monaco</td><td>10862</td><td>23.1361</td><td>-63.9384</td><td>2017-11-30 01:25:50</td></tr><tr><td>Nigeria</td><td>2095</td><td>27.5545</td><td>-5.30833</td><td>2022-09-13 08:48:27</td></tr><tr><td>Algeria</td><td>9904</td><td>-74.7055</td><td>-177.87</td><td>2018-07-27 09:36:32</td></tr><tr><td>Angola</td><td>3562</td><td>-87.3742</td><td>-177.647</td><td>2022-04-08 10:19:47</td></tr><tr><td>Kuwait</td><td>2422</td><td>-31.8074</td><td>-169.911</td><td>2022-01-11 01:24:46</td></tr><tr><td>Canada</td><td>7262</td><td>-84.0716</td><td>-6.14558</td><td>2020-01-29 23:37:22</td></tr><tr><td>Algeria</td><td>8511</td><td>86.5503</td><td>-175.518</td><td>2021-11-09 14:40:16</td></tr><tr><td>Denmark</td><td>1487</td><td>6.23029</td><td>-75.5939</td><td>2021-05-15 18:23:45</td></tr><tr><td>Andorra</td><td>616</td><td>-77.6883</td><td>-145.539</td><td>2017-10-25 11:00:30</td></tr><tr><td>Armenia</td><td>865</td><td>-88.9652</td><td>-164.795</td><td>2019-12-22 03:54:25</td></tr><tr><td>Albania</td><td>741</td><td>-88.8298</td><td>-170.188</td><td>2017-11-15 15:17:20</td></tr><tr><td>Albania</td><td>525</td><td>-89.9787</td><td>-173.293</td><td>2021-07-23 21:18:02</td></tr><tr><td>Latvia</td><td>6240</td><td>-6.88551</td><td>-95.5132</td><td>2021-11-08 01:02:41</td></tr><tr><td>Belize</td><td>3882</td><td>-88.6506</td><td>-120.682</td><td>2022-01-09 01:38:01</td></tr><tr><td>Iceland</td><td>3111</td><td>-53.3753</td><td>35.7843</td><td>2018-01-22 00:19:58</td></tr><tr><td>Finland</td><td>1481</td><td>-37.2856</td><td>153.269</td><td>2018-07-14 15:10:37</td></tr><tr><td>Armenia</td><td>498</td><td>-88.9652</td><td>-164.795</td><td>2021-05-13 21:01:51</td></tr><tr><td>Angola</td><td>3703</td><td>-87.3742</td><td>-177.647</td><td>2020-05-18 04:14:27</td></tr><tr><td>Somalia</td><td>4417</td><td>-70.957</td><td>-8.13146</td><td>2021-04-15 13:11:21</td></tr><tr><td>Bahrain</td><td>860</td><td>-5.22078</td><td>-26.9354</td><td>2018-12-11 12:14:12</td></tr><tr><td>Singapore</td><td>4080</td><td>73.853</td><td>15.7012</td><td>2021-03-30 19:39:22</td></tr><tr><td>Bahamas</td><td>857</td><td>-87.0574</td><td>-164.826</td><td>2021-12-28 23:31:43</td></tr><tr><td>Andorra</td><td>159</td><td>-88.0812</td><td>-166.603</td><td>2017-11-20 21:14:56</td></tr><tr><td>Nigeria</td><td>6756</td><td>8.10741</td><td>-152.898</td><td>2020-11-05 01:58:15</td></tr><tr><td>Albania</td><td>644</td><td>-71.6856</td><td>-179.126</td><td>2022-06-09 11:40:06</td></tr><tr><td>Ethiopia</td><td>10271</td><td>39.243</td><td>125.621</td><td>2021-06-05 12:37:05</td></tr><tr><td>Dominica</td><td>4475</td><td>-59.6238</td><td>96.814</td><td>2018-05-01 16:59:40</td></tr><tr><td>Ecuador</td><td>1749</td><td>-76.008</td><td>-129.397</td><td>2018-05-21 23:45:01</td></tr><tr><td>Argentina</td><td>746</td><td>-71.6036</td><td>-175.3</td><td>2019-10-15 00:31:59</td></tr><tr><td>France</td><td>2925</td><td>-38.6499</td><td>-72.8142</td><td>2018-01-12 01:05:35</td></tr><tr><td>Bahamas</td><td>2508</td><td>-46.4572</td><td>131.244</td><td>2018-01-24 08:31:16</td></tr><tr><td>Finland</td><td>7183</td><td>-31.7091</td><td>50.1784</td><td>2020-04-18 00:06:06</td></tr><tr><td>Andorra</td><td>1719</td><td>24.3613</td><td>-26.1229</td><td>2022-06-01 06:43:11</td></tr><tr><td>Georgia</td><td>8352</td><td>-79.019</td><td>-39.4996</td><td>2022-10-09 10:47:24</td></tr><tr><td>Monaco</td><td>3542</td><td>0.214821</td><td>-148.275</td><td>2022-05-15 20:38:55</td></tr><tr><td>Austria</td><td>3317</td><td>46.9331</td><td>-84.3072</td><td>2022-06-14 00:25:02</td></tr><tr><td>Angola</td><td>6453</td><td>-81.0982</td><td>-151.289</td><td>2020-11-30 02:46:39</td></tr><tr><td>Algeria</td><td>737</td><td>-67.0064</td><td>-65.5553</td><td>2019-07-05 08:55:23</td></tr><tr><td>Panama</td><td>4675</td><td>-62.9245</td><td>-74.6713</td><td>2020-06-29 01:50:10</td></tr><tr><td>Mayotte</td><td>2090</td><td>78.1523</td><td>0.381029</td><td>2020-01-10 22:22:33</td></tr><tr><td>Andorra</td><td>4849</td><td>-24.3729</td><td>12.2542</td><td>2022-05-29 04:11:06</td></tr><tr><td>Canada</td><td>8705</td><td>-75.2588</td><td>-107.089</td><td>2020-02-04 20:13:08</td></tr><tr><td>Albania</td><td>101</td><td>-88.8298</td><td>-170.188</td><td>2020-12-30 22:16:20</td></tr><tr><td>Monaco</td><td>7050</td><td>-28.2843</td><td>-134.891</td><td>2020-07-08 00:37:37</td></tr><tr><td>Belize</td><td>3182</td><td>-89.6778</td><td>-169.798</td><td>2020-07-10 02:31:44</td></tr><tr><td>Tokelau</td><td>1626</td><td>-58.448</td><td>-104.059</td><td>2020-09-23 10:43:02</td></tr><tr><td>Romania</td><td>10904</td><td>64.0854</td><td>35.3199</td><td>2017-11-17 03:50:33</td></tr><tr><td>Armenia</td><td>6671</td><td>-38.5336</td><td>63.0323</td><td>2019-06-19 07:38:50</td></tr><tr><td>Singapore</td><td>6849</td><td>15.771</td><td>161.106</td><td>2019-11-13 13:26:28</td></tr><tr><td>Maldives</td><td>4775</td><td>19.1474</td><td>100.721</td><td>2018-03-21 03:50:29</td></tr><tr><td>Lebanon</td><td>1537</td><td>43.6096</td><td>-176.551</td><td>2017-12-15 13:53:57</td></tr><tr><td>Mayotte</td><td>2090</td><td>78.1523</td><td>0.381029</td><td>2020-01-10 22:22:33</td></tr><tr><td>Bahamas</td><td>857</td><td>-87.0574</td><td>-164.826</td><td>2021-12-28 23:31:43</td></tr><tr><td>Andorra</td><td>1719</td><td>24.3613</td><td>-26.1229</td><td>2022-06-01 06:43:11</td></tr><tr><td>Panama</td><td>10868</td><td>-42.1051</td><td>153.465</td><td>2019-06-15 06:59:12</td></tr><tr><td>Albania</td><td>709</td><td>-88.8298</td><td>-170.188</td><td>2020-12-03 15:25:22</td></tr><tr><td>Egypt</td><td>10920</td><td>-58.5064</td><td>-149.458</td><td>2021-05-05 08:08:57</td></tr><tr><td>Argentina</td><td>462</td><td>-89.63</td><td>-179.022</td><td>2022-08-19 23:59:15</td></tr><tr><td>Belize</td><td>3177</td><td>-89.6778</td><td>-169.798</td><td>2022-04-30 12:13:28</td></tr><tr><td>Albania</td><td>856</td><td>-71.6856</td><td>-179.126</td><td>2020-07-22 04:49:08</td></tr><tr><td>Algeria</td><td>8361</td><td>-88.355</td><td>-96.0131</td><td>2019-01-14 02:17:34</td></tr><tr><td>Andorra</td><td>10936</td><td>52.2422</td><td>38.9553</td><td>2020-02-12 06:23:29</td></tr><tr><td>Comoros</td><td>4889</td><td>23.2845</td><td>-156.467</td><td>2020-12-20 07:09:08</td></tr><tr><td>Angola</td><td>1567</td><td>-68.0095</td><td>-157.227</td><td>2020-01-03 01:48:25</td></tr><tr><td>Anguilla</td><td>926</td><td>-84.9417</td><td>156.846</td><td>2021-01-26 10:36:38</td></tr><tr><td>Albania</td><td>7500</td><td>56.5828</td><td>-165.941</td><td>2021-08-08 15:30:48</td></tr><tr><td>Burundi</td><td>1811</td><td>5.98843</td><td>-127.249</td><td>2020-03-01 19:51:40</td></tr><tr><td>Angola</td><td>3803</td><td>-87.3742</td><td>-177.647</td><td>2021-06-19 02:26:08</td></tr><tr><td>Bhutan</td><td>1205</td><td>-89.4241</td><td>-133.328</td><td>2022-05-18 07:01:16</td></tr><tr><td>Bahamas</td><td>6636</td><td>-28.1579</td><td>73.2111</td><td>2018-04-13 08:18:23</td></tr><tr><td>Belize</td><td>5692</td><td>-71.3226</td><td>-2.65747</td><td>2021-12-27 06:24:04</td></tr><tr><td>Bermuda</td><td>2304</td><td>-85.2344</td><td>-94.599</td><td>2019-03-29 02:30:06</td></tr><tr><td>Australia</td><td>1967</td><td>32.74</td><td>-179.581</td><td>2021-02-05 10:37:28</td></tr><tr><td>Bahamas</td><td>2532</td><td>-2.82669</td><td>165.932</td><td>2022-06-16 07:54:10</td></tr><tr><td>Algeria</td><td>8212</td><td>-74.408</td><td>-178.774</td><td>2022-07-04 03:16:28</td></tr><tr><td>Armenia</td><td>372</td><td>-38.4062</td><td>-154.323</td><td>2019-01-29 20:46:52</td></tr><tr><td>Albania</td><td>497</td><td>-88.8298</td><td>-170.188</td><td>2021-10-22 12:59:06</td></tr><tr><td>Korea</td><td>10078</td><td>-56.8367</td><td>-89.6948</td><td>2018-09-11 16:48:17</td></tr><tr><td>Algeria</td><td>7645</td><td>-74.408</td><td>-178.774</td><td>2020-06-19 05:35:30</td></tr><tr><td>Turkey</td><td>3992</td><td>-55.8423</td><td>-47.7024</td><td>2018-04-07 12:40:04</td></tr><tr><td>Georgia</td><td>3281</td><td>16.8902</td><td>-123.373</td><td>2020-12-06 17:01:25</td></tr><tr><td>Ireland</td><td>7182</td><td>70.6273</td><td>-36.4574</td><td>2022-09-19 12:22:51</td></tr><tr><td>Eritrea</td><td>117</td><td>-56.3611</td><td>-1.11339</td><td>2022-01-19 02:37:42</td></tr><tr><td>Belize</td><td>2732</td><td>-89.6778</td><td>-169.798</td><td>2021-11-12 06:01:41</td></tr><tr><td>Algeria</td><td>7683</td><td>-74.408</td><td>-178.774</td><td>2021-05-21 04:11:31</td></tr><tr><td>Bermuda</td><td>2633</td><td>-85.2344</td><td>-94.599</td><td>2020-10-13 14:49:37</td></tr><tr><td>Angola</td><td>4224</td><td>-87.3742</td><td>-177.647</td><td>2019-06-26 17:37:51</td></tr><tr><td>Albania</td><td>414</td><td>-71.6856</td><td>-179.126</td><td>2022-10-17 12:26:12</td></tr><tr><td>Ethiopia</td><td>5083</td><td>9.37365</td><td>111.865</td><td>2022-07-27 23:49:26</td></tr><tr><td>Hungary</td><td>10675</td><td>-73.863</td><td>-137.28</td><td>2018-12-14 21:44:21</td></tr><tr><td>Belize</td><td>4159</td><td>-88.6506</td><td>-120.682</td><td>2022-09-09 12:08:59</td></tr><tr><td>Aruba</td><td>10444</td><td>-74.3664</td><td>-133.937</td><td>2017-10-25 15:12:44</td></tr><tr><td>Guernsey</td><td>6675</td><td>39.0398</td><td>35.7667</td><td>2022-01-22 09:26:46</td></tr><tr><td>Myanmar</td><td>2183</td><td>-60.1473</td><td>124.759</td><td>2022-10-01 05:35:16</td></tr><tr><td>Sudan</td><td>7554</td><td>-51.2172</td><td>-77.9768</td><td>2019-03-20 03:15:07</td></tr><tr><td>Aruba</td><td>4913</td><td>-84.3768</td><td>-157.544</td><td>2019-03-08 06:45:39</td></tr><tr><td>Aruba</td><td>7166</td><td>-86.4063</td><td>-136.657</td><td>2022-07-25 03:07:37</td></tr><tr><td>Bhutan</td><td>3419</td><td>7.60293</td><td>-108.979</td><td>2021-12-20 05:01:54</td></tr><tr><td>Algeria</td><td>1555</td><td>-1.7046</td><td>-55.332</td><td>2017-12-24 18:41:23</td></tr><tr><td>Lesotho</td><td>552</td><td>-80.6043</td><td>31.9601</td><td>2022-03-14 05:12:07</td></tr><tr><td>Tunisia</td><td>2637</td><td>3.0033</td><td>-96.4904</td><td>2022-10-15 13:25:51</td></tr><tr><td>Finland</td><td>1198</td><td>6.37207</td><td>-150.73</td><td>2020-01-24 23:42:18</td></tr><tr><td>Aruba</td><td>7510</td><td>-79.9828</td><td>-172.235</td><td>2021-12-21 01:37:25</td></tr><tr><td>Aruba</td><td>1706</td><td>-71.5025</td><td>-179.257</td><td>2017-11-24 23:36:46</td></tr><tr><td>Israel</td><td>7832</td><td>-53.8629</td><td>91.8136</td><td>2022-02-14 13:47:24</td></tr><tr><td>Kuwait</td><td>3011</td><td>-76.4675</td><td>28.8054</td><td>2019-12-17 17:46:18</td></tr><tr><td>Panama</td><td>9475</td><td>-84.1953</td><td>164.362</td><td>2019-03-19 08:26:35</td></tr><tr><td>Poland</td><td>4996</td><td>39.9625</td><td>-118.569</td><td>2019-04-16 23:49:42</td></tr><tr><td>Kenya</td><td>3145</td><td>-57.5981</td><td>-19.8932</td><td>2022-06-18 22:46:26</td></tr><tr><td>Jamaica</td><td>5742</td><td>-73.4926</td><td>-61.56</td><td>2020-09-02 01:40:18</td></tr><tr><td>Samoa</td><td>10837</td><td>86.6387</td><td>-26.2408</td><td>2018-09-27 07:12:31</td></tr><tr><td>Tuvalu</td><td>8745</td><td>31.6701</td><td>-59.7391</td><td>2020-10-28 03:45:33</td></tr><tr><td>Aruba</td><td>2577</td><td>-71.5025</td><td>-179.257</td><td>2019-08-01 05:45:51</td></tr><tr><td>Bolivia</td><td>1599</td><td>86.0967</td><td>111.323</td><td>2019-02-05 14:58:20</td></tr><tr><td>Bermuda</td><td>2893</td><td>-68.5399</td><td>-28.38</td><td>2018-03-05 04:33:55</td></tr><tr><td>Benin</td><td>10022</td><td>70.5626</td><td>-89.4526</td><td>2018-12-17 20:26:14</td></tr><tr><td>Namibia</td><td>4513</td><td>22.2314</td><td>144.214</td><td>2022-04-11 11:05:13</td></tr><tr><td>Vietnam</td><td>7850</td><td>26.5208</td><td>160.699</td><td>2022-04-09 15:06:01</td></tr><tr><td>Egypt</td><td>6652</td><td>-78.2534</td><td>-170.668</td><td>2018-11-28 08:21:12</td></tr><tr><td>Benin</td><td>9218</td><td>-70.6524</td><td>-171.552</td><td>2020-05-07 21:30:58</td></tr><tr><td>Brazil</td><td>2343</td><td>60.6981</td><td>-79.5945</td><td>2019-10-15 13:21:45</td></tr><tr><td>Bhutan</td><td>4765</td><td>56.1765</td><td>-60.3563</td><td>2020-06-09 00:49:44</td></tr><tr><td>Latvia</td><td>1254</td><td>76.9735</td><td>-178.147</td><td>2021-06-08 18:40:59</td></tr><tr><td>Guinea</td><td>2011</td><td>18.6922</td><td>-80.0756</td><td>2020-12-14 18:11:42</td></tr><tr><td>Belize</td><td>3436</td><td>-35.194</td><td>-115.253</td><td>2022-05-31 23:26:11</td></tr><tr><td>Grenada</td><td>5130</td><td>-86.6858</td><td>-160.5</td><td>2020-10-24 23:43:15</td></tr><tr><td>Estonia</td><td>1675</td><td>13.8054</td><td>13.0336</td><td>2022-06-15 03:39:59</td></tr><tr><td>Panama</td><td>9475</td><td>-84.1953</td><td>164.362</td><td>2019-03-19 08:26:35</td></tr><tr><td>Greece</td><td>5724</td><td>47.1902</td><td>-10.6517</td><td>2018-01-19 07:36:12</td></tr><tr><td>Aruba</td><td>6976</td><td>-74.1238</td><td>-64.0839</td><td>2020-09-14 04:55:37</td></tr><tr><td>India</td><td>2810</td><td>-85.4298</td><td>-49.5099</td><td>2019-12-29 14:34:40</td></tr><tr><td>France</td><td>1139</td><td>-68.4636</td><td>112.577</td><td>2018-05-06 18:02:56</td></tr><tr><td>Aruba</td><td>7437</td><td>-86.4063</td><td>-136.657</td><td>2021-10-27 06:00:23</td></tr><tr><td>Armenia</td><td>1503</td><td>-74.225</td><td>-178.59</td><td>2019-08-18 05:34:11</td></tr><tr><td>Latvia</td><td>7162</td><td>-62.1814</td><td>-161.34</td><td>2017-12-16 03:09:45</td></tr><tr><td>Ecuador</td><td>2975</td><td>42.4695</td><td>101.315</td><td>2021-08-06 01:48:36</td></tr><tr><td>Aruba</td><td>10883</td><td>-53.423</td><td>-59.3144</td><td>2020-07-25 13:21:12</td></tr><tr><td>Uganda</td><td>1643</td><td>52.0489</td><td>-63.5087</td><td>2018-08-17 13:25:13</td></tr><tr><td>Uganda</td><td>1611</td><td>15.9313</td><td>-117.052</td><td>2018-04-09 02:43:42</td></tr><tr><td>Congo</td><td>1024</td><td>-35.9989</td><td>-107.383</td><td>2020-03-11 02:37:45</td></tr><tr><td>Aruba</td><td>4922</td><td>-82.0592</td><td>-92.7514</td><td>2018-05-15 10:56:08</td></tr><tr><td>Benin</td><td>3094</td><td>-88.9184</td><td>-50.9383</td><td>2018-03-22 12:31:19</td></tr><tr><td>Aruba</td><td>7539</td><td>-86.4063</td><td>-136.657</td><td>2020-09-05 06:26:33</td></tr><tr><td>Aruba</td><td>10429</td><td>-47.228</td><td>-166.492</td><td>2021-06-06 09:33:56</td></tr><tr><td>Chile</td><td>10154</td><td>89.5057</td><td>-36.5702</td><td>2022-04-06 21:26:45</td></tr><tr><td>Latvia</td><td>7162</td><td>-62.1814</td><td>-161.34</td><td>2017-12-16 03:09:45</td></tr><tr><td>Macao</td><td>10347</td><td>83.9534</td><td>-3.36801</td><td>2021-08-03 13:04:40</td></tr><tr><td>Bhutan</td><td>3878</td><td>36.8347</td><td>-14.0135</td><td>2022-06-06 16:05:13</td></tr><tr><td>Congo</td><td>9929</td><td>-55.2455</td><td>-97.0937</td><td>2022-04-19 14:19:21</td></tr><tr><td>Nauru</td><td>1175</td><td>-75.0051</td><td>-171.034</td><td>2020-09-16 14:16:31</td></tr><tr><td>Congo</td><td>3930</td><td>-20.2154</td><td>-137.478</td><td>2019-02-24 18:54:12</td></tr><tr><td>Greece</td><td>6797</td><td>-3.94057</td><td>150.733</td><td>2022-02-28 10:25:08</td></tr><tr><td>Greece</td><td>4398</td><td>-67.8237</td><td>17.7927</td><td>2018-12-03 03:33:45</td></tr><tr><td>Belize</td><td>7514</td><td>-82.0184</td><td>129.231</td><td>2020-03-07 10:12:53</td></tr><tr><td>Bolivia</td><td>3164</td><td>-44.6381</td><td>82.124</td><td>2018-04-25 18:32:49</td></tr><tr><td>Brazil</td><td>4489</td><td>55.3371</td><td>-29.5545</td><td>2022-03-27 21:48:39</td></tr><tr><td>Armenia</td><td>1263</td><td>-74.225</td><td>-178.59</td><td>2022-07-02 14:50:03</td></tr><tr><td>Israel</td><td>653</td><td>-65.1612</td><td>-167.961</td><td>2020-10-15 07:38:44</td></tr><tr><td>Aruba</td><td>5349</td><td>-53.7253</td><td>-130.413</td><td>2020-10-09 12:55:51</td></tr><tr><td>Aruba</td><td>7068</td><td>-74.1238</td><td>-64.0839</td><td>2017-10-27 06:07:40</td></tr><tr><td>Niger</td><td>1104</td><td>-67.6004</td><td>-153.472</td><td>2022-01-14 00:33:23</td></tr><tr><td>Aruba</td><td>4115</td><td>-87.2086</td><td>-172.058</td><td>2022-08-23 06:13:19</td></tr><tr><td>India</td><td>2810</td><td>-85.4298</td><td>-49.5099</td><td>2019-12-29 14:34:40</td></tr><tr><td>Macao</td><td>10347</td><td>83.9534</td><td>-3.36801</td><td>2021-08-03 13:04:40</td></tr><tr><td>France</td><td>1349</td><td>-41.0444</td><td>6.37103</td><td>2018-04-26 22:32:36</td></tr><tr><td>Aruba</td><td>5512</td><td>-53.7253</td><td>-130.413</td><td>2022-01-15 23:43:09</td></tr><tr><td>Aruba</td><td>4769</td><td>-82.0592</td><td>-92.7514</td><td>2021-10-16 01:34:51</td></tr><tr><td>Sweden</td><td>3345</td><td>21.5886</td><td>-173.383</td><td>2017-10-24 06:17:09</td></tr><tr><td>Congo</td><td>5155</td><td>-72.6034</td><td>-163.176</td><td>2018-06-07 06:28:37</td></tr><tr><td>Congo</td><td>1707</td><td>-49.9394</td><td>-109.211</td><td>2021-05-01 22:43:52</td></tr><tr><td>Italy</td><td>1032</td><td>-69.0923</td><td>-154.819</td><td>2021-03-21 04:42:59</td></tr><tr><td>Nauru</td><td>6834</td><td>-60.0697</td><td>-109.639</td><td>2019-08-25 15:54:59</td></tr><tr><td>Mexico</td><td>10671</td><td>44.4275</td><td>98.3129</td><td>2018-08-29 03:24:53</td></tr><tr><td>Bahrain</td><td>4327</td><td>43.4514</td><td>121.584</td><td>2017-11-02 02:56:00</td></tr><tr><td>Anguilla</td><td>4448</td><td>24.8451</td><td>158.01</td><td>2019-03-16 15:36:20</td></tr><tr><td>Benin</td><td>3983</td><td>-73.6522</td><td>-164.936</td><td>2019-09-01 10:40:42</td></tr><tr><td>Angola</td><td>533</td><td>-68.0095</td><td>-157.227</td><td>2020-06-28 04:27:45</td></tr><tr><td>Aruba</td><td>6705</td><td>-86.2476</td><td>-171.577</td><td>2021-03-19 16:31:21</td></tr><tr><td>Albania</td><td>27</td><td>-88.8298</td><td>-170.188</td><td>2020-11-15 23:51:27</td></tr><tr><td>Bolivia</td><td>3164</td><td>-44.6381</td><td>82.124</td><td>2018-04-25 18:32:49</td></tr><tr><td>Aruba</td><td>4500</td><td>-84.3768</td><td>-157.544</td><td>2020-09-12 03:16:36</td></tr><tr><td>Congo</td><td>6374</td><td>-76.5909</td><td>-153.068</td><td>2020-05-14 22:42:45</td></tr><tr><td>Guyana</td><td>6633</td><td>86.8189</td><td>-91.7252</td><td>2018-09-02 10:13:09</td></tr><tr><td>France</td><td>250</td><td>-84.4203</td><td>-142.539</td><td>2018-11-08 12:14:12</td></tr><tr><td>Korea</td><td>7446</td><td>-79.3098</td><td>-179.101</td><td>2021-10-08 07:48:05</td></tr><tr><td>Congo</td><td>5184</td><td>-14.7152</td><td>-170.399</td><td>2018-06-27 00:16:41</td></tr><tr><td>Lesotho</td><td>552</td><td>-80.6043</td><td>31.9601</td><td>2022-03-14 05:12:07</td></tr><tr><td>Mexico</td><td>6589</td><td>1.81728</td><td>-67.4792</td><td>2019-09-01 20:52:19</td></tr><tr><td>Korea</td><td>10093</td><td>5.63233</td><td>-128.852</td><td>2018-09-11 01:30:39</td></tr><tr><td>Kiribati</td><td>2216</td><td>21.423</td><td>14.4097</td><td>2018-08-21 03:47:41</td></tr><tr><td>Cyprus</td><td>9700</td><td>25.3879</td><td>-177.604</td><td>2021-02-05 05:06:15</td></tr><tr><td>Aruba</td><td>2430</td><td>-71.5025</td><td>-179.257</td><td>2019-06-23 04:33:25</td></tr><tr><td>Aruba</td><td>9941</td><td>-53.7253</td><td>-130.413</td><td>2021-09-22 02:20:21</td></tr><tr><td>Greece</td><td>6797</td><td>-3.94057</td><td>150.733</td><td>2022-02-28 10:25:08</td></tr><tr><td>Albania</td><td>63</td><td>-88.8298</td><td>-170.188</td><td>2021-10-27 10:14:52</td></tr><tr><td>Aruba</td><td>4420</td><td>-82.0592</td><td>-92.7514</td><td>2017-12-07 13:45:54</td></tr><tr><td>Korea</td><td>6936</td><td>-73.6628</td><td>-67.9815</td><td>2020-07-01 18:58:26</td></tr><tr><td>Qatar</td><td>1919</td><td>-19.5096</td><td>-89.8726</td><td>2022-10-18 15:43:00</td></tr><tr><td>Cyprus</td><td>10582</td><td>-72.511</td><td>111.466</td><td>2021-09-11 20:32:31</td></tr><tr><td>Bhutan</td><td>7260</td><td>-68.975</td><td>-156.817</td><td>2018-07-18 19:54:12</td></tr><tr><td>Bahamas</td><td>9602</td><td>27.215</td><td>-63.1478</td><td>2021-08-25 16:53:57</td></tr><tr><td>Benin</td><td>8501</td><td>-70.6524</td><td>-171.552</td><td>2018-08-19 01:08:37</td></tr><tr><td>Egypt</td><td>6041</td><td>-78.2534</td><td>-170.668</td><td>2018-03-11 15:50:30</td></tr><tr><td>Aruba</td><td>8731</td><td>-83.104</td><td>-171.302</td><td>2020-07-17 04:39:09</td></tr><tr><td>India</td><td>9672</td><td>79.4658</td><td>-69.4133</td><td>2019-11-03 13:15:52</td></tr><tr><td>Congo</td><td>831</td><td>-43.7816</td><td>-66.1592</td><td>2021-06-23 23:16:10</td></tr><tr><td>Aruba</td><td>3800</td><td>-61.471</td><td>-154.912</td><td>2018-01-27 16:49:07</td></tr><tr><td>Monaco</td><td>772</td><td>25.0708</td><td>-97.1964</td><td>2022-09-22 05:59:55</td></tr><tr><td>Chile</td><td>8300</td><td>-64.5259</td><td>19.7049</td><td>2018-02-14 23:50:10</td></tr><tr><td>Comoros</td><td>7738</td><td>66.8478</td><td>22.777</td><td>2017-11-12 03:45:21</td></tr><tr><td>Romania</td><td>859</td><td>89.8261</td><td>48.2256</td><td>2020-04-07 19:23:24</td></tr><tr><td>Albania</td><td>7641</td><td>-87.2</td><td>-177.109</td><td>2021-09-28 13:56:50</td></tr><tr><td>Egypt</td><td>8081</td><td>-33.8238</td><td>-129.18</td><td>2022-03-25 07:42:29</td></tr><tr><td>Aruba</td><td>4024</td><td>-61.471</td><td>-154.912</td><td>2019-10-19 10:03:03</td></tr><tr><td>Macao</td><td>7116</td><td>-18.3686</td><td>72.4109</td><td>2019-09-16 18:45:41</td></tr><tr><td>Ecuador</td><td>25</td><td>-81.3019</td><td>63.8961</td><td>2021-12-02 12:40:33</td></tr><tr><td>Sudan</td><td>649</td><td>-80.7952</td><td>-22.2518</td><td>2020-10-06 14:24:08</td></tr><tr><td>Cuba</td><td>6496</td><td>-80.9436</td><td>-47.4846</td><td>2020-09-05 18:39:01</td></tr><tr><td>Albania</td><td>4</td><td>-88.8298</td><td>-170.188</td><td>2022-07-07 00:18:41</td></tr><tr><td>Fiji</td><td>3644</td><td>-74.6891</td><td>-179.779</td><td>2021-10-31 17:44:26</td></tr><tr><td>Congo</td><td>6170</td><td>-82.4709</td><td>1.37215</td><td>2020-03-29 23:28:43</td></tr><tr><td>Canada</td><td>91</td><td>-54.5927</td><td>-90.6345</td><td>2021-10-11 12:44:03</td></tr><tr><td>Sweden</td><td>7276</td><td>-58.4743</td><td>21.875</td><td>2018-08-03 05:14:15</td></tr><tr><td>Niger</td><td>4113</td><td>23.4312</td><td>-25.2749</td><td>2021-01-06 06:21:50</td></tr><tr><td>Peru</td><td>10853</td><td>26.2386</td><td>-91.1249</td><td>2019-11-03 03:19:46</td></tr><tr><td>Albania</td><td>7983</td><td>-87.2</td><td>-177.109</td><td>2019-06-21 20:51:41</td></tr><tr><td>Iran</td><td>8889</td><td>-77.4233</td><td>-174.444</td><td>2022-10-09 05:28:20</td></tr><tr><td>Uganda</td><td>1881</td><td>10.6188</td><td>103.231</td><td>2018-03-26 06:09:13</td></tr><tr><td>Romania</td><td>9120</td><td>47.556</td><td>3.55852</td><td>2021-09-30 17:07:00</td></tr><tr><td>Guinea</td><td>2780</td><td>20.7163</td><td>118.461</td><td>2021-03-27 04:26:37</td></tr><tr><td>Nauru</td><td>10247</td><td>48.0954</td><td>99.1652</td><td>2021-10-31 01:04:11</td></tr><tr><td>Malta</td><td>896</td><td>-57.9836</td><td>-31.5589</td><td>2018-10-20 13:23:05</td></tr><tr><td>Aruba</td><td>9054</td><td>-83.104</td><td>-171.302</td><td>2020-05-18 01:31:05</td></tr><tr><td>Congo</td><td>831</td><td>-43.7816</td><td>-66.1592</td><td>2021-06-23 23:16:10</td></tr><tr><td>Angola</td><td>4530</td><td>3.30986</td><td>6.98283</td><td>2021-09-10 22:13:57</td></tr><tr><td>Cuba</td><td>2970</td><td>-75.7236</td><td>-156.761</td><td>2022-06-07 05:58:57</td></tr><tr><td>Albania</td><td>7640</td><td>-87.2</td><td>-177.109</td><td>2020-12-26 05:39:12</td></tr><tr><td>Lesotho</td><td>222</td><td>43.8747</td><td>-54.895</td><td>2021-12-13 19:14:15</td></tr><tr><td>Liberia</td><td>2334</td><td>6.486</td><td>-29.3747</td><td>2018-07-26 13:06:01</td></tr><tr><td>Benin</td><td>9812</td><td>-44.6251</td><td>72.8949</td><td>2021-11-20 00:08:55</td></tr><tr><td>Rwanda</td><td>9482</td><td>80.272</td><td>-7.54919</td><td>2022-08-13 15:19:04</td></tr><tr><td>Aruba</td><td>8834</td><td>-83.104</td><td>-171.302</td><td>2018-05-05 18:10:07</td></tr><tr><td>Aruba</td><td>4066</td><td>-61.471</td><td>-154.912</td><td>2020-12-12 13:40:43</td></tr><tr><td>Korea</td><td>6682</td><td>-5.04594</td><td>28.0201</td><td>2019-02-10 06:51:48</td></tr><tr><td>Guyana</td><td>8967</td><td>24.8791</td><td>99.4055</td><td>2021-06-27 12:33:19</td></tr><tr><td>Macao</td><td>3638</td><td>-0.749224</td><td>58.845</td><td>2020-09-12 07:45:37</td></tr><tr><td>Qatar</td><td>1214</td><td>-79.9392</td><td>40.2275</td><td>2021-03-06 20:54:28</td></tr><tr><td>Haiti</td><td>6631</td><td>72.3119</td><td>-66.4951</td><td>2017-12-10 22:59:33</td></tr><tr><td>Aruba</td><td>9223</td><td>-83.104</td><td>-171.302</td><td>2022-08-22 03:36:20</td></tr><tr><td>Monaco</td><td>179</td><td>-69.6993</td><td>160.052</td><td>2019-11-22 14:46:15</td></tr><tr><td>Aruba</td><td>8591</td><td>-83.104</td><td>-171.302</td><td>2021-08-02 15:08:22</td></tr><tr><td>Chad</td><td>2952</td><td>-79.2535</td><td>-170.409</td><td>2019-04-03 08:24:44</td></tr><tr><td>Lesotho</td><td>867</td><td>43.8747</td><td>-54.895</td><td>2020-10-06 15:34:55</td></tr><tr><td>Egypt</td><td>5566</td><td>-72.7358</td><td>67.9857</td><td>2021-02-17 18:10:11</td></tr><tr><td>Aruba</td><td>3359</td><td>-64.984</td><td>-117.531</td><td>2018-12-31 08:50:21</td></tr><tr><td>Egypt</td><td>5566</td><td>-72.7358</td><td>67.9857</td><td>2021-02-17 18:10:11</td></tr><tr><td>Kenya</td><td>6770</td><td>-58.8668</td><td>44.9303</td><td>2021-11-21 22:59:39</td></tr><tr><td>Aruba</td><td>9267</td><td>-83.104</td><td>-171.302</td><td>2019-05-08 18:13:23</td></tr><tr><td>Albania</td><td>7974</td><td>-87.2</td><td>-177.109</td><td>2018-05-24 05:43:00</td></tr><tr><td>Albania</td><td>7596</td><td>-87.2</td><td>-177.109</td><td>2022-09-03 15:27:36</td></tr><tr><td>Japan</td><td>7512</td><td>-69.4772</td><td>14.3683</td><td>2020-01-05 02:10:42</td></tr><tr><td>Aruba</td><td>4050</td><td>-61.471</td><td>-154.912</td><td>2021-05-06 22:25:37</td></tr><tr><td>Lesotho</td><td>867</td><td>43.8747</td><td>-54.895</td><td>2020-10-06 15:34:55</td></tr><tr><td>Congo</td><td>4353</td><td>15.5553</td><td>-55.4806</td><td>2018-02-03 23:18:03</td></tr><tr><td>Sudan</td><td>3774</td><td>-49.1799</td><td>97.2511</td><td>2019-03-16 04:49:06</td></tr><tr><td>Albania</td><td>8452</td><td>-87.2</td><td>-177.109</td><td>2020-07-13 13:22:54</td></tr><tr><td>Gabon</td><td>4220</td><td>15.3315</td><td>-62.6734</td><td>2020-02-09 13:02:02</td></tr><tr><td>China</td><td>8477</td><td>-75.3641</td><td>164.006</td><td>2018-02-18 08:41:43</td></tr><tr><td>Benin</td><td>5252</td><td>-84.5812</td><td>-82.755</td><td>2019-05-14 07:23:55</td></tr><tr><td>Chad</td><td>7407</td><td>-65.5616</td><td>-143.054</td><td>2020-04-25 23:41:24</td></tr><tr><td>Tonga</td><td>1014</td><td>81.1477</td><td>69.3538</td><td>2022-02-03 22:05:34</td></tr><tr><td>Egypt</td><td>2698</td><td>-72.7174</td><td>24.169</td><td>2021-11-24 08:33:51</td></tr><tr><td>Albania</td><td>640</td><td>-87.2</td><td>-177.109</td><td>2019-07-12 16:46:03</td></tr><tr><td>Niue</td><td>8448</td><td>-87.5252</td><td>140.842</td><td>2021-09-06 09:41:31</td></tr><tr><td>Korea</td><td>1514</td><td>88.2631</td><td>96.2413</td><td>2022-02-12 20:43:15</td></tr><tr><td>Niue</td><td>9355</td><td>24.2826</td><td>-7.25448</td><td>2021-04-16 13:44:16</td></tr><tr><td>Gabon</td><td>6019</td><td>-12.722</td><td>178.583</td><td>2019-05-23 22:52:10</td></tr><tr><td>Niue</td><td>8089</td><td>-56.4684</td><td>98.8754</td><td>2018-06-01 04:06:02</td></tr><tr><td>Malta</td><td>604</td><td>-85.3088</td><td>130.617</td><td>2020-12-25 06:02:16</td></tr><tr><td>Angola</td><td>307</td><td>26.8027</td><td>43.1265</td><td>2018-01-25 00:55:00</td></tr><tr><td>Japan</td><td>33</td><td>-47.1159</td><td>-118.396</td><td>2018-02-15 21:25:06</td></tr><tr><td>Benin</td><td>8461</td><td>34.7197</td><td>79.8326</td><td>2021-10-15 09:17:14</td></tr><tr><td>Greece</td><td>320</td><td>12.0902</td><td>113.873</td><td>2019-11-13 10:03:45</td></tr><tr><td>Iran</td><td>1789</td><td>25.4676</td><td>-125.575</td><td>2020-09-28 10:16:28</td></tr><tr><td>Samoa</td><td>3266</td><td>43.6716</td><td>160.165</td><td>2019-02-09 14:23:13</td></tr><tr><td>Haiti</td><td>5254</td><td>42.0864</td><td>127.398</td><td>2020-10-16 10:22:44</td></tr><tr><td>Bhutan</td><td>4761</td><td>45.8605</td><td>-93.66</td><td>2020-06-05 14:36:00</td></tr><tr><td>Kenya</td><td>6403</td><td>24.4809</td><td>160.728</td><td>2021-10-01 16:26:34</td></tr><tr><td>Qatar</td><td>5679</td><td>-31.0302</td><td>69.808</td><td>2020-03-16 12:40:13</td></tr><tr><td>Fiji</td><td>10721</td><td>82.166</td><td>-122.531</td><td>2019-08-16 10:05:09</td></tr><tr><td>Yemen</td><td>6333</td><td>69.6593</td><td>173.413</td><td>2021-05-09 03:29:56</td></tr><tr><td>Malta</td><td>1701</td><td>11.8752</td><td>72.5547</td><td>2018-04-08 20:12:32</td></tr><tr><td>Aruba</td><td>287</td><td>-84.8378</td><td>-167.14</td><td>2022-06-18 10:40:31</td></tr><tr><td>Aruba</td><td>544</td><td>-64.984</td><td>-117.531</td><td>2022-07-08 06:00:32</td></tr><tr><td>India</td><td>4983</td><td>-8.61001</td><td>57.615</td><td>2022-10-16 23:45:36</td></tr><tr><td>Aruba</td><td>301</td><td>-84.8378</td><td>-167.14</td><td>2018-04-15 07:17:24</td></tr><tr><td>Aruba</td><td>734</td><td>-84.8378</td><td>-167.14</td><td>2022-04-04 06:26:56</td></tr><tr><td>Chad</td><td>5463</td><td>-62.3082</td><td>164.589</td><td>2021-11-05 17:50:36</td></tr><tr><td>Aruba</td><td>283</td><td>-84.8378</td><td>-167.14</td><td>2021-01-04 02:59:01</td></tr><tr><td>Cuba</td><td>10932</td><td>87.9514</td><td>113.689</td><td>2022-08-22 08:46:17</td></tr><tr><td>Macao</td><td>8164</td><td>46.1297</td><td>152.314</td><td>2019-04-09 15:18:49</td></tr><tr><td>Aruba</td><td>4036</td><td>-44.1155</td><td>-136.5</td><td>2021-02-05 11:02:01</td></tr><tr><td>Aruba</td><td>601</td><td>-84.8378</td><td>-167.14</td><td>2018-11-09 13:16:19</td></tr><tr><td>Guam</td><td>9778</td><td>85.2343</td><td>126.628</td><td>2020-08-24 14:24:42</td></tr><tr><td>Cuba</td><td>6939</td><td>-83.907</td><td>149.749</td><td>2022-04-06 03:57:03</td></tr><tr><td>Mali</td><td>1901</td><td>48.1778</td><td>124.806</td><td>2018-08-03 19:57:38</td></tr><tr><td>Egypt</td><td>9903</td><td>-73.556</td><td>44.511</td><td>2019-05-12 08:33:31</td></tr><tr><td>Niger</td><td>160</td><td>71.654</td><td>-59.7394</td><td>2019-08-09 06:43:52</td></tr><tr><td>India</td><td>1570</td><td>26.005</td><td>16.2163</td><td>2020-02-28 17:19:16</td></tr><tr><td>Oman</td><td>1530</td><td>65.8719</td><td>110.263</td><td>2018-08-23 03:52:50</td></tr><tr><td>Iran</td><td>6978</td><td>-22.2957</td><td>121.77</td><td>2020-12-07 06:42:02</td></tr><tr><td>China</td><td>935</td><td>38.6535</td><td>38.6415</td><td>2020-12-01 00:14:41</td></tr><tr><td>Fiji</td><td>7078</td><td>1.43641</td><td>135.772</td><td>2019-08-25 06:50:19</td></tr><tr><td>Fiji</td><td>6806</td><td>51.4822</td><td>-20.238</td><td>2020-10-11 11:07:40</td></tr><tr><td>Peru</td><td>9106</td><td>37.2333</td><td>125.404</td><td>2019-05-31 20:07:11</td></tr><tr><td>Togo</td><td>2498</td><td>61.4706</td><td>-51.05</td><td>2021-04-03 18:10:34</td></tr><tr><td>Ghana</td><td>1362</td><td>48.3704</td><td>92.28</td><td>2022-07-20 05:38:18</td></tr><tr><td>Ghana</td><td>365</td><td>64.583</td><td>15.9277</td><td>2020-07-22 01:36:17</td></tr><tr><td>Iran</td><td>678</td><td>50.2114</td><td>56.4204</td><td>2019-09-08 16:46:26</td></tr><tr><td>Peru</td><td>884</td><td>6.86087</td><td>63.4991</td><td>2019-08-20 10:26:48</td></tr><tr><td>Aruba</td><td>527</td><td>-75.3</td><td>-169.77</td><td>2020-11-15 18:35:20</td></tr></tbody></table></div>"
      ]
     },
     "metadata": {
      "application/vnd.databricks.v1+output": {
       "addedWidgets": {},
       "aggData": [],
       "aggError": "",
       "aggOverflow": false,
       "aggSchema": [],
       "aggSeriesLimitReached": false,
       "aggType": "",
       "arguments": {},
       "columnCustomDisplayInfos": {},
       "data": [
        [
         "British Indian Ocean Territory (Chagos Archipelago)",
         9455,
         -82.9272,
         -150.346,
         "2022-03-15 01:46:32"
        ],
        [
         "British Indian Ocean Territory (Chagos Archipelago)",
         6814,
         -86.5675,
         -149.565,
         "2022-09-02 11:34:28"
        ],
        [
         "British Indian Ocean Territory (Chagos Archipelago)",
         5111,
         -83.7472,
         8.65953,
         "2021-04-01 00:56:57"
        ],
        [
         "Antarctica (the territory South of 60 deg S)",
         10073,
         -32.8885,
         -170.295,
         "2021-06-29 19:56:04"
        ],
        [
         "Antarctica (the territory South of 60 deg S)",
         2418,
         -88.4642,
         -171.061,
         "2022-05-27 11:30:59"
        ],
        [
         "Antarctica (the territory South of 60 deg S)",
         5162,
         -71.6607,
         -149.206,
         "2019-09-27 19:06:43"
        ],
        [
         "Antarctica (the territory South of 60 deg S)",
         1335,
         -77.9931,
         -175.682,
         "2022-03-19 17:29:42"
        ],
        [
         "Antarctica (the territory South of 60 deg S)",
         9185,
         -10.3764,
         -22.9809,
         "2019-10-06 18:12:55"
        ],
        [
         "Antarctica (the territory South of 60 deg S)",
         9335,
         -88.4642,
         -171.061,
         "2020-11-14 23:42:22"
        ],
        [
         "Antarctica (the territory South of 60 deg S)",
         6749,
         -88.4642,
         -171.061,
         "2018-04-16 07:39:46"
        ],
        [
         "South Georgia and the South Sandwich Islands",
         10507,
         -89.4786,
         -68.913,
         "2018-12-27 23:57:31"
        ],
        [
         "Antarctica (the territory South of 60 deg S)",
         1729,
         -88.4642,
         -171.061,
         "2021-05-04 14:59:44"
        ],
        [
         "Antarctica (the territory South of 60 deg S)",
         8836,
         -75.0203,
         -108.272,
         "2022-09-06 23:57:01"
        ],
        [
         "Antarctica (the territory South of 60 deg S)",
         4361,
         -24.8372,
         -163.337,
         "2022-07-17 10:48:12"
        ],
        [
         "Antarctica (the territory South of 60 deg S)",
         9117,
         -88.4642,
         -171.061,
         "2018-08-02 03:26:24"
        ],
        [
         "Antarctica (the territory South of 60 deg S)",
         7090,
         -62.92,
         -63.7974,
         "2022-01-08 18:53:52"
        ],
        [
         "Heard Island and McDonald Islands",
         7206,
         -69.8132,
         -173.161,
         "2020-08-19 02:53:12"
        ],
        [
         "Lao People's Democratic Republic",
         8058,
         -45.8033,
         -140.37,
         "2018-08-05 01:23:40"
        ],
        [
         "Heard Island and McDonald Islands",
         7631,
         54.4122,
         130.428,
         "2021-12-15 22:42:25"
        ],
        [
         "Saint Vincent and the Grenadines",
         7958,
         -72.3686,
         174.831,
         "2021-02-26 21:03:00"
        ],
        [
         "Saint Vincent and the Grenadines",
         2301,
         13.4683,
         51.7244,
         "2020-11-14 00:25:28"
        ],
        [
         "Holy See (Vatican City State)",
         7180,
         -22.7118,
         -167.739,
         "2018-04-22 21:33:50"
        ],
        [
         "Svalbard & Jan Mayen Islands",
         10204,
         -14.3257,
         26.9087,
         "2020-04-06 02:56:29"
        ],
        [
         "Svalbard & Jan Mayen Islands",
         10204,
         -14.3257,
         26.9087,
         "2020-04-06 02:56:29"
        ],
        [
         "United States Virgin Islands",
         7718,
         -21.4347,
         108.416,
         "2022-08-10 06:57:29"
        ],
        [
         "Falkland Islands (Malvinas)",
         4186,
         -72.0557,
         -5.16099,
         "2018-09-10 12:52:21"
        ],
        [
         "United States Virgin Islands",
         2297,
         28.1985,
         -94.6501,
         "2021-10-04 19:45:54"
        ],
        [
         "United States Virgin Islands",
         7600,
         13.9054,
         -166.411,
         "2019-10-14 10:12:49"
        ],
        [
         "French Southern Territories",
         6014,
         -26.6026,
         155.206,
         "2019-04-30 12:33:13"
        ],
        [
         "French Southern Territories",
         813,
         -70.9146,
         -136.554,
         "2022-06-13 23:08:43"
        ],
        [
         "Svalbard & Jan Mayen Islands",
         974,
         -56.9556,
         94.6183,
         "2022-03-17 09:24:07"
        ],
        [
         "Bouvet Island (Bouvetoya)",
         10369,
         -79.0994,
         -101.415,
         "2020-02-01 10:43:06"
        ],
        [
         "United States Virgin Islands",
         204,
         29.2096,
         -13.1258,
         "2018-11-23 15:01:11"
        ],
        [
         "Bouvet Island (Bouvetoya)",
         8677,
         -84.3984,
         -144.933,
         "2020-02-12 23:24:01"
        ],
        [
         "Bouvet Island (Bouvetoya)",
         9270,
         -84.3984,
         -144.933,
         "2022-05-23 03:24:24"
        ],
        [
         "Bouvet Island (Bouvetoya)",
         2465,
         -57.1033,
         -29.6301,
         "2022-07-23 11:15:09"
        ],
        [
         "Bouvet Island (Bouvetoya)",
         3185,
         -88.4607,
         -154.638,
         "2022-06-14 09:39:11"
        ],
        [
         "Bouvet Island (Bouvetoya)",
         8251,
         -0.165781,
         -62.325,
         "2022-02-03 11:05:11"
        ],
        [
         "Slovakia (Slovak Republic)",
         10513,
         25.2981,
         143.877,
         "2021-05-30 01:56:22"
        ],
        [
         "Falkland Islands (Malvinas)",
         2226,
         3.38121,
         89.7473,
         "2018-10-14 11:54:15"
        ],
        [
         "Bouvet Island (Bouvetoya)",
         4348,
         -81.2924,
         -145.407,
         "2019-04-06 17:59:09"
        ],
        [
         "Bouvet Island (Bouvetoya)",
         4574,
         -81.2924,
         -145.407,
         "2019-02-22 15:04:43"
        ],
        [
         "Saint Pierre and Miquelon",
         7258,
         -39.2432,
         -46.5562,
         "2022-08-06 15:17:24"
        ],
        [
         "Cocos (Keeling) Islands",
         10794,
         -89.5236,
         -154.567,
         "2022-01-01 02:26:50"
        ],
        [
         "Central African Republic",
         10052,
         14.7195,
         -130.921,
         "2020-01-03 01:10:57"
        ],
        [
         "Bouvet Island (Bouvetoya)",
         6660,
         -54.5264,
         73.4883,
         "2019-02-01 11:00:19"
        ],
        [
         "Saint Pierre and Miquelon",
         7370,
         -24.2107,
         138.463,
         "2018-04-05 08:02:42"
        ],
        [
         "Cocos (Keeling) Islands",
         10020,
         -88.6883,
         -86.0607,
         "2021-08-22 19:54:37"
        ],
        [
         "Bouvet Island (Bouvetoya)",
         9935,
         -88.516,
         -178.811,
         "2022-02-04 05:27:15"
        ],
        [
         "Saint Pierre and Miquelon",
         6740,
         -19.6583,
         90.4449,
         "2022-09-29 22:58:19"
        ],
        [
         "Central African Republic",
         6906,
         -88.5425,
         -157.374,
         "2019-07-12 06:22:04"
        ],
        [
         "Slovakia (Slovak Republic)",
         5084,
         87.8011,
         53.0249,
         "2022-01-06 22:16:07"
        ],
        [
         "Central African Republic",
         7209,
         -88.5425,
         -157.374,
         "2020-02-12 11:09:50"
        ],
        [
         "British Virgin Islands",
         10602,
         -63.6447,
         -132.968,
         "2018-03-05 12:50:32"
        ],
        [
         "United States of America",
         3979,
         -8.70075,
         74.2723,
         "2021-12-30 14:26:47"
        ],
        [
         "Central African Republic",
         6937,
         -56.979,
         -117.695,
         "2018-02-19 01:15:16"
        ],
        [
         "Turks and Caicos Islands",
         8946,
         -46.8006,
         89.0235,
         "2021-04-23 02:37:41"
        ],
        [
         "Central African Republic",
         5322,
         79.7391,
         -99.0832,
         "2018-10-04 09:40:58"
        ],
        [
         "Cocos (Keeling) Islands",
         9582,
         -88.6883,
         -86.0607,
         "2018-05-29 08:25:00"
        ],
        [
         "Cocos (Keeling) Islands",
         5570,
         -86.2425,
         -175.734,
         "2021-06-18 12:44:59"
        ],
        [
         "Central African Republic",
         612,
         -18.2471,
         -145.687,
         "2022-09-05 05:10:23"
        ],
        [
         "Central African Republic",
         2074,
         -52.3213,
         -50.11,
         "2019-11-03 05:41:59"
        ],
        [
         "British Virgin Islands",
         2293,
         -87.7946,
         -159.647,
         "2022-03-21 10:46:53"
        ],
        [
         "British Virgin Islands",
         3824,
         -82.4276,
         -170.019,
         "2018-10-28 19:22:34"
        ],
        [
         "Bosnia and Herzegovina",
         2553,
         -77.5565,
         -152.042,
         "2022-01-05 11:05:38"
        ],
        [
         "British Virgin Islands",
         5395,
         -6.93422,
         -24.9989,
         "2020-08-15 19:30:19"
        ],
        [
         "British Virgin Islands",
         8120,
         -59.1209,
         -93.9878,
         "2022-02-07 04:10:37"
        ],
        [
         "Bosnia and Herzegovina",
         2795,
         -40.1415,
         -34.2076,
         "2018-10-02 02:16:48"
        ],
        [
         "Turks and Caicos Islands",
         4892,
         55.2428,
         94.8432,
         "2020-12-18 21:19:13"
        ],
        [
         "Cocos (Keeling) Islands",
         1188,
         -32.5999,
         18.3353,
         "2019-02-20 19:38:32"
        ],
        [
         "Cocos (Keeling) Islands",
         4651,
         42.3157,
         -56.7178,
         "2020-05-06 16:03:39"
        ],
        [
         "United States of America",
         8732,
         85.718,
         -25.2438,
         "2022-03-06 12:41:07"
        ],
        [
         "British Virgin Islands",
         2337,
         -87.7946,
         -159.647,
         "2019-08-22 16:11:41"
        ],
        [
         "British Virgin Islands",
         2206,
         -72.8879,
         -131.966,
         "2022-08-15 23:33:00"
        ],
        [
         "Saint Kitts and Nevis",
         10663,
         -27.3474,
         -162.83,
         "2019-07-25 18:53:51"
        ],
        [
         "Sao Tome and Principe",
         5293,
         -13.1463,
         -25.9649,
         "2019-05-31 20:49:36"
        ],
        [
         "Sao Tome and Principe",
         9426,
         -29.8646,
         -78.1449,
         "2021-06-30 02:14:47"
        ],
        [
         "Libyan Arab Jamahiriya",
         1857,
         21.2186,
         -40.6656,
         "2018-05-10 13:51:40"
        ],
        [
         "Saint Kitts and Nevis",
         4925,
         -27.7949,
         -15.1704,
         "2018-12-08 06:53:23"
        ],
        [
         "Palestinian Territory",
         8255,
         -73.5682,
         -168.842,
         "2020-09-29 11:37:01"
        ],
        [
         "United States of America",
         8309,
         75.447,
         62.1468,
         "2019-05-14 19:32:10"
        ],
        [
         "Bosnia and Herzegovina",
         228,
         -32.3508,
         -114.656,
         "2021-01-15 17:47:34"
        ],
        [
         "Bosnia and Herzegovina",
         8977,
         -80.2967,
         -166.23,
         "2021-07-05 00:38:13"
        ],
        [
         "Palestinian Territory",
         10319,
         45.3368,
         -145.879,
         "2021-01-04 02:21:08"
        ],
        [
         "Libyan Arab Jamahiriya",
         1170,
         56.1198,
         20.2963,
         "2019-08-07 22:17:07"
        ],
        [
         "British Virgin Islands",
         9550,
         -84.918,
         7.23235,
         "2022-03-23 00:25:45"
        ],
        [
         "Bosnia and Herzegovina",
         2161,
         65.064,
         -26.9196,
         "2019-07-18 22:30:21"
        ],
        [
         "Palestinian Territory",
         791,
         -52.9336,
         -85.6876,
         "2018-09-09 22:08:16"
        ],
        [
         "Antigua and Barbuda",
         7922,
         -88.0974,
         -172.052,
         "2021-01-27 09:14:19"
        ],
        [
         "Antigua and Barbuda",
         8606,
         -88.0974,
         -172.052,
         "2021-03-28 14:54:07"
        ],
        [
         "Antigua and Barbuda",
         2604,
         -80.8933,
         -104.972,
         "2018-12-01 09:23:35"
        ],
        [
         "Antigua and Barbuda",
         2048,
         -89.4008,
         -142.186,
         "2017-11-20 06:33:50"
        ],
        [
         "Antigua and Barbuda",
         2048,
         -89.4008,
         -142.186,
         "2017-11-20 06:33:50"
        ],
        [
         "Netherlands Antilles",
         1324,
         -10.2532,
         -124.71,
         "2019-10-28 01:24:28"
        ],
        [
         "Antigua and Barbuda",
         9665,
         -54.2967,
         -115.789,
         "2019-07-02 12:20:26"
        ],
        [
         "Antigua and Barbuda",
         5106,
         -41.6096,
         -17.9408,
         "2019-11-05 04:24:06"
        ],
        [
         "Bosnia and Herzegovina",
         8146,
         43.735,
         6.26956,
         "2022-08-17 20:56:45"
        ],
        [
         "Netherlands Antilles",
         603,
         14.0083,
         -141.603,
         "2019-06-25 05:13:01"
        ],
        [
         "Antigua and Barbuda",
         2955,
         23.7768,
         -23.4838,
         "2022-10-11 17:21:06"
        ],
        [
         "Antigua and Barbuda",
         450,
         -81.0108,
         -165.206,
         "2018-09-28 05:43:18"
        ],
        [
         "Antigua and Barbuda",
         310,
         -81.0108,
         -165.206,
         "2021-01-25 22:22:37"
        ],
        [
         "Dominican Republic",
         5911,
         -63.6774,
         -118.407,
         "2020-11-04 03:19:21"
        ],
        [
         "Dominican Republic",
         5317,
         -72.2358,
         -119.449,
         "2021-02-21 20:35:38"
        ],
        [
         "Dominican Republic",
         3884,
         -56.7762,
         -130.132,
         "2021-03-02 08:38:33"
        ],
        [
         "Antigua and Barbuda",
         5460,
         -56.1614,
         7.19803,
         "2022-04-25 15:02:37"
        ],
        [
         "Antigua and Barbuda",
         310,
         -81.0108,
         -165.206,
         "2021-01-25 22:22:37"
        ],
        [
         "Dominican Republic",
         5911,
         -63.6774,
         -118.407,
         "2020-11-04 03:19:21"
        ],
        [
         "Dominican Republic",
         9979,
         14.9967,
         -120.682,
         "2018-07-18 19:01:46"
        ],
        [
         "Christmas Island",
         10119,
         -74.5431,
         -162.795,
         "2020-10-22 01:59:58"
        ],
        [
         "Trinidad and Tobago",
         2060,
         52.4584,
         68.6527,
         "2020-01-25 13:54:17"
        ],
        [
         "Wallis and Futuna",
         6615,
         -25.2428,
         -32.8992,
         "2022-01-31 18:53:34"
        ],
        [
         "Antigua and Barbuda",
         74,
         -81.0108,
         -165.206,
         "2020-01-29 14:03:35"
        ],
        [
         "Equatorial Guinea",
         10248,
         -31.9615,
         161.151,
         "2019-11-03 15:11:00"
        ],
        [
         "Brunei Darussalam",
         2904,
         -35.6673,
         -173.786,
         "2022-03-17 06:29:33"
        ],
        [
         "Antigua and Barbuda",
         1972,
         2.58949,
         111.716,
         "2022-06-19 09:31:02"
        ],
        [
         "Antigua and Barbuda",
         9533,
         18.632,
         -179.847,
         "2018-07-20 01:00:43"
        ],
        [
         "Saint Kitts and Nevis",
         5978,
         26.749,
         127.37,
         "2020-06-27 23:54:35"
        ],
        [
         "Brunei Darussalam",
         5763,
         -5.58912,
         -18.8417,
         "2021-10-10 09:15:43"
        ],
        [
         "Christmas Island",
         10119,
         -74.5431,
         -162.795,
         "2020-10-22 01:59:58"
        ],
        [
         "Antigua and Barbuda",
         5357,
         56.8317,
         90.6551,
         "2018-03-01 04:28:29"
        ],
        [
         "Christmas Island",
         1704,
         -56.8702,
         -93.6232,
         "2018-11-29 04:46:39"
        ],
        [
         "Marshall Islands",
         6261,
         -10.3101,
         -109.763,
         "2021-11-11 16:18:45"
        ],
        [
         "Christmas Island",
         10337,
         -42.3069,
         -109.17,
         "2021-10-26 12:09:43"
        ],
        [
         "Solomon Islands",
         10917,
         -86.2944,
         -11.7821,
         "2019-08-18 13:14:30"
        ],
        [
         "Dominican Republic",
         6575,
         81.7192,
         61.5152,
         "2020-12-29 22:59:37"
        ],
        [
         "Equatorial Guinea",
         7271,
         37.8447,
         -98.2389,
         "2022-06-02 07:28:41"
        ],
        [
         "Brunei Darussalam",
         4210,
         67.6263,
         -102.631,
         "2021-08-26 11:24:35"
        ],
        [
         "Marshall Islands",
         10026,
         -70.8314,
         -90.784,
         "2020-01-01 05:36:44"
        ],
        [
         "French Polynesia",
         3175,
         -84.8365,
         -122.171,
         "2021-12-08 02:58:18"
        ],
        [
         "Christmas Island",
         9969,
         -85.0855,
         -156.903,
         "2019-11-02 09:49:59"
        ],
        [
         "Christmas Island",
         4757,
         -79.9806,
         -112.824,
         "2019-12-13 12:56:24"
        ],
        [
         "French Polynesia",
         3175,
         -84.8365,
         -122.171,
         "2021-12-08 02:58:18"
        ],
        [
         "French Polynesia",
         4634,
         -50.8134,
         -160.465,
         "2018-02-21 20:46:48"
        ],
        [
         "Pitcairn Islands",
         3201,
         34.0532,
         -68.4946,
         "2019-06-25 08:31:37"
        ],
        [
         "Saint Barthelemy",
         3563,
         -77.3153,
         -69.505,
         "2018-09-05 07:40:01"
        ],
        [
         "Solomon Islands",
         6916,
         -73.9714,
         -119.315,
         "2020-04-26 04:12:09"
        ],
        [
         "Saint Barthelemy",
         6747,
         -63.5213,
         141.538,
         "2019-04-23 08:01:32"
        ],
        [
         "French Polynesia",
         8004,
         44.8017,
         -151.313,
         "2017-10-20 09:27:16"
        ],
        [
         "Kyrgyz Republic",
         10908,
         -37.8211,
         153.935,
         "2020-07-31 13:10:52"
        ],
        [
         "Pitcairn Islands",
         2861,
         34.0532,
         -68.4946,
         "2022-01-05 21:36:25"
        ],
        [
         "Papua New Guinea",
         7790,
         -43.692,
         64.9839,
         "2018-07-31 08:19:15"
        ],
        [
         "American Samoa",
         9759,
         -77.9744,
         -106.258,
         "2017-12-30 13:05:49"
        ],
        [
         "American Samoa",
         1422,
         -88.5252,
         -172.436,
         "2018-04-30 08:27:21"
        ],
        [
         "American Samoa",
         8312,
         -77.9744,
         -106.258,
         "2021-04-25 15:56:29"
        ],
        [
         "American Samoa",
         1450,
         -88.5252,
         -172.436,
         "2022-01-15 16:04:27"
        ],
        [
         "American Samoa",
         9268,
         -88.5255,
         -161.644,
         "2020-03-16 23:13:51"
        ],
        [
         "American Samoa",
         8886,
         -88.2286,
         -178.919,
         "2022-01-16 10:17:16"
        ],
        [
         "American Samoa",
         4045,
         -89.3099,
         -166.033,
         "2018-03-11 23:01:08"
        ],
        [
         "American Samoa",
         3626,
         -89.3099,
         -166.033,
         "2021-05-31 08:12:00"
        ],
        [
         "Cayman Islands",
         10087,
         38.7097,
         -70.0495,
         "2018-12-10 17:17:32"
        ],
        [
         "American Samoa",
         9407,
         -68.8926,
         -164.968,
         "2022-03-05 17:22:15"
        ],
        [
         "American Samoa",
         3032,
         -66.7253,
         -122.489,
         "2018-04-14 09:28:18"
        ],
        [
         "American Samoa",
         2759,
         -66.7253,
         -122.489,
         "2022-02-20 11:53:20"
        ],
        [
         "Czech Republic",
         9718,
         -76.4505,
         -161.588,
         "2021-11-25 04:36:47"
        ],
        [
         "American Samoa",
         2025,
         -88.5252,
         -172.436,
         "2021-11-08 16:23:39"
        ],
        [
         "American Samoa",
         4251,
         -89.3099,
         -166.033,
         "2018-09-24 23:24:26"
        ],
        [
         "American Samoa",
         9808,
         -77.9744,
         -106.258,
         "2018-02-27 14:43:59"
        ],
        [
         "American Samoa",
         8612,
         -81.8896,
         -153.897,
         "2022-04-09 09:20:15"
        ],
        [
         "American Samoa",
         8700,
         -88.5255,
         -161.644,
         "2019-03-15 15:32:15"
        ],
        [
         "Faroe Islands",
         4505,
         0.0485475,
         -16.5635,
         "2018-06-20 22:11:03"
        ],
        [
         "American Samoa",
         7889,
         -33.1771,
         -171.869,
         "2021-04-13 10:36:07"
        ],
        [
         "American Samoa",
         8843,
         -88.5255,
         -161.644,
         "2020-10-12 16:19:20"
        ],
        [
         "American Samoa",
         4045,
         -89.3099,
         -166.033,
         "2018-03-11 23:01:08"
        ],
        [
         "American Samoa",
         1469,
         -81.8896,
         -153.897,
         "2018-09-28 00:59:30"
        ],
        [
         "American Samoa",
         8561,
         -81.8896,
         -153.897,
         "2019-09-07 20:08:45"
        ],
        [
         "American Samoa",
         1379,
         -88.5252,
         -172.436,
         "2018-05-26 03:05:20"
        ],
        [
         "American Samoa",
         3647,
         -89.3099,
         -166.033,
         "2018-11-27 04:18:51"
        ],
        [
         "American Samoa",
         3480,
         -89.3099,
         -166.033,
         "2018-04-10 08:49:49"
        ],
        [
         "Papua New Guinea",
         4381,
         -73.112,
         166.935,
         "2018-10-24 00:08:30"
        ],
        [
         "Papua New Guinea",
         7790,
         -43.692,
         64.9839,
         "2018-07-31 08:19:15"
        ],
        [
         "Guinea-Bissau",
         10505,
         -79.0714,
         -109.728,
         "2021-08-04 07:22:36"
        ],
        [
         "Cote d'Ivoire",
         2923,
         -84.6302,
         -164.507,
         "2019-09-08 22:53:09"
        ],
        [
         "Czech Republic",
         4862,
         -65.3198,
         -123.45,
         "2021-07-17 05:01:31"
        ],
        [
         "Solomon Islands",
         334,
         -42.0076,
         32.8769,
         "2021-11-06 04:13:00"
        ],
        [
         "Cote d'Ivoire",
         5527,
         -74.0172,
         -109.979,
         "2022-06-03 09:49:02"
        ],
        [
         "American Samoa",
         637,
         -41.2244,
         -158.022,
         "2018-06-06 01:25:58"
        ],
        [
         "Burkina Faso",
         10321,
         -89.1005,
         -151.255,
         "2022-10-09 08:06:50"
        ],
        [
         "American Samoa",
         781,
         -86.4433,
         -178.772,
         "2021-02-27 23:30:48"
        ],
        [
         "American Samoa",
         570,
         -86.4433,
         -178.772,
         "2019-05-21 00:12:37"
        ],
        [
         "American Samoa",
         155,
         -86.4433,
         -178.772,
         "2021-06-01 07:43:02"
        ],
        [
         "American Samoa",
         2354,
         -75.8862,
         -111.36,
         "2022-01-30 05:53:41"
        ],
        [
         "Kyrgyz Republic",
         4122,
         53.8438,
         5.89482,
         "2021-04-03 21:48:54"
        ],
        [
         "American Samoa",
         925,
         -88.5252,
         -172.436,
         "2018-02-02 19:41:14"
        ],
        [
         "American Samoa",
         6021,
         -69.1371,
         151.933,
         "2021-07-25 21:41:11"
        ],
        [
         "American Samoa",
         385,
         -88.5252,
         -172.436,
         "2017-12-30 19:35:54"
        ],
        [
         "American Samoa",
         155,
         -86.4433,
         -178.772,
         "2021-06-01 07:43:02"
        ],
        [
         "Czech Republic",
         5497,
         -84.8278,
         -4.7503,
         "2018-09-10 22:55:37"
        ],
        [
         "Czech Republic",
         5231,
         -84.8278,
         -4.7503,
         "2021-01-03 15:19:31"
        ],
        [
         "American Samoa",
         1963,
         -85.7998,
         -109.58,
         "2022-04-08 09:55:41"
        ],
        [
         "Norfolk Island",
         6781,
         63.0387,
         -69.2727,
         "2021-02-02 21:27:49"
        ],
        [
         "Guinea-Bissau",
         10300,
         -22.5949,
         -65.081,
         "2021-09-12 08:22:08"
        ],
        [
         "French Guiana",
         8304,
         -28.8852,
         -164.87,
         "2019-09-13 04:50:29"
        ],
        [
         "Cote d'Ivoire",
         4315,
         -45.8508,
         66.1003,
         "2019-12-15 03:51:28"
        ],
        [
         "Guinea-Bissau",
         8578,
         34.6427,
         -161.397,
         "2018-01-26 19:27:11"
        ],
        [
         "New Caledonia",
         6844,
         -22.6915,
         5.69245,
         "2021-06-06 21:53:11"
        ],
        [
         "Faroe Islands",
         8978,
         -2.01499,
         3.78198,
         "2017-12-01 13:26:06"
        ],
        [
         "Isle of Man",
         10120,
         -55.1562,
         -122.854,
         "2022-03-10 07:02:32"
        ],
        [
         "Faroe Islands",
         5620,
         -53.6087,
         -121.68,
         "2021-02-18 12:34:44"
        ],
        [
         "French Guiana",
         3660,
         -85.2885,
         6.96501,
         "2018-10-23 21:26:01"
        ],
        [
         "Afghanistan",
         10783,
         -71.4881,
         -117.355,
         "2020-01-28 00:13:29"
        ],
        [
         "French Guiana",
         456,
         -63.2737,
         -163.515,
         "2018-05-17 18:00:51"
        ],
        [
         "Saint Martin",
         1694,
         -32.6594,
         -62.5204,
         "2022-07-14 11:09:10"
        ],
        [
         "Norfolk Island",
         4396,
         15.0521,
         51.8958,
         "2021-03-18 10:05:16"
        ],
        [
         "Liechtenstein",
         7952,
         -38.428,
         -68.0234,
         "2020-11-28 08:11:22"
        ],
        [
         "Guinea-Bissau",
         9530,
         -22.5949,
         -65.081,
         "2021-06-20 12:16:53"
        ],
        [
         "Czech Republic",
         2403,
         12.4979,
         178.574,
         "2019-10-03 03:36:09"
        ],
        [
         "Liechtenstein",
         7537,
         57.5347,
         -129.946,
         "2020-06-01 18:04:11"
        ],
        [
         "Liechtenstein",
         7031,
         62.7213,
         -111.563,
         "2018-03-25 09:15:16"
        ],
        [
         "Burkina Faso",
         7914,
         -45.8257,
         -8.67928,
         "2022-04-07 23:58:08"
        ],
        [
         "New Caledonia",
         10068,
         13.8681,
         169.303,
         "2020-03-21 11:24:52"
        ],
        [
         "Afghanistan",
         3599,
         -88.5478,
         -174.971,
         "2019-03-03 06:13:41"
        ],
        [
         "Afghanistan",
         7268,
         -88.3754,
         -164.273,
         "2019-12-11 14:05:18"
        ],
        [
         "Afghanistan",
         4256,
         -88.5478,
         -174.971,
         "2018-10-10 17:57:16"
        ],
        [
         "Afghanistan",
         10099,
         -89.4261,
         -171.58,
         "2020-12-24 13:33:03"
        ],
        [
         "Burkina Faso",
         8174,
         -66.6708,
         -110.47,
         "2018-10-20 17:28:23"
        ],
        [
         "Turkmenistan",
         9527,
         -38.4443,
         170.601,
         "2021-11-17 07:50:58"
        ],
        [
         "New Caledonia",
         744,
         -76.8074,
         58.7517,
         "2019-08-28 15:03:13"
        ],
        [
         "Afghanistan",
         7801,
         -75.9161,
         -27.6285,
         "2017-11-18 22:54:58"
        ],
        [
         "Netherlands",
         6717,
         -58.7512,
         -162.324,
         "2022-09-07 16:35:00"
        ],
        [
         "Bangladesh",
         10425,
         -89.4254,
         -161.818,
         "2022-03-30 21:28:40"
        ],
        [
         "Afghanistan",
         4424,
         -85.7989,
         -150.644,
         "2021-05-18 02:48:52"
        ],
        [
         "Afghanistan",
         3831,
         -88.5478,
         -174.971,
         "2018-07-22 21:46:59"
        ],
        [
         "Afghanistan",
         6602,
         -88.0192,
         -169.911,
         "2019-06-06 07:40:48"
        ],
        [
         "South Africa",
         10804,
         69.9913,
         170.373,
         "2020-04-05 04:16:50"
        ],
        [
         "Afghanistan",
         9198,
         -12.1295,
         -29.9199,
         "2019-04-07 22:11:02"
        ],
        [
         "Afghanistan",
         4249,
         -88.5478,
         -174.971,
         "2021-09-01 11:10:02"
        ],
        [
         "El Salvador",
         7961,
         -25.6526,
         -170.677,
         "2018-02-22 05:12:04"
        ],
        [
         "Afghanistan",
         4245,
         -88.5478,
         -174.971,
         "2018-01-24 03:15:26"
        ],
        [
         "Afghanistan",
         3352,
         -84.5322,
         -179.647,
         "2018-11-28 20:01:55"
        ],
        [
         "Afghanistan",
         7285,
         -88.3754,
         -164.273,
         "2018-12-08 09:53:32"
        ],
        [
         "Afghanistan",
         3896,
         -88.5478,
         -174.971,
         "2020-10-01 22:49:42"
        ],
        [
         "Afghanistan",
         8315,
         -87.8179,
         -178.525,
         "2018-10-03 00:29:49"
        ],
        [
         "Afghanistan",
         7902,
         -87.8179,
         -178.525,
         "2022-04-13 15:57:13"
        ],
        [
         "Afghanistan",
         4585,
         -75.7662,
         -171.892,
         "2021-12-05 18:36:27"
        ],
        [
         "Faroe Islands",
         4590,
         -70.8231,
         62.688,
         "2021-12-15 01:16:31"
        ],
        [
         "Afghanistan",
         8282,
         -87.8179,
         -178.525,
         "2022-10-11 08:19:45"
        ],
        [
         "Puerto Rico",
         2447,
         -53.9666,
         -0.87653,
         "2021-11-27 04:12:27"
        ],
        [
         "Afghanistan",
         7154,
         -88.3754,
         -164.273,
         "2022-03-26 23:36:54"
        ],
        [
         "Cote d'Ivoire",
         9791,
         62.1818,
         80.6331,
         "2022-09-12 04:27:50"
        ],
        [
         "Burkina Faso",
         7752,
         -66.6708,
         -110.47,
         "2019-08-04 08:10:47"
        ],
        [
         "Afghanistan",
         3717,
         -88.5478,
         -174.971,
         "2019-05-20 06:15:42"
        ],
        [
         "Azerbaijan",
         10253,
         -89.3669,
         -170.886,
         "2018-03-07 12:37:25"
        ],
        [
         "Philippines",
         10500,
         -84.9984,
         155.706,
         "2019-06-16 10:28:02"
        ],
        [
         "Afghanistan",
         8509,
         -12.1295,
         -29.9199,
         "2019-01-16 20:04:11"
        ],
        [
         "Cote d'Ivoire",
         1473,
         1.54969,
         92.6435,
         "2021-08-11 20:54:01"
        ],
        [
         "Afghanistan",
         3239,
         -78.0893,
         -57.1052,
         "2019-10-22 00:54:29"
        ],
        [
         "Afghanistan",
         3475,
         -88.5478,
         -174.971,
         "2018-01-20 01:58:54"
        ],
        [
         "Saint Helena",
         443,
         -53.7383,
         -86.0636,
         "2017-12-28 04:23:13"
        ],
        [
         "Azerbaijan",
         5069,
         -63.0063,
         -157.474,
         "2021-03-20 09:32:44"
        ],
        [
         "Mozambique",
         6145,
         -65.9079,
         -143.845,
         "2019-12-05 02:09:44"
        ],
        [
         "Philippines",
         4508,
         69.1858,
         -76.0761,
         "2019-01-04 11:15:27"
        ],
        [
         "Madagascar",
         4988,
         -32.1879,
         -35.2784,
         "2020-07-11 11:01:12"
        ],
        [
         "Isle of Man",
         427,
         -66.9418,
         -30.0087,
         "2020-04-22 03:08:50"
        ],
        [
         "Azerbaijan",
         5758,
         -79.3714,
         -145.242,
         "2018-09-12 15:08:34"
        ],
        [
         "Guadeloupe",
         6558,
         -26.4944,
         -174.009,
         "2019-09-08 03:27:31"
        ],
        [
         "Saint Helena",
         1521,
         24.5192,
         64.9674,
         "2022-10-12 14:03:26"
        ],
        [
         "Bangladesh",
         1814,
         -82.3274,
         -122.209,
         "2020-04-25 10:16:28"
        ],
        [
         "Bangladesh",
         6348,
         -76.8013,
         -28.1091,
         "2019-07-30 01:45:14"
        ],
        [
         "New Zealand",
         8505,
         63.1367,
         -61.1867,
         "2018-07-13 22:57:41"
        ],
        [
         "El Salvador",
         4654,
         -77.816,
         -168.413,
         "2020-06-22 16:43:58"
        ],
        [
         "Guinea-Bissau",
         2315,
         17.806,
         -1.9042,
         "2019-06-05 08:54:04"
        ],
        [
         "Bangladesh",
         6809,
         -89.4254,
         -161.818,
         "2020-04-17 13:20:43"
        ],
        [
         "Luxembourg",
         3504,
         -49.3653,
         -110.641,
         "2021-08-19 00:41:47"
        ],
        [
         "Afghanistan",
         1786,
         33.2467,
         -132.693,
         "2018-05-15 13:12:23"
        ],
        [
         "Cape Verde",
         1308,
         -84.8196,
         -76.5704,
         "2021-05-24 13:17:12"
        ],
        [
         "Costa Rica",
         6276,
         -25.6124,
         -79.4675,
         "2022-04-02 10:32:04"
        ],
        [
         "Turkmenistan",
         4670,
         3.12721,
         24.4592,
         "2021-09-28 23:26:00"
        ],
        [
         "Bangladesh",
         2041,
         -52.0123,
         -148.446,
         "2022-03-01 18:26:27"
        ],
        [
         "Azerbaijan",
         7685,
         -50.8291,
         -40.8846,
         "2020-06-07 21:29:34"
        ],
        [
         "Azerbaijan",
         9234,
         -68.2139,
         -44.4492,
         "2021-07-08 05:58:46"
        ],
        [
         "Cook Islands",
         9643,
         89.4443,
         174.703,
         "2020-08-06 23:23:24"
        ],
        [
         "Azerbaijan",
         2308,
         -42.3946,
         -149.855,
         "2020-02-01 13:56:01"
        ],
        [
         "Azerbaijan",
         6305,
         -89.3669,
         -170.886,
         "2021-05-09 19:54:08"
        ],
        [
         "Afghanistan",
         7861,
         -39.7124,
         25.1539,
         "2019-02-26 16:20:44"
        ],
        [
         "Afghanistan",
         5796,
         -89.328,
         -175.555,
         "2020-09-01 12:47:49"
        ],
        [
         "Guadeloupe",
         2499,
         -69.8437,
         -61.9355,
         "2021-09-22 22:23:13"
        ],
        [
         "Guadeloupe",
         2523,
         -22.4337,
         -96.2152,
         "2018-07-09 01:36:13"
        ],
        [
         "Afghanistan",
         5405,
         -89.328,
         -175.555,
         "2019-04-05 14:51:19"
        ],
        [
         "Bangladesh",
         5561,
         -80.6398,
         -57.7465,
         "2022-06-21 20:46:51"
        ],
        [
         "Saudi Arabia",
         1065,
         25.4542,
         26.6371,
         "2018-09-27 13:09:39"
        ],
        [
         "Montserrat",
         3688,
         -64.6183,
         -173.527,
         "2020-12-01 08:22:49"
        ],
        [
         "Switzerland",
         8277,
         40.4887,
         -39.9694,
         "2021-10-25 06:21:53"
        ],
        [
         "Azerbaijan",
         3285,
         -42.3946,
         -149.855,
         "2022-07-26 17:05:09"
        ],
        [
         "Burkina Faso",
         6586,
         53.9251,
         105.744,
         "2017-11-04 07:10:22"
        ],
        [
         "Azerbaijan",
         5126,
         -32.1812,
         -138.244,
         "2020-04-05 00:40:49"
        ],
        [
         "Madagascar",
         7073,
         -33.9813,
         -128.525,
         "2021-12-23 13:56:14"
        ],
        [
         "Afghanistan",
         660,
         -75.7662,
         -171.892,
         "2021-06-01 23:24:07"
        ],
        [
         "Azerbaijan",
         3285,
         -42.3946,
         -149.855,
         "2022-07-26 17:05:09"
        ],
        [
         "Azerbaijan",
         5003,
         -89.3669,
         -170.886,
         "2021-11-23 21:14:44"
        ],
        [
         "Azerbaijan",
         5117,
         -45.4254,
         -178.805,
         "2018-07-31 04:06:21"
        ],
        [
         "Saint Martin",
         8083,
         68.4336,
         -67.038,
         "2018-07-03 01:16:02"
        ],
        [
         "Bangladesh",
         5561,
         -80.6398,
         -57.7465,
         "2022-06-21 20:46:51"
        ],
        [
         "Micronesia",
         9995,
         -9.48888,
         -144.585,
         "2020-02-28 13:18:04"
        ],
        [
         "Bangladesh",
         4157,
         -27.9758,
         -133.082,
         "2019-03-17 07:31:52"
        ],
        [
         "Azerbaijan",
         2908,
         -71.2179,
         -152.808,
         "2018-05-05 02:37:55"
        ],
        [
         "Kazakhstan",
         9020,
         -75.7504,
         -120.512,
         "2021-08-31 12:43:25"
        ],
        [
         "Afghanistan",
         3683,
         -26.686,
         -174.249,
         "2019-04-01 09:33:55"
        ],
        [
         "Netherlands",
         6122,
         -72.914,
         -87.8294,
         "2022-07-10 09:28:35"
        ],
        [
         "Bangladesh",
         428,
         -83.4105,
         -150.788,
         "2020-09-27 18:46:41"
        ],
        [
         "Australia",
         7343,
         -65.4428,
         -161.684,
         "2018-08-06 12:17:07"
        ],
        [
         "Seychelles",
         8653,
         48.4569,
         -139.658,
         "2022-04-11 18:30:19"
        ],
        [
         "Isle of Man",
         5468,
         -83.544,
         33.9473,
         "2020-05-16 23:17:50"
        ],
        [
         "Argentina",
         8930,
         -89.4739,
         -176.154,
         "2021-09-29 13:25:49"
        ],
        [
         "Australia",
         7294,
         -76.2967,
         -136.501,
         "2018-02-12 08:06:28"
        ],
        [
         "Montserrat",
         771,
         -29.1712,
         -107.111,
         "2018-06-21 08:42:57"
        ],
        [
         "Mauritania",
         4076,
         -67.2157,
         27.8139,
         "2019-06-07 20:13:50"
        ],
        [
         "Gibraltar",
         10509,
         -67.187,
         -24.2977,
         "2019-03-06 12:21:56"
        ],
        [
         "Australia",
         9936,
         -82.1715,
         -147.691,
         "2018-06-30 22:07:13"
        ],
        [
         "Cape Verde",
         6566,
         -39.225,
         -71.6593,
         "2020-11-19 10:06:13"
        ],
        [
         "Isle of Man",
         223,
         1.15509,
         -118.397,
         "2018-12-07 07:30:40"
        ],
        [
         "Argentina",
         2858,
         -65.1565,
         -166.807,
         "2018-05-03 13:27:09"
        ],
        [
         "Nicaragua",
         10673,
         37.1991,
         -32.1713,
         "2021-06-30 08:47:01"
        ],
        [
         "Mozambique",
         480,
         -30.7158,
         -167.461,
         "2019-02-08 03:34:58"
        ],
        [
         "Guatemala",
         5151,
         -47.3372,
         -151.397,
         "2020-07-15 01:42:38"
        ],
        [
         "Cape Verde",
         3184,
         -41.293,
         -171.585,
         "2018-09-25 23:17:46"
        ],
        [
         "Argentina",
         1961,
         -65.3952,
         -175.249,
         "2022-07-29 18:16:50"
        ],
        [
         "Bangladesh",
         680,
         -73.1838,
         -154.293,
         "2019-03-29 23:22:56"
        ],
        [
         "Venezuela",
         3008,
         0.314337,
         -58.7666,
         "2019-07-31 22:36:11"
        ],
        [
         "Puerto Rico",
         4377,
         -55.7837,
         2.5347,
         "2020-07-18 04:12:10"
        ],
        [
         "Argentina",
         5737,
         -80.3487,
         -178.419,
         "2020-04-11 11:27:31"
        ],
        [
         "Indonesia",
         5704,
         -85.9781,
         -172.038,
         "2019-12-31 11:38:29"
        ],
        [
         "Argentina",
         8488,
         -89.4739,
         -176.154,
         "2017-12-20 03:09:10"
        ],
        [
         "Argentina",
         7940,
         -87.7034,
         -178.422,
         "2021-11-29 09:13:08"
        ],
        [
         "Bangladesh",
         1667,
         -83.448,
         -147.771,
         "2022-02-23 16:10:08"
        ],
        [
         "Argentina",
         9146,
         -89.4739,
         -176.154,
         "2018-08-08 16:20:34"
        ],
        [
         "Mozambique",
         7484,
         -6.16637,
         16.2863,
         "2021-12-16 20:21:16"
        ],
        [
         "Singapore",
         10865,
         45.0564,
         -115.624,
         "2019-09-16 04:32:25"
        ],
        [
         "Azerbaijan",
         4857,
         -39.5852,
         -175.96,
         "2022-09-14 00:06:18"
        ],
        [
         "Argentina",
         8854,
         -89.4739,
         -176.154,
         "2021-05-24 12:35:37"
        ],
        [
         "Argentina",
         7862,
         -87.7034,
         -178.422,
         "2019-09-01 19:08:58"
        ],
        [
         "Australia",
         8519,
         -71.5286,
         -122.063,
         "2019-05-06 20:52:00"
        ],
        [
         "Montserrat",
         4816,
         -55.559,
         -64.4094,
         "2022-05-12 08:02:36"
        ],
        [
         "Argentina",
         9256,
         -89.4739,
         -176.154,
         "2019-06-03 10:53:49"
        ],
        [
         "Australia",
         1776,
         -54.0745,
         -21.3922,
         "2018-11-02 18:29:02"
        ],
        [
         "El Salvador",
         909,
         -19.8508,
         19.7334,
         "2020-08-21 12:45:03"
        ],
        [
         "Bulgaria",
         10570,
         -87.6895,
         -176.801,
         "2021-12-29 05:55:33"
        ],
        [
         "Argentina",
         7356,
         -89.4739,
         -176.154,
         "2018-10-07 01:04:55"
        ],
        [
         "Tajikistan",
         924,
         -83.1793,
         -16.6569,
         "2022-07-30 11:11:55"
        ],
        [
         "Montserrat",
         9123,
         53.8446,
         -84.5662,
         "2019-04-30 02:16:32"
        ],
        [
         "Costa Rica",
         6386,
         -86.2326,
         -144.71,
         "2019-02-24 14:41:20"
        ],
        [
         "Cape Verde",
         3052,
         -41.293,
         -171.585,
         "2020-12-16 19:51:57"
        ],
        [
         "Bulgaria",
         10566,
         -65.0348,
         -139.576,
         "2022-08-02 03:56:01"
        ],
        [
         "Indonesia",
         5523,
         -33.6892,
         -71.3189,
         "2018-10-06 18:24:48"
        ],
        [
         "Australia",
         8407,
         -4.42914,
         -23.6931,
         "2018-11-14 06:25:25"
        ],
        [
         "Argentina",
         8941,
         -89.4739,
         -176.154,
         "2019-01-11 22:37:24"
        ],
        [
         "Indonesia",
         5523,
         -33.6892,
         -71.3189,
         "2018-10-06 18:24:48"
        ],
        [
         "Australia",
         6521,
         -82.0198,
         -155.211,
         "2020-05-27 11:27:08"
        ],
        [
         "Singapore",
         9721,
         -17.4568,
         -148.686,
         "2021-11-06 19:42:39"
        ],
        [
         "Bulgaria",
         10659,
         -87.6895,
         -176.801,
         "2018-06-12 12:29:05"
        ],
        [
         "Azerbaijan",
         6680,
         -24.8545,
         162.173,
         "2020-09-06 18:52:17"
        ],
        [
         "Argentina",
         9402,
         -89.4739,
         -176.154,
         "2022-06-15 08:25:16"
        ],
        [
         "Argentina",
         5360,
         -87.2245,
         -100.213,
         "2017-11-04 17:03:23"
        ],
        [
         "Argentina",
         2858,
         -65.1565,
         -166.807,
         "2018-05-03 13:27:09"
        ],
        [
         "Argentina",
         8941,
         -89.4739,
         -176.154,
         "2019-01-11 22:37:24"
        ],
        [
         "Bangladesh",
         7529,
         -29.9924,
         90.2718,
         "2017-12-12 08:44:52"
        ],
        [
         "Argentina",
         6498,
         -65.3952,
         -175.249,
         "2020-04-04 16:25:16"
        ],
        [
         "Bulgaria",
         10570,
         -87.6895,
         -176.801,
         "2021-12-29 05:55:33"
        ],
        [
         "Azerbaijan",
         5526,
         -78.0948,
         136.476,
         "2020-10-15 18:40:44"
        ],
        [
         "Cape Verde",
         3747,
         46.7845,
         -63.5658,
         "2020-07-06 06:40:16"
        ],
        [
         "Australia",
         6521,
         -82.0198,
         -155.211,
         "2020-05-27 11:27:08"
        ],
        [
         "Argentina",
         5457,
         -80.3487,
         -178.419,
         "2022-06-25 10:29:40"
        ],
        [
         "Martinique",
         4724,
         25.6497,
         -79.8812,
         "2021-08-20 10:21:07"
        ],
        [
         "Argentina",
         9333,
         -89.4739,
         -176.154,
         "2017-10-23 19:50:20"
        ],
        [
         "Bangladesh",
         2529,
         1.84103,
         -139.031,
         "2020-08-31 08:01:19"
        ],
        [
         "Barbados",
         10158,
         -74.3382,
         -110.484,
         "2018-10-22 00:56:14"
        ],
        [
         "Bulgaria",
         10711,
         -87.6895,
         -176.801,
         "2018-12-06 02:51:03"
        ],
        [
         "Bangladesh",
         1969,
         -75.942,
         -74.9383,
         "2022-04-21 00:32:37"
        ],
        [
         "Mauritania",
         2316,
         74.5185,
         -35.3238,
         "2018-11-06 12:57:58"
        ],
        [
         "Bulgaria",
         5494,
         -82.6768,
         -129.202,
         "2021-07-21 02:02:35"
        ],
        [
         "Anguilla",
         6063,
         -89.1797,
         -174.015,
         "2021-07-20 09:02:47"
        ],
        [
         "Cambodia",
         3454,
         -0.375174,
         49.8106,
         "2021-07-25 02:20:29"
        ],
        [
         "Jamaica",
         10625,
         -84.4944,
         -81.0613,
         "2018-07-13 11:51:15"
        ],
        [
         "Barbados",
         9875,
         -74.3382,
         -110.484,
         "2020-03-20 13:03:18"
        ],
        [
         "Botswana",
         8887,
         -28.0137,
         -160.708,
         "2021-09-19 05:27:43"
        ],
        [
         "Australia",
         4137,
         -55.3079,
         108.918,
         "2019-06-23 22:16:34"
        ],
        [
         "Argentina",
         1268,
         -41.7803,
         -177.23,
         "2019-07-06 04:10:29"
        ],
        [
         "Maldives",
         5309,
         -89.4194,
         -84.2493,
         "2020-05-04 22:00:32"
        ],
        [
         "Seychelles",
         1137,
         12.2544,
         10.7361,
         "2020-12-26 00:56:04"
        ],
        [
         "Lithuania",
         3716,
         32.6648,
         -16.0578,
         "2018-12-31 20:43:42"
        ],
        [
         "Anguilla",
         3334,
         -89.0609,
         -170.904,
         "2019-09-26 20:13:48"
        ],
        [
         "Bulgaria",
         2565,
         -87.4992,
         -177.336,
         "2022-02-06 13:42:35"
        ],
        [
         "Portugal",
         3351,
         -9.11859,
         -96.9091,
         "2020-09-12 10:34:11"
        ],
        [
         "Barbados",
         3945,
         -66.2816,
         -142.673,
         "2022-04-17 02:01:53"
        ],
        [
         "Anguilla",
         3360,
         -89.0609,
         -170.904,
         "2019-01-26 07:43:57"
        ],
        [
         "Argentina",
         6380,
         -57.051,
         -133.377,
         "2017-12-21 21:46:23"
        ],
        [
         "Bangladesh",
         6299,
         29.1899,
         98.5863,
         "2022-10-05 06:08:34"
        ],
        [
         "Barbados",
         4027,
         -69.7124,
         -165.207,
         "2019-01-23 20:53:22"
        ],
        [
         "Armenia",
         10931,
         -82.9685,
         -178.095,
         "2021-03-20 06:14:31"
        ],
        [
         "Bulgaria",
         7896,
         -64.1231,
         -164.904,
         "2020-06-02 13:49:36"
        ],
        [
         "Slovenia",
         1631,
         -25.8117,
         -69.8618,
         "2020-08-24 10:43:22"
        ],
        [
         "Guatemala",
         7511,
         85.0721,
         -128.483,
         "2019-10-25 19:38:50"
        ],
        [
         "Maldives",
         4780,
         -85.4758,
         -166.172,
         "2020-10-25 17:29:49"
        ],
        [
         "Saudi Arabia",
         5091,
         -19.04,
         3.5168,
         "2020-11-07 10:43:32"
        ],
        [
         "Ethiopia",
         9014,
         -37.2495,
         -118.101,
         "2021-04-20 19:45:15"
        ],
        [
         "Armenia",
         10137,
         -50.8998,
         -112.455,
         "2021-05-03 17:23:40"
        ],
        [
         "Cameroon",
         1179,
         -24.8281,
         -138.237,
         "2018-11-24 03:50:34"
        ],
        [
         "Nicaragua",
         4556,
         69.6624,
         -128.284,
         "2021-01-03 15:01:51"
        ],
        [
         "Swaziland",
         9653,
         -8.51096,
         48.4678,
         "2018-10-04 15:17:55"
        ],
        [
         "Maldives",
         2946,
         -89.8559,
         -170.155,
         "2020-09-26 03:51:16"
        ],
        [
         "Mauritius",
         6957,
         -70.9941,
         168.195,
         "2021-04-25 04:41:38"
        ],
        [
         "Paraguay",
         10585,
         11.1301,
         -96.9338,
         "2018-05-21 07:14:11"
        ],
        [
         "Estonia",
         10677,
         -86.3132,
         -105.805,
         "2018-03-08 17:26:24"
        ],
        [
         "Bahrain",
         10278,
         -52.3365,
         -177.892,
         "2019-07-23 13:35:03"
        ],
        [
         "Botswana",
         2793,
         -84.3867,
         -120.917,
         "2021-03-22 17:39:38"
        ],
        [
         "Bulgaria",
         1832,
         -12.0827,
         -87.0131,
         "2020-08-18 12:11:49"
        ],
        [
         "Cameroon",
         1778,
         -84.7767,
         -155.835,
         "2020-05-23 00:20:16"
        ],
        [
         "Bulgaria",
         4107,
         -54.7673,
         -89.1567,
         "2021-04-21 22:03:54"
        ],
        [
         "Anguilla",
         2288,
         -89.1797,
         -174.015,
         "2019-11-03 06:08:36"
        ],
        [
         "Cambodia",
         1598,
         -55.4968,
         -165.517,
         "2021-05-01 05:03:08"
        ],
        [
         "Cameroon",
         3349,
         -84.7767,
         -155.835,
         "2022-01-09 07:39:35"
        ],
        [
         "Bahamas",
         10715,
         -57.3926,
         -145.818,
         "2022-09-24 08:05:54"
        ],
        [
         "Nicaragua",
         7093,
         -11.9605,
         92.2728,
         "2022-06-06 14:11:52"
        ],
        [
         "Anguilla",
         9183,
         -54.9713,
         -55.3111,
         "2020-04-20 07:48:31"
        ],
        [
         "Guernsey",
         7560,
         -19.6852,
         -44.3416,
         "2017-11-24 08:58:34"
        ],
        [
         "Mongolia",
         7057,
         -60.6942,
         -125.106,
         "2020-11-13 07:13:30"
        ],
        [
         "Cambodia",
         1411,
         -55.4968,
         -165.517,
         "2019-10-24 03:10:37"
        ],
        [
         "Somalia",
         10156,
         -16.9412,
         -35.1592,
         "2019-03-08 14:42:14"
        ],
        [
         "Lithuania",
         2754,
         -86.4467,
         -74.949,
         "2019-09-11 02:15:42"
        ],
        [
         "Hong Kong",
         4764,
         37.0844,
         -164.878,
         "2018-01-10 11:06:53"
        ],
        [
         "Armenia",
         10479,
         -82.9685,
         -178.095,
         "2019-03-06 19:31:55"
        ],
        [
         "Belarus",
         10234,
         -89.1492,
         -169.091,
         "2020-08-25 17:45:15"
        ],
        [
         "Cambodia",
         4936,
         -20.2655,
         -163.485,
         "2019-06-04 23:30:11"
        ],
        [
         "Colombia",
         6645,
         -62.5143,
         -114.548,
         "2019-06-18 05:17:37"
        ],
        [
         "Costa Rica",
         8637,
         17.7523,
         90.2341,
         "2020-12-04 20:23:56"
        ],
        [
         "Hong Kong",
         6503,
         42.8093,
         -33.7894,
         "2019-09-01 18:43:30"
        ],
        [
         "Bulgaria",
         1745,
         -87.4992,
         -177.336,
         "2019-12-11 16:49:31"
        ],
        [
         "Anguilla",
         2641,
         -89.0609,
         -170.904,
         "2020-04-30 20:37:18"
        ],
        [
         "Cameroon",
         9567,
         -60.4206,
         -116.385,
         "2021-09-02 20:30:15"
        ],
        [
         "Armenia",
         10912,
         -89.3302,
         -60.6105,
         "2019-12-11 00:03:39"
        ],
        [
         "Anguilla",
         6309,
         -28.9498,
         -165.807,
         "2022-10-14 19:53:00"
        ],
        [
         "Madagascar",
         7648,
         83.3604,
         7.88083,
         "2018-02-14 12:26:14"
        ],
        [
         "Anguilla",
         6018,
         -28.9498,
         -165.807,
         "2020-04-07 22:08:44"
        ],
        [
         "Maldives",
         8204,
         -18.1973,
         -126.543,
         "2019-05-28 05:38:33"
        ],
        [
         "Australia",
         3630,
         34.7482,
         -114.021,
         "2021-06-15 15:10:50"
        ],
        [
         "Cambodia",
         9433,
         -39.7916,
         -157.635,
         "2020-08-15 02:44:48"
        ],
        [
         "Cameroon",
         9539,
         -60.4206,
         -116.385,
         "2018-10-30 04:22:48"
        ],
        [
         "Bulgaria",
         4497,
         -22.2878,
         -125.947,
         "2021-06-09 00:26:04"
        ],
        [
         "Tajikistan",
         9496,
         -52.2729,
         66.094,
         "2022-03-16 10:41:03"
        ],
        [
         "Cameroon",
         9539,
         -60.4206,
         -116.385,
         "2018-10-30 04:22:48"
        ],
        [
         "Bangladesh",
         6188,
         82.8384,
         -54.601,
         "2017-12-16 03:31:14"
        ],
        [
         "Botswana",
         8887,
         -28.0137,
         -160.708,
         "2021-09-19 05:27:43"
        ],
        [
         "Cameroon",
         1735,
         -84.7767,
         -155.835,
         "2018-02-17 03:28:14"
        ],
        [
         "Bulgaria",
         2237,
         -22.2878,
         -125.947,
         "2018-08-22 22:05:46"
        ],
        [
         "Bahrain",
         10278,
         -52.3365,
         -177.892,
         "2019-07-23 13:35:03"
        ],
        [
         "Anguilla",
         3757,
         -89.1797,
         -174.015,
         "2020-12-14 22:13:28"
        ],
        [
         "Argentina",
         891,
         -36.9507,
         -4.59275,
         "2020-01-31 21:12:36"
        ],
        [
         "Anguilla",
         2665,
         -89.0609,
         -170.904,
         "2020-10-08 00:08:33"
        ],
        [
         "Bulgaria",
         1757,
         -64.1231,
         -164.904,
         "2021-10-04 21:34:57"
        ],
        [
         "Cambodia",
         4164,
         -75.3513,
         -38.9191,
         "2019-08-23 09:21:37"
        ],
        [
         "Albania",
         7528,
         -89.9787,
         -173.293,
         "2020-08-28 03:52:47"
        ],
        [
         "Armenia",
         2863,
         -5.34445,
         -177.924,
         "2020-04-27 13:34:16"
        ],
        [
         "Colombia",
         5730,
         -77.015,
         -101.437,
         "2021-04-19 17:37:03"
        ],
        [
         "Albania",
         3089,
         -89.9787,
         -173.293,
         "2018-02-28 05:31:29"
        ],
        [
         "Austria",
         10138,
         -72.142,
         -74.3545,
         "2019-08-03 00:59:29"
        ],
        [
         "Austria",
         9546,
         -70.0295,
         -155.428,
         "2018-02-10 06:16:40"
        ],
        [
         "Albania",
         2411,
         -71.6856,
         -179.126,
         "2020-11-15 17:10:07"
        ],
        [
         "Algeria",
         9590,
         -64.3876,
         -174.281,
         "2019-05-20 19:48:48"
        ],
        [
         "Germany",
         5076,
         -70.7195,
         -91.1935,
         "2019-05-05 16:22:23"
        ],
        [
         "Barbados",
         205,
         -75.8378,
         -163.945,
         "2020-07-08 14:10:38"
        ],
        [
         "Armenia",
         1094,
         -46.7328,
         -124.445,
         "2018-08-19 00:34:20"
        ],
        [
         "Bahrain",
         5630,
         -19.1403,
         -164.987,
         "2019-05-12 14:43:19"
        ],
        [
         "Albania",
         6398,
         -3.29267,
         -179.726,
         "2020-01-19 01:49:05"
        ],
        [
         "Afghanistan",
         46,
         4.21689,
         -145.82,
         "2018-09-15 09:16:57"
        ],
        [
         "Grenada",
         10552,
         32.7568,
         -179.812,
         "2020-08-24 11:39:32"
        ],
        [
         "Andorra",
         1371,
         -89.4584,
         -134.271,
         "2018-08-08 04:41:17"
        ],
        [
         "Andorra",
         9074,
         -84.7363,
         -179.087,
         "2022-04-10 17:06:13"
        ],
        [
         "Finland",
         10370,
         -81.9798,
         -71.932,
         "2018-07-29 15:53:40"
        ],
        [
         "Algeria",
         7234,
         -86.4791,
         -169.547,
         "2017-10-21 14:31:02"
        ],
        [
         "Algeria",
         7874,
         -89.5173,
         -179.689,
         "2022-01-18 08:58:49"
        ],
        [
         "Bahamas",
         10245,
         -50.1835,
         146.776,
         "2020-03-03 15:39:44"
        ],
        [
         "Austria",
         9093,
         -87.7764,
         -151.645,
         "2021-07-24 23:07:06"
        ],
        [
         "Djibouti",
         2788,
         -36.076,
         -94.1779,
         "2019-12-18 03:04:41"
        ],
        [
         "Algeria",
         7733,
         -89.5173,
         -179.689,
         "2022-09-29 10:45:19"
        ],
        [
         "Comoros",
         3750,
         -73.8837,
         -159.054,
         "2022-09-03 23:36:08"
        ],
        [
         "Guatemala",
         778,
         48.2704,
         -123.073,
         "2018-10-19 14:43:39"
        ],
        [
         "Andorra",
         7586,
         -84.7363,
         -179.087,
         "2021-02-07 22:17:31"
        ],
        [
         "Algeria",
         1864,
         -72.3958,
         -164.414,
         "2020-04-24 17:08:13"
        ],
        [
         "Croatia",
         5333,
         -86.6652,
         -173.898,
         "2021-01-20 08:10:08"
        ],
        [
         "Albania",
         1341,
         -89.9787,
         -173.293,
         "2022-08-11 05:25:33"
        ],
        [
         "Austria",
         6250,
         -73.2098,
         -150.856,
         "2020-11-22 18:28:02"
        ],
        [
         "Bahamas",
         4357,
         -75.4909,
         -179.908,
         "2020-03-06 09:56:43"
        ],
        [
         "Bolivia",
         6066,
         -67.7278,
         -174.505,
         "2019-03-04 01:04:11"
        ],
        [
         "Albania",
         1216,
         -69.8134,
         -152.834,
         "2020-07-19 23:57:16"
        ],
        [
         "Namibia",
         7905,
         -47.8121,
         -134.015,
         "2018-11-13 12:39:43"
        ],
        [
         "Finland",
         5488,
         -59.6163,
         -107.324,
         "2021-03-14 05:55:21"
        ],
        [
         "Somalia",
         8341,
         -16.5066,
         -133.185,
         "2022-08-08 05:09:50"
        ],
        [
         "Austria",
         6134,
         -68.8136,
         -128.482,
         "2022-04-03 12:34:59"
        ],
        [
         "Dominica",
         2987,
         83.1466,
         -169.136,
         "2019-12-24 22:33:06"
        ],
        [
         "Colombia",
         5551,
         -67.8095,
         63.2758,
         "2022-03-22 06:04:33"
        ],
        [
         "Martinique",
         8015,
         52.4977,
         94.336,
         "2020-03-13 18:02:39"
        ],
        [
         "Algeria",
         7745,
         -89.5173,
         -179.689,
         "2018-11-01 18:20:28"
        ],
        [
         "Cameroon",
         409,
         -41.5492,
         -152.355,
         "2019-05-28 01:00:22"
        ],
        [
         "Andorra",
         7759,
         -84.7363,
         -179.087,
         "2020-06-14 00:42:47"
        ],
        [
         "Macedonia",
         9425,
         17.5612,
         132.851,
         "2020-07-25 01:35:10"
        ],
        [
         "Malawi",
         10050,
         -62.2012,
         -115.461,
         "2018-09-23 01:54:04"
        ],
        [
         "Hungary",
         4561,
         -63.6785,
         -29.2943,
         "2020-04-05 19:38:48"
        ],
        [
         "Andorra",
         6341,
         -81.6697,
         -149.084,
         "2018-05-22 07:07:24"
        ],
        [
         "Algeria",
         8100,
         -89.5173,
         -179.689,
         "2019-12-03 15:49:59"
        ],
        [
         "Dominica",
         4781,
         -72.0263,
         32.3959,
         "2019-06-30 13:16:16"
        ],
        [
         "Germany",
         5647,
         -82.2521,
         -110.013,
         "2021-05-11 20:20:59"
        ],
        [
         "Austria",
         5166,
         -26.0588,
         -72.2696,
         "2020-01-16 09:56:50"
        ],
        [
         "Albania",
         7240,
         -89.9787,
         -173.293,
         "2022-05-31 21:23:46"
        ],
        [
         "Algeria",
         7670,
         -89.5173,
         -179.689,
         "2021-12-25 18:58:40"
        ],
        [
         "Serbia",
         10160,
         -19.5192,
         -115.211,
         "2019-05-07 04:28:27"
        ],
        [
         "Belgium",
         9734,
         -77.5092,
         -33.8585,
         "2020-07-25 03:43:05"
        ],
        [
         "Algeria",
         9502,
         -71.3184,
         -113.724,
         "2021-06-27 10:58:17"
        ],
        [
         "Albania",
         1341,
         -89.9787,
         -173.293,
         "2022-08-11 05:25:33"
        ],
        [
         "Andorra",
         9155,
         -84.7363,
         -179.087,
         "2021-09-04 20:27:36"
        ],
        [
         "Bermuda",
         7448,
         -48.4974,
         -61.5981,
         "2017-12-20 07:13:19"
        ],
        [
         "Algeria",
         8090,
         -89.5173,
         -179.689,
         "2019-04-18 00:54:25"
        ],
        [
         "Andorra",
         8996,
         -84.7363,
         -179.087,
         "2022-06-12 07:21:52"
        ],
        [
         "Croatia",
         5198,
         -13.8028,
         -160.846,
         "2020-10-21 11:13:53"
        ],
        [
         "Botswana",
         8592,
         -80.8644,
         -133.78,
         "2018-01-18 04:17:50"
        ],
        [
         "Algeria",
         6865,
         -70.3363,
         -42.7487,
         "2020-05-15 16:04:18"
        ],
        [
         "Belarus",
         10538,
         -82.4354,
         59.1527,
         "2018-01-29 03:49:45"
        ],
        [
         "Burundi",
         7467,
         -55.3123,
         -170.812,
         "2020-03-04 20:03:07"
        ],
        [
         "Georgia",
         3813,
         -26.2917,
         -29.1171,
         "2020-06-15 09:37:48"
        ],
        [
         "Algeria",
         8237,
         -89.5173,
         -179.689,
         "2021-07-08 05:55:06"
        ],
        [
         "Andorra",
         7891,
         -89.4584,
         -134.271,
         "2020-05-05 10:10:10"
        ],
        [
         "Andorra",
         9332,
         -73.8268,
         -159.056,
         "2018-09-22 14:44:57"
        ],
        [
         "Bahrain",
         9584,
         -36.8458,
         -116.844,
         "2018-04-23 06:21:51"
        ],
        [
         "Albania",
         5159,
         -62.7034,
         -114.366,
         "2021-08-26 08:03:46"
        ],
        [
         "Albania",
         5759,
         -62.7034,
         -114.366,
         "2019-06-08 02:29:25"
        ],
        [
         "Lithuania",
         9363,
         -74.8991,
         79.285,
         "2018-12-13 03:57:08"
        ],
        [
         "Botswana",
         2172,
         9.88473,
         -160.515,
         "2022-05-19 04:02:52"
        ],
        [
         "Kiribati",
         1026,
         -23.6508,
         14.2803,
         "2021-08-08 06:13:17"
        ],
        [
         "Algeria",
         8449,
         -89.5173,
         -179.689,
         "2022-05-19 10:06:47"
        ],
        [
         "Bolivia",
         6488,
         -87.9073,
         -153.482,
         "2018-05-15 03:11:41"
        ],
        [
         "Botswana",
         1066,
         -54.8354,
         39.6735,
         "2019-08-29 17:31:37"
        ],
        [
         "Albania",
         5230,
         -89.9787,
         -173.293,
         "2022-05-05 00:30:35"
        ],
        [
         "Argentina",
         6181,
         -89.63,
         -179.022,
         "2022-08-18 21:20:00"
        ],
        [
         "Andorra",
         9099,
         -73.8268,
         -159.056,
         "2017-12-24 21:03:56"
        ],
        [
         "Andorra",
         2927,
         -87.1113,
         -159.587,
         "2020-02-14 00:04:58"
        ],
        [
         "Albania",
         1465,
         -69.8134,
         -152.834,
         "2020-11-09 12:15:10"
        ],
        [
         "Bahamas",
         2787,
         -51.5396,
         -105.634,
         "2022-03-05 15:22:38"
        ],
        [
         "Bulgaria",
         7318,
         -30.255,
         -87.2169,
         "2019-10-27 05:28:07"
        ],
        [
         "Algeria",
         7769,
         -89.5173,
         -179.689,
         "2019-05-27 20:40:51"
        ],
        [
         "Tunisia",
         9749,
         -44.6516,
         -5.39518,
         "2022-02-06 22:14:06"
        ],
        [
         "Greenland",
         3710,
         73.3141,
         168.921,
         "2018-11-05 01:18:53"
        ],
        [
         "Venezuela",
         7770,
         50.8676,
         58.8244,
         "2019-10-03 17:28:34"
        ],
        [
         "Argentina",
         9010,
         -89.63,
         -179.022,
         "2018-12-21 18:40:56"
        ],
        [
         "Anguilla",
         1676,
         69.5322,
         -89.9617,
         "2019-01-11 11:53:56"
        ],
        [
         "Bahrain",
         1896,
         -76.9515,
         -150.467,
         "2021-06-18 08:38:10"
        ],
        [
         "Austria",
         5044,
         -89.1633,
         -159.957,
         "2022-08-28 14:19:24"
        ],
        [
         "Andorra",
         3226,
         -87.1113,
         -159.587,
         "2020-07-26 13:44:36"
        ],
        [
         "Djibouti",
         1775,
         -73.588,
         -146.537,
         "2018-05-06 00:29:03"
        ],
        [
         "Lebanon",
         8224,
         -72.7111,
         -162.159,
         "2018-07-01 05:16:34"
        ],
        [
         "Andorra",
         4333,
         -79.0404,
         -143.074,
         "2022-07-24 11:42:30"
        ],
        [
         "Bahamas",
         4944,
         -48.2064,
         -176.272,
         "2020-07-06 02:24:51"
        ],
        [
         "Bulgaria",
         643,
         -87.4992,
         -177.336,
         "2020-06-01 05:58:14"
        ],
        [
         "Bahrain",
         4641,
         -34.1594,
         -124.145,
         "2020-12-23 00:16:10"
        ],
        [
         "Algeria",
         7964,
         -89.5173,
         -179.689,
         "2019-03-08 16:29:06"
        ],
        [
         "Belarus",
         9950,
         -22.3693,
         -133.483,
         "2020-01-14 04:36:41"
        ],
        [
         "Armenia",
         3632,
         -44.7118,
         -74.3034,
         "2021-11-28 14:55:54"
        ],
        [
         "Bahrain",
         5209,
         -66.8154,
         -102.355,
         "2021-01-21 07:00:24"
        ],
        [
         "Andorra",
         9035,
         -84.7363,
         -179.087,
         "2020-05-18 06:09:15"
        ],
        [
         "Algeria",
         7666,
         -89.5173,
         -179.689,
         "2021-02-06 19:47:52"
        ],
        [
         "Bahamas",
         2452,
         -82.2495,
         -135.586,
         "2018-02-16 06:48:42"
        ],
        [
         "Denmark",
         7165,
         -62.9912,
         -142.837,
         "2021-06-02 21:18:20"
        ],
        [
         "Algeria",
         2595,
         -53.9169,
         -104.473,
         "2018-02-03 20:35:30"
        ],
        [
         "Dominica",
         187,
         -55.1732,
         -175.864,
         "2018-06-20 10:32:48"
        ],
        [
         "Andorra",
         1780,
         -87.1113,
         -159.587,
         "2019-11-01 18:14:25"
        ],
        [
         "Venezuela",
         4866,
         9.00668,
         46.1605,
         "2021-10-27 23:57:46"
        ],
        [
         "Albania",
         2779,
         -85.7359,
         -161.599,
         "2018-03-25 22:19:53"
        ],
        [
         "Albania",
         3260,
         -89.3675,
         -157.004,
         "2019-10-23 19:52:59"
        ],
        [
         "Andorra",
         10440,
         -34.1179,
         44.4994,
         "2021-08-20 01:36:51"
        ],
        [
         "Nicaragua",
         7413,
         -41.065,
         169.341,
         "2021-10-23 08:25:14"
        ],
        [
         "Croatia",
         2001,
         -53.7111,
         -138.763,
         "2021-11-11 15:42:04"
        ],
        [
         "Belarus",
         4565,
         -67.9802,
         -22.7204,
         "2018-12-10 22:34:21"
        ],
        [
         "Lebanon",
         7785,
         -72.7111,
         -162.159,
         "2020-02-24 05:42:00"
        ],
        [
         "Algeria",
         6878,
         -86.4791,
         -169.547,
         "2019-03-18 04:11:07"
        ],
        [
         "Austria",
         1322,
         -66.7906,
         -99.8545,
         "2021-08-29 12:37:19"
        ],
        [
         "Albania",
         3561,
         -89.8908,
         -179.887,
         "2021-12-04 14:19:43"
        ],
        [
         "Algeria",
         6963,
         -86.4791,
         -169.547,
         "2018-02-08 03:20:50"
        ],
        [
         "Andorra",
         9452,
         -84.7363,
         -179.087,
         "2021-02-14 08:40:56"
        ],
        [
         "Austria",
         8738,
         -87.7764,
         -151.645,
         "2018-11-21 16:40:06"
        ],
        [
         "Jamaica",
         3843,
         -65.1524,
         -18.7344,
         "2019-09-20 23:22:44"
        ],
        [
         "Hungary",
         10501,
         -82.2067,
         110.935,
         "2020-09-24 13:44:30"
        ],
        [
         "Albania",
         9307,
         -88.8298,
         -170.188,
         "2018-05-05 18:51:37"
        ],
        [
         "Belgium",
         1821,
         -42.9967,
         -111.616,
         "2020-08-29 00:40:44"
        ],
        [
         "Albania",
         4213,
         -89.8908,
         -179.887,
         "2020-05-17 04:33:51"
        ],
        [
         "Algeria",
         8813,
         -89.5173,
         -179.689,
         "2022-09-08 01:30:24"
        ],
        [
         "Colombia",
         6324,
         31.9862,
         -132.101,
         "2022-03-24 20:45:08"
        ],
        [
         "Albania",
         3259,
         -85.7359,
         -161.599,
         "2020-01-12 04:39:05"
        ],
        [
         "Finland",
         6264,
         -72.5021,
         -128.903,
         "2019-06-09 00:01:11"
        ],
        [
         "Albania",
         6813,
         -89.9787,
         -173.293,
         "2019-03-28 09:34:06"
        ],
        [
         "Bermuda",
         4482,
         -79.0427,
         -174.242,
         "2020-04-14 23:57:05"
        ],
        [
         "Algeria",
         10097,
         -74.7055,
         -177.87,
         "2021-09-24 16:28:48"
        ],
        [
         "Albania",
         2715,
         -58.4025,
         -168.097,
         "2021-12-29 12:18:25"
        ],
        [
         "Honduras",
         4931,
         42.2143,
         -45.0378,
         "2020-03-27 07:42:02"
        ],
        [
         "Guinea",
         10524,
         -39.0782,
         -177.418,
         "2022-02-09 07:36:35"
        ],
        [
         "Albania",
         2530,
         -89.3675,
         -157.004,
         "2018-08-21 22:40:24"
        ],
        [
         "Lesotho",
         1301,
         -20.2845,
         -1.62035,
         "2020-12-16 16:24:43"
        ],
        [
         "Mongolia",
         8699,
         -66.2443,
         106.397,
         "2018-03-08 03:33:18"
        ],
        [
         "Algeria",
         10179,
         -74.7055,
         -177.87,
         "2019-11-06 05:51:25"
        ],
        [
         "Andorra",
         3556,
         -88.0812,
         -166.603,
         "2022-02-05 02:03:08"
        ],
        [
         "Belgium",
         8159,
         -62.2853,
         -176.497,
         "2021-01-02 09:48:03"
        ],
        [
         "Bahamas",
         3485,
         -87.0574,
         -164.826,
         "2020-05-07 16:28:18"
        ],
        [
         "Armenia",
         4271,
         -44.7118,
         -74.3034,
         "2021-01-02 01:56:52"
        ],
        [
         "Botswana",
         5365,
         -87.476,
         -163.419,
         "2020-10-07 01:28:01"
        ],
        [
         "Grenada",
         8385,
         -13.7262,
         -178.706,
         "2018-01-08 06:01:02"
        ],
        [
         "Algeria",
         7642,
         -89.5173,
         -179.689,
         "2021-08-02 04:15:24"
        ],
        [
         "Ecuador",
         9896,
         -82.0334,
         -110.476,
         "2018-01-12 05:40:05"
        ],
        [
         "Austria",
         8007,
         -65.3158,
         -179.734,
         "2022-08-15 09:19:01"
        ],
        [
         "Albania",
         7283,
         -89.9787,
         -173.293,
         "2022-08-23 00:58:33"
        ],
        [
         "Ireland",
         8944,
         54.4385,
         -0.300596,
         "2020-02-29 04:51:18"
        ],
        [
         "Albania",
         8323,
         -89.9787,
         -173.293,
         "2017-11-07 21:37:37"
        ],
        [
         "Djibouti",
         7487,
         -88.9574,
         55.5995,
         "2019-08-20 08:34:24"
        ],
        [
         "Bolivia",
         2267,
         -77.4732,
         -161.087,
         "2019-07-15 08:01:36"
        ],
        [
         "Croatia",
         5297,
         0.944996,
         -72.3861,
         "2018-04-20 23:50:13"
        ],
        [
         "Guernsey",
         9173,
         -70.6233,
         -69.455,
         "2019-08-22 13:23:51"
        ],
        [
         "Andorra",
         2639,
         -87.1113,
         -159.587,
         "2020-01-28 21:57:17"
        ],
        [
         "Belgium",
         2140,
         -83.4755,
         -140.735,
         "2022-10-05 22:53:51"
        ],
        [
         "Nicaragua",
         6359,
         87.0392,
         -82.493,
         "2022-08-04 08:12:16"
        ],
        [
         "Albania",
         3428,
         -89.9787,
         -173.293,
         "2022-01-01 23:37:41"
        ],
        [
         "Burundi",
         3911,
         -88.6619,
         -117.835,
         "2019-05-17 10:19:20"
        ],
        [
         "Austria",
         9766,
         -70.0295,
         -155.428,
         "2018-05-10 05:11:03"
        ],
        [
         "Albania",
         3977,
         -89.8908,
         -179.887,
         "2020-09-16 11:54:15"
        ],
        [
         "Honduras",
         1550,
         -77.9348,
         -85.145,
         "2022-09-23 11:22:04"
        ],
        [
         "Belgium",
         9072,
         -49.6438,
         -64.7355,
         "2019-07-12 04:37:14"
        ],
        [
         "Guatemala",
         2928,
         5.83178,
         85.7978,
         "2018-11-26 23:08:14"
        ],
        [
         "Djibouti",
         3320,
         -70.1494,
         -146.93,
         "2020-03-12 10:26:49"
        ],
        [
         "Belgium",
         10329,
         63.1332,
         -101.653,
         "2017-12-14 22:54:49"
        ],
        [
         "Bahamas",
         3287,
         -87.0574,
         -164.826,
         "2018-09-21 07:53:56"
        ],
        [
         "Indonesia",
         809,
         35.2848,
         -157.542,
         "2022-03-31 14:09:15"
        ],
        [
         "Algeria",
         8552,
         -89.5173,
         -179.689,
         "2021-09-19 06:48:03"
        ],
        [
         "Bulgaria",
         3723,
         -47.953,
         -176.463,
         "2020-06-15 17:24:20"
        ],
        [
         "Austria",
         8808,
         -87.7764,
         -151.645,
         "2018-08-06 00:20:51"
        ],
        [
         "Armenia",
         3937,
         -70.7194,
         -158.271,
         "2019-01-29 16:42:32"
        ],
        [
         "Indonesia",
         5283,
         47.0801,
         149.318,
         "2018-05-06 16:29:26"
        ],
        [
         "Algeria",
         7886,
         -89.5173,
         -179.689,
         "2020-11-09 22:39:30"
        ],
        [
         "Bahamas",
         2756,
         -51.5396,
         -105.634,
         "2020-04-11 01:32:48"
        ],
        [
         "Bahamas",
         4463,
         -75.4909,
         -179.908,
         "2020-07-24 16:26:38"
        ],
        [
         "Maldives",
         1313,
         77.0447,
         61.9119,
         "2018-06-26 02:39:25"
        ],
        [
         "Angola",
         2959,
         -68.0095,
         -157.227,
         "2019-08-19 08:22:02"
        ],
        [
         "Armenia",
         3156,
         -84.738,
         -160.795,
         "2018-01-13 19:33:49"
        ],
        [
         "Armenia",
         719,
         -38.4062,
         -154.323,
         "2018-10-29 04:05:12"
        ],
        [
         "Bermuda",
         2482,
         63.4563,
         -164.709,
         "2019-09-13 08:20:13"
        ],
        [
         "Albania",
         808,
         -71.6856,
         -179.126,
         "2019-01-03 15:43:12"
        ],
        [
         "Anguilla",
         1545,
         -30.18,
         -72.3784,
         "2022-06-17 05:47:12"
        ],
        [
         "Armenia",
         2015,
         -17.629,
         -177.685,
         "2018-09-22 13:52:19"
        ],
        [
         "Algeria",
         7768,
         -88.355,
         -96.0131,
         "2018-05-25 21:34:19"
        ],
        [
         "Turkey",
         3729,
         -24.4793,
         -150.145,
         "2018-01-17 03:43:38"
        ],
        [
         "Andorra",
         159,
         -88.0812,
         -166.603,
         "2017-11-20 21:14:56"
        ],
        [
         "Ecuador",
         7167,
         -55.757,
         -157.572,
         "2019-12-27 20:45:04"
        ],
        [
         "Canada",
         9487,
         -76.9532,
         -113.641,
         "2018-12-18 11:16:52"
        ],
        [
         "Gibraltar",
         327,
         62.3674,
         100.972,
         "2022-02-09 03:03:58"
        ],
        [
         "Tanzania",
         232,
         6.60912,
         -173.609,
         "2019-02-18 03:38:47"
        ],
        [
         "Kuwait",
         8366,
         -38.5318,
         -139.215,
         "2018-03-28 14:17:11"
        ],
        [
         "Australia",
         1967,
         32.74,
         -179.581,
         "2021-02-05 10:37:28"
        ],
        [
         "Canada",
         1699,
         -54.3706,
         -127.783,
         "2022-07-03 13:25:48"
        ],
        [
         "Norway",
         10168,
         -14.7211,
         137.812,
         "2019-10-14 00:19:33"
        ],
        [
         "Moldova",
         995,
         -88.0923,
         -179.319,
         "2022-09-22 12:17:57"
        ],
        [
         "Cyprus",
         5959,
         -44.9016,
         -17.5192,
         "2020-08-10 01:00:33"
        ],
        [
         "Morocco",
         8123,
         80.2593,
         -134.292,
         "2021-08-23 07:31:46"
        ],
        [
         "Denmark",
         1487,
         6.23029,
         -75.5939,
         "2021-05-15 18:23:45"
        ],
        [
         "Ireland",
         6479,
         47.9142,
         -98.4756,
         "2020-10-12 04:13:06"
        ],
        [
         "Georgia",
         4055,
         16.8902,
         -123.373,
         "2021-09-23 06:42:16"
        ],
        [
         "Ecuador",
         7383,
         -55.757,
         -157.572,
         "2022-01-28 15:36:36"
        ],
        [
         "Angola",
         3240,
         -24.2386,
         -165.309,
         "2022-06-10 09:36:51"
        ],
        [
         "Armenia",
         8645,
         -69.636,
         -166.432,
         "2022-06-22 09:32:17"
        ],
        [
         "Aruba",
         10734,
         -51.2174,
         -166.894,
         "2021-08-29 21:27:53"
        ],
        [
         "Bahamas",
         10371,
         44.5638,
         101.933,
         "2017-12-17 12:54:54"
        ],
        [
         "Albania",
         501,
         -88.8298,
         -170.188,
         "2018-11-04 15:42:21"
        ],
        [
         "Bermuda",
         1173,
         -40.9049,
         110.638,
         "2021-07-18 00:52:31"
        ],
        [
         "Lesotho",
         8926,
         43.0814,
         -91.8318,
         "2019-10-28 22:24:31"
        ],
        [
         "Aruba",
         10029,
         -89.8157,
         -173.632,
         "2020-06-17 14:24:19"
        ],
        [
         "Bahamas",
         857,
         -87.0574,
         -164.826,
         "2021-12-28 23:31:43"
        ],
        [
         "Austria",
         4949,
         -26.961,
         -141.787,
         "2021-05-08 19:16:52"
        ],
        [
         "Belize",
         7039,
         -77.5336,
         -161.068,
         "2020-09-20 18:21:13"
        ],
        [
         "Moldova",
         6328,
         29.6234,
         -33.0952,
         "2018-01-06 06:29:33"
        ],
        [
         "Brazil",
         5402,
         -27.1791,
         -159.955,
         "2022-07-22 12:40:32"
        ],
        [
         "Armenia",
         3231,
         -84.738,
         -160.795,
         "2018-10-12 08:31:30"
        ],
        [
         "Namibia",
         10526,
         59.1203,
         94.4738,
         "2018-02-21 14:52:09"
        ],
        [
         "Austria",
         4064,
         -48.6363,
         -177.92,
         "2021-11-19 16:11:38"
        ],
        [
         "Gabon",
         10198,
         -77.4995,
         -65.4026,
         "2022-02-18 20:14:09"
        ],
        [
         "Algeria",
         8162,
         -74.408,
         -178.774,
         "2020-07-22 06:56:03"
        ],
        [
         "Belgium",
         3393,
         -73.6491,
         -136.57,
         "2018-10-10 20:34:11"
        ],
        [
         "Angola",
         2668,
         -24.2386,
         -165.309,
         "2019-11-13 16:18:57"
        ],
        [
         "Romania",
         7950,
         76.0609,
         -60.6718,
         "2017-10-23 12:34:22"
        ],
        [
         "Bermuda",
         10600,
         68.9357,
         122.338,
         "2020-12-31 07:05:04"
        ],
        [
         "Monaco",
         10862,
         23.1361,
         -63.9384,
         "2017-11-30 01:25:50"
        ],
        [
         "Nigeria",
         2095,
         27.5545,
         -5.30833,
         "2022-09-13 08:48:27"
        ],
        [
         "Algeria",
         9904,
         -74.7055,
         -177.87,
         "2018-07-27 09:36:32"
        ],
        [
         "Angola",
         3562,
         -87.3742,
         -177.647,
         "2022-04-08 10:19:47"
        ],
        [
         "Kuwait",
         2422,
         -31.8074,
         -169.911,
         "2022-01-11 01:24:46"
        ],
        [
         "Canada",
         7262,
         -84.0716,
         -6.14558,
         "2020-01-29 23:37:22"
        ],
        [
         "Algeria",
         8511,
         86.5503,
         -175.518,
         "2021-11-09 14:40:16"
        ],
        [
         "Denmark",
         1487,
         6.23029,
         -75.5939,
         "2021-05-15 18:23:45"
        ],
        [
         "Andorra",
         616,
         -77.6883,
         -145.539,
         "2017-10-25 11:00:30"
        ],
        [
         "Armenia",
         865,
         -88.9652,
         -164.795,
         "2019-12-22 03:54:25"
        ],
        [
         "Albania",
         741,
         -88.8298,
         -170.188,
         "2017-11-15 15:17:20"
        ],
        [
         "Albania",
         525,
         -89.9787,
         -173.293,
         "2021-07-23 21:18:02"
        ],
        [
         "Latvia",
         6240,
         -6.88551,
         -95.5132,
         "2021-11-08 01:02:41"
        ],
        [
         "Belize",
         3882,
         -88.6506,
         -120.682,
         "2022-01-09 01:38:01"
        ],
        [
         "Iceland",
         3111,
         -53.3753,
         35.7843,
         "2018-01-22 00:19:58"
        ],
        [
         "Finland",
         1481,
         -37.2856,
         153.269,
         "2018-07-14 15:10:37"
        ],
        [
         "Armenia",
         498,
         -88.9652,
         -164.795,
         "2021-05-13 21:01:51"
        ],
        [
         "Angola",
         3703,
         -87.3742,
         -177.647,
         "2020-05-18 04:14:27"
        ],
        [
         "Somalia",
         4417,
         -70.957,
         -8.13146,
         "2021-04-15 13:11:21"
        ],
        [
         "Bahrain",
         860,
         -5.22078,
         -26.9354,
         "2018-12-11 12:14:12"
        ],
        [
         "Singapore",
         4080,
         73.853,
         15.7012,
         "2021-03-30 19:39:22"
        ],
        [
         "Bahamas",
         857,
         -87.0574,
         -164.826,
         "2021-12-28 23:31:43"
        ],
        [
         "Andorra",
         159,
         -88.0812,
         -166.603,
         "2017-11-20 21:14:56"
        ],
        [
         "Nigeria",
         6756,
         8.10741,
         -152.898,
         "2020-11-05 01:58:15"
        ],
        [
         "Albania",
         644,
         -71.6856,
         -179.126,
         "2022-06-09 11:40:06"
        ],
        [
         "Ethiopia",
         10271,
         39.243,
         125.621,
         "2021-06-05 12:37:05"
        ],
        [
         "Dominica",
         4475,
         -59.6238,
         96.814,
         "2018-05-01 16:59:40"
        ],
        [
         "Ecuador",
         1749,
         -76.008,
         -129.397,
         "2018-05-21 23:45:01"
        ],
        [
         "Argentina",
         746,
         -71.6036,
         -175.3,
         "2019-10-15 00:31:59"
        ],
        [
         "France",
         2925,
         -38.6499,
         -72.8142,
         "2018-01-12 01:05:35"
        ],
        [
         "Bahamas",
         2508,
         -46.4572,
         131.244,
         "2018-01-24 08:31:16"
        ],
        [
         "Finland",
         7183,
         -31.7091,
         50.1784,
         "2020-04-18 00:06:06"
        ],
        [
         "Andorra",
         1719,
         24.3613,
         -26.1229,
         "2022-06-01 06:43:11"
        ],
        [
         "Georgia",
         8352,
         -79.019,
         -39.4996,
         "2022-10-09 10:47:24"
        ],
        [
         "Monaco",
         3542,
         0.214821,
         -148.275,
         "2022-05-15 20:38:55"
        ],
        [
         "Austria",
         3317,
         46.9331,
         -84.3072,
         "2022-06-14 00:25:02"
        ],
        [
         "Angola",
         6453,
         -81.0982,
         -151.289,
         "2020-11-30 02:46:39"
        ],
        [
         "Algeria",
         737,
         -67.0064,
         -65.5553,
         "2019-07-05 08:55:23"
        ],
        [
         "Panama",
         4675,
         -62.9245,
         -74.6713,
         "2020-06-29 01:50:10"
        ],
        [
         "Mayotte",
         2090,
         78.1523,
         0.381029,
         "2020-01-10 22:22:33"
        ],
        [
         "Andorra",
         4849,
         -24.3729,
         12.2542,
         "2022-05-29 04:11:06"
        ],
        [
         "Canada",
         8705,
         -75.2588,
         -107.089,
         "2020-02-04 20:13:08"
        ],
        [
         "Albania",
         101,
         -88.8298,
         -170.188,
         "2020-12-30 22:16:20"
        ],
        [
         "Monaco",
         7050,
         -28.2843,
         -134.891,
         "2020-07-08 00:37:37"
        ],
        [
         "Belize",
         3182,
         -89.6778,
         -169.798,
         "2020-07-10 02:31:44"
        ],
        [
         "Tokelau",
         1626,
         -58.448,
         -104.059,
         "2020-09-23 10:43:02"
        ],
        [
         "Romania",
         10904,
         64.0854,
         35.3199,
         "2017-11-17 03:50:33"
        ],
        [
         "Armenia",
         6671,
         -38.5336,
         63.0323,
         "2019-06-19 07:38:50"
        ],
        [
         "Singapore",
         6849,
         15.771,
         161.106,
         "2019-11-13 13:26:28"
        ],
        [
         "Maldives",
         4775,
         19.1474,
         100.721,
         "2018-03-21 03:50:29"
        ],
        [
         "Lebanon",
         1537,
         43.6096,
         -176.551,
         "2017-12-15 13:53:57"
        ],
        [
         "Mayotte",
         2090,
         78.1523,
         0.381029,
         "2020-01-10 22:22:33"
        ],
        [
         "Bahamas",
         857,
         -87.0574,
         -164.826,
         "2021-12-28 23:31:43"
        ],
        [
         "Andorra",
         1719,
         24.3613,
         -26.1229,
         "2022-06-01 06:43:11"
        ],
        [
         "Panama",
         10868,
         -42.1051,
         153.465,
         "2019-06-15 06:59:12"
        ],
        [
         "Albania",
         709,
         -88.8298,
         -170.188,
         "2020-12-03 15:25:22"
        ],
        [
         "Egypt",
         10920,
         -58.5064,
         -149.458,
         "2021-05-05 08:08:57"
        ],
        [
         "Argentina",
         462,
         -89.63,
         -179.022,
         "2022-08-19 23:59:15"
        ],
        [
         "Belize",
         3177,
         -89.6778,
         -169.798,
         "2022-04-30 12:13:28"
        ],
        [
         "Albania",
         856,
         -71.6856,
         -179.126,
         "2020-07-22 04:49:08"
        ],
        [
         "Algeria",
         8361,
         -88.355,
         -96.0131,
         "2019-01-14 02:17:34"
        ],
        [
         "Andorra",
         10936,
         52.2422,
         38.9553,
         "2020-02-12 06:23:29"
        ],
        [
         "Comoros",
         4889,
         23.2845,
         -156.467,
         "2020-12-20 07:09:08"
        ],
        [
         "Angola",
         1567,
         -68.0095,
         -157.227,
         "2020-01-03 01:48:25"
        ],
        [
         "Anguilla",
         926,
         -84.9417,
         156.846,
         "2021-01-26 10:36:38"
        ],
        [
         "Albania",
         7500,
         56.5828,
         -165.941,
         "2021-08-08 15:30:48"
        ],
        [
         "Burundi",
         1811,
         5.98843,
         -127.249,
         "2020-03-01 19:51:40"
        ],
        [
         "Angola",
         3803,
         -87.3742,
         -177.647,
         "2021-06-19 02:26:08"
        ],
        [
         "Bhutan",
         1205,
         -89.4241,
         -133.328,
         "2022-05-18 07:01:16"
        ],
        [
         "Bahamas",
         6636,
         -28.1579,
         73.2111,
         "2018-04-13 08:18:23"
        ],
        [
         "Belize",
         5692,
         -71.3226,
         -2.65747,
         "2021-12-27 06:24:04"
        ],
        [
         "Bermuda",
         2304,
         -85.2344,
         -94.599,
         "2019-03-29 02:30:06"
        ],
        [
         "Australia",
         1967,
         32.74,
         -179.581,
         "2021-02-05 10:37:28"
        ],
        [
         "Bahamas",
         2532,
         -2.82669,
         165.932,
         "2022-06-16 07:54:10"
        ],
        [
         "Algeria",
         8212,
         -74.408,
         -178.774,
         "2022-07-04 03:16:28"
        ],
        [
         "Armenia",
         372,
         -38.4062,
         -154.323,
         "2019-01-29 20:46:52"
        ],
        [
         "Albania",
         497,
         -88.8298,
         -170.188,
         "2021-10-22 12:59:06"
        ],
        [
         "Korea",
         10078,
         -56.8367,
         -89.6948,
         "2018-09-11 16:48:17"
        ],
        [
         "Algeria",
         7645,
         -74.408,
         -178.774,
         "2020-06-19 05:35:30"
        ],
        [
         "Turkey",
         3992,
         -55.8423,
         -47.7024,
         "2018-04-07 12:40:04"
        ],
        [
         "Georgia",
         3281,
         16.8902,
         -123.373,
         "2020-12-06 17:01:25"
        ],
        [
         "Ireland",
         7182,
         70.6273,
         -36.4574,
         "2022-09-19 12:22:51"
        ],
        [
         "Eritrea",
         117,
         -56.3611,
         -1.11339,
         "2022-01-19 02:37:42"
        ],
        [
         "Belize",
         2732,
         -89.6778,
         -169.798,
         "2021-11-12 06:01:41"
        ],
        [
         "Algeria",
         7683,
         -74.408,
         -178.774,
         "2021-05-21 04:11:31"
        ],
        [
         "Bermuda",
         2633,
         -85.2344,
         -94.599,
         "2020-10-13 14:49:37"
        ],
        [
         "Angola",
         4224,
         -87.3742,
         -177.647,
         "2019-06-26 17:37:51"
        ],
        [
         "Albania",
         414,
         -71.6856,
         -179.126,
         "2022-10-17 12:26:12"
        ],
        [
         "Ethiopia",
         5083,
         9.37365,
         111.865,
         "2022-07-27 23:49:26"
        ],
        [
         "Hungary",
         10675,
         -73.863,
         -137.28,
         "2018-12-14 21:44:21"
        ],
        [
         "Belize",
         4159,
         -88.6506,
         -120.682,
         "2022-09-09 12:08:59"
        ],
        [
         "Aruba",
         10444,
         -74.3664,
         -133.937,
         "2017-10-25 15:12:44"
        ],
        [
         "Guernsey",
         6675,
         39.0398,
         35.7667,
         "2022-01-22 09:26:46"
        ],
        [
         "Myanmar",
         2183,
         -60.1473,
         124.759,
         "2022-10-01 05:35:16"
        ],
        [
         "Sudan",
         7554,
         -51.2172,
         -77.9768,
         "2019-03-20 03:15:07"
        ],
        [
         "Aruba",
         4913,
         -84.3768,
         -157.544,
         "2019-03-08 06:45:39"
        ],
        [
         "Aruba",
         7166,
         -86.4063,
         -136.657,
         "2022-07-25 03:07:37"
        ],
        [
         "Bhutan",
         3419,
         7.60293,
         -108.979,
         "2021-12-20 05:01:54"
        ],
        [
         "Algeria",
         1555,
         -1.7046,
         -55.332,
         "2017-12-24 18:41:23"
        ],
        [
         "Lesotho",
         552,
         -80.6043,
         31.9601,
         "2022-03-14 05:12:07"
        ],
        [
         "Tunisia",
         2637,
         3.0033,
         -96.4904,
         "2022-10-15 13:25:51"
        ],
        [
         "Finland",
         1198,
         6.37207,
         -150.73,
         "2020-01-24 23:42:18"
        ],
        [
         "Aruba",
         7510,
         -79.9828,
         -172.235,
         "2021-12-21 01:37:25"
        ],
        [
         "Aruba",
         1706,
         -71.5025,
         -179.257,
         "2017-11-24 23:36:46"
        ],
        [
         "Israel",
         7832,
         -53.8629,
         91.8136,
         "2022-02-14 13:47:24"
        ],
        [
         "Kuwait",
         3011,
         -76.4675,
         28.8054,
         "2019-12-17 17:46:18"
        ],
        [
         "Panama",
         9475,
         -84.1953,
         164.362,
         "2019-03-19 08:26:35"
        ],
        [
         "Poland",
         4996,
         39.9625,
         -118.569,
         "2019-04-16 23:49:42"
        ],
        [
         "Kenya",
         3145,
         -57.5981,
         -19.8932,
         "2022-06-18 22:46:26"
        ],
        [
         "Jamaica",
         5742,
         -73.4926,
         -61.56,
         "2020-09-02 01:40:18"
        ],
        [
         "Samoa",
         10837,
         86.6387,
         -26.2408,
         "2018-09-27 07:12:31"
        ],
        [
         "Tuvalu",
         8745,
         31.6701,
         -59.7391,
         "2020-10-28 03:45:33"
        ],
        [
         "Aruba",
         2577,
         -71.5025,
         -179.257,
         "2019-08-01 05:45:51"
        ],
        [
         "Bolivia",
         1599,
         86.0967,
         111.323,
         "2019-02-05 14:58:20"
        ],
        [
         "Bermuda",
         2893,
         -68.5399,
         -28.38,
         "2018-03-05 04:33:55"
        ],
        [
         "Benin",
         10022,
         70.5626,
         -89.4526,
         "2018-12-17 20:26:14"
        ],
        [
         "Namibia",
         4513,
         22.2314,
         144.214,
         "2022-04-11 11:05:13"
        ],
        [
         "Vietnam",
         7850,
         26.5208,
         160.699,
         "2022-04-09 15:06:01"
        ],
        [
         "Egypt",
         6652,
         -78.2534,
         -170.668,
         "2018-11-28 08:21:12"
        ],
        [
         "Benin",
         9218,
         -70.6524,
         -171.552,
         "2020-05-07 21:30:58"
        ],
        [
         "Brazil",
         2343,
         60.6981,
         -79.5945,
         "2019-10-15 13:21:45"
        ],
        [
         "Bhutan",
         4765,
         56.1765,
         -60.3563,
         "2020-06-09 00:49:44"
        ],
        [
         "Latvia",
         1254,
         76.9735,
         -178.147,
         "2021-06-08 18:40:59"
        ],
        [
         "Guinea",
         2011,
         18.6922,
         -80.0756,
         "2020-12-14 18:11:42"
        ],
        [
         "Belize",
         3436,
         -35.194,
         -115.253,
         "2022-05-31 23:26:11"
        ],
        [
         "Grenada",
         5130,
         -86.6858,
         -160.5,
         "2020-10-24 23:43:15"
        ],
        [
         "Estonia",
         1675,
         13.8054,
         13.0336,
         "2022-06-15 03:39:59"
        ],
        [
         "Panama",
         9475,
         -84.1953,
         164.362,
         "2019-03-19 08:26:35"
        ],
        [
         "Greece",
         5724,
         47.1902,
         -10.6517,
         "2018-01-19 07:36:12"
        ],
        [
         "Aruba",
         6976,
         -74.1238,
         -64.0839,
         "2020-09-14 04:55:37"
        ],
        [
         "India",
         2810,
         -85.4298,
         -49.5099,
         "2019-12-29 14:34:40"
        ],
        [
         "France",
         1139,
         -68.4636,
         112.577,
         "2018-05-06 18:02:56"
        ],
        [
         "Aruba",
         7437,
         -86.4063,
         -136.657,
         "2021-10-27 06:00:23"
        ],
        [
         "Armenia",
         1503,
         -74.225,
         -178.59,
         "2019-08-18 05:34:11"
        ],
        [
         "Latvia",
         7162,
         -62.1814,
         -161.34,
         "2017-12-16 03:09:45"
        ],
        [
         "Ecuador",
         2975,
         42.4695,
         101.315,
         "2021-08-06 01:48:36"
        ],
        [
         "Aruba",
         10883,
         -53.423,
         -59.3144,
         "2020-07-25 13:21:12"
        ],
        [
         "Uganda",
         1643,
         52.0489,
         -63.5087,
         "2018-08-17 13:25:13"
        ],
        [
         "Uganda",
         1611,
         15.9313,
         -117.052,
         "2018-04-09 02:43:42"
        ],
        [
         "Congo",
         1024,
         -35.9989,
         -107.383,
         "2020-03-11 02:37:45"
        ],
        [
         "Aruba",
         4922,
         -82.0592,
         -92.7514,
         "2018-05-15 10:56:08"
        ],
        [
         "Benin",
         3094,
         -88.9184,
         -50.9383,
         "2018-03-22 12:31:19"
        ],
        [
         "Aruba",
         7539,
         -86.4063,
         -136.657,
         "2020-09-05 06:26:33"
        ],
        [
         "Aruba",
         10429,
         -47.228,
         -166.492,
         "2021-06-06 09:33:56"
        ],
        [
         "Chile",
         10154,
         89.5057,
         -36.5702,
         "2022-04-06 21:26:45"
        ],
        [
         "Latvia",
         7162,
         -62.1814,
         -161.34,
         "2017-12-16 03:09:45"
        ],
        [
         "Macao",
         10347,
         83.9534,
         -3.36801,
         "2021-08-03 13:04:40"
        ],
        [
         "Bhutan",
         3878,
         36.8347,
         -14.0135,
         "2022-06-06 16:05:13"
        ],
        [
         "Congo",
         9929,
         -55.2455,
         -97.0937,
         "2022-04-19 14:19:21"
        ],
        [
         "Nauru",
         1175,
         -75.0051,
         -171.034,
         "2020-09-16 14:16:31"
        ],
        [
         "Congo",
         3930,
         -20.2154,
         -137.478,
         "2019-02-24 18:54:12"
        ],
        [
         "Greece",
         6797,
         -3.94057,
         150.733,
         "2022-02-28 10:25:08"
        ],
        [
         "Greece",
         4398,
         -67.8237,
         17.7927,
         "2018-12-03 03:33:45"
        ],
        [
         "Belize",
         7514,
         -82.0184,
         129.231,
         "2020-03-07 10:12:53"
        ],
        [
         "Bolivia",
         3164,
         -44.6381,
         82.124,
         "2018-04-25 18:32:49"
        ],
        [
         "Brazil",
         4489,
         55.3371,
         -29.5545,
         "2022-03-27 21:48:39"
        ],
        [
         "Armenia",
         1263,
         -74.225,
         -178.59,
         "2022-07-02 14:50:03"
        ],
        [
         "Israel",
         653,
         -65.1612,
         -167.961,
         "2020-10-15 07:38:44"
        ],
        [
         "Aruba",
         5349,
         -53.7253,
         -130.413,
         "2020-10-09 12:55:51"
        ],
        [
         "Aruba",
         7068,
         -74.1238,
         -64.0839,
         "2017-10-27 06:07:40"
        ],
        [
         "Niger",
         1104,
         -67.6004,
         -153.472,
         "2022-01-14 00:33:23"
        ],
        [
         "Aruba",
         4115,
         -87.2086,
         -172.058,
         "2022-08-23 06:13:19"
        ],
        [
         "India",
         2810,
         -85.4298,
         -49.5099,
         "2019-12-29 14:34:40"
        ],
        [
         "Macao",
         10347,
         83.9534,
         -3.36801,
         "2021-08-03 13:04:40"
        ],
        [
         "France",
         1349,
         -41.0444,
         6.37103,
         "2018-04-26 22:32:36"
        ],
        [
         "Aruba",
         5512,
         -53.7253,
         -130.413,
         "2022-01-15 23:43:09"
        ],
        [
         "Aruba",
         4769,
         -82.0592,
         -92.7514,
         "2021-10-16 01:34:51"
        ],
        [
         "Sweden",
         3345,
         21.5886,
         -173.383,
         "2017-10-24 06:17:09"
        ],
        [
         "Congo",
         5155,
         -72.6034,
         -163.176,
         "2018-06-07 06:28:37"
        ],
        [
         "Congo",
         1707,
         -49.9394,
         -109.211,
         "2021-05-01 22:43:52"
        ],
        [
         "Italy",
         1032,
         -69.0923,
         -154.819,
         "2021-03-21 04:42:59"
        ],
        [
         "Nauru",
         6834,
         -60.0697,
         -109.639,
         "2019-08-25 15:54:59"
        ],
        [
         "Mexico",
         10671,
         44.4275,
         98.3129,
         "2018-08-29 03:24:53"
        ],
        [
         "Bahrain",
         4327,
         43.4514,
         121.584,
         "2017-11-02 02:56:00"
        ],
        [
         "Anguilla",
         4448,
         24.8451,
         158.01,
         "2019-03-16 15:36:20"
        ],
        [
         "Benin",
         3983,
         -73.6522,
         -164.936,
         "2019-09-01 10:40:42"
        ],
        [
         "Angola",
         533,
         -68.0095,
         -157.227,
         "2020-06-28 04:27:45"
        ],
        [
         "Aruba",
         6705,
         -86.2476,
         -171.577,
         "2021-03-19 16:31:21"
        ],
        [
         "Albania",
         27,
         -88.8298,
         -170.188,
         "2020-11-15 23:51:27"
        ],
        [
         "Bolivia",
         3164,
         -44.6381,
         82.124,
         "2018-04-25 18:32:49"
        ],
        [
         "Aruba",
         4500,
         -84.3768,
         -157.544,
         "2020-09-12 03:16:36"
        ],
        [
         "Congo",
         6374,
         -76.5909,
         -153.068,
         "2020-05-14 22:42:45"
        ],
        [
         "Guyana",
         6633,
         86.8189,
         -91.7252,
         "2018-09-02 10:13:09"
        ],
        [
         "France",
         250,
         -84.4203,
         -142.539,
         "2018-11-08 12:14:12"
        ],
        [
         "Korea",
         7446,
         -79.3098,
         -179.101,
         "2021-10-08 07:48:05"
        ],
        [
         "Congo",
         5184,
         -14.7152,
         -170.399,
         "2018-06-27 00:16:41"
        ],
        [
         "Lesotho",
         552,
         -80.6043,
         31.9601,
         "2022-03-14 05:12:07"
        ],
        [
         "Mexico",
         6589,
         1.81728,
         -67.4792,
         "2019-09-01 20:52:19"
        ],
        [
         "Korea",
         10093,
         5.63233,
         -128.852,
         "2018-09-11 01:30:39"
        ],
        [
         "Kiribati",
         2216,
         21.423,
         14.4097,
         "2018-08-21 03:47:41"
        ],
        [
         "Cyprus",
         9700,
         25.3879,
         -177.604,
         "2021-02-05 05:06:15"
        ],
        [
         "Aruba",
         2430,
         -71.5025,
         -179.257,
         "2019-06-23 04:33:25"
        ],
        [
         "Aruba",
         9941,
         -53.7253,
         -130.413,
         "2021-09-22 02:20:21"
        ],
        [
         "Greece",
         6797,
         -3.94057,
         150.733,
         "2022-02-28 10:25:08"
        ],
        [
         "Albania",
         63,
         -88.8298,
         -170.188,
         "2021-10-27 10:14:52"
        ],
        [
         "Aruba",
         4420,
         -82.0592,
         -92.7514,
         "2017-12-07 13:45:54"
        ],
        [
         "Korea",
         6936,
         -73.6628,
         -67.9815,
         "2020-07-01 18:58:26"
        ],
        [
         "Qatar",
         1919,
         -19.5096,
         -89.8726,
         "2022-10-18 15:43:00"
        ],
        [
         "Cyprus",
         10582,
         -72.511,
         111.466,
         "2021-09-11 20:32:31"
        ],
        [
         "Bhutan",
         7260,
         -68.975,
         -156.817,
         "2018-07-18 19:54:12"
        ],
        [
         "Bahamas",
         9602,
         27.215,
         -63.1478,
         "2021-08-25 16:53:57"
        ],
        [
         "Benin",
         8501,
         -70.6524,
         -171.552,
         "2018-08-19 01:08:37"
        ],
        [
         "Egypt",
         6041,
         -78.2534,
         -170.668,
         "2018-03-11 15:50:30"
        ],
        [
         "Aruba",
         8731,
         -83.104,
         -171.302,
         "2020-07-17 04:39:09"
        ],
        [
         "India",
         9672,
         79.4658,
         -69.4133,
         "2019-11-03 13:15:52"
        ],
        [
         "Congo",
         831,
         -43.7816,
         -66.1592,
         "2021-06-23 23:16:10"
        ],
        [
         "Aruba",
         3800,
         -61.471,
         -154.912,
         "2018-01-27 16:49:07"
        ],
        [
         "Monaco",
         772,
         25.0708,
         -97.1964,
         "2022-09-22 05:59:55"
        ],
        [
         "Chile",
         8300,
         -64.5259,
         19.7049,
         "2018-02-14 23:50:10"
        ],
        [
         "Comoros",
         7738,
         66.8478,
         22.777,
         "2017-11-12 03:45:21"
        ],
        [
         "Romania",
         859,
         89.8261,
         48.2256,
         "2020-04-07 19:23:24"
        ],
        [
         "Albania",
         7641,
         -87.2,
         -177.109,
         "2021-09-28 13:56:50"
        ],
        [
         "Egypt",
         8081,
         -33.8238,
         -129.18,
         "2022-03-25 07:42:29"
        ],
        [
         "Aruba",
         4024,
         -61.471,
         -154.912,
         "2019-10-19 10:03:03"
        ],
        [
         "Macao",
         7116,
         -18.3686,
         72.4109,
         "2019-09-16 18:45:41"
        ],
        [
         "Ecuador",
         25,
         -81.3019,
         63.8961,
         "2021-12-02 12:40:33"
        ],
        [
         "Sudan",
         649,
         -80.7952,
         -22.2518,
         "2020-10-06 14:24:08"
        ],
        [
         "Cuba",
         6496,
         -80.9436,
         -47.4846,
         "2020-09-05 18:39:01"
        ],
        [
         "Albania",
         4,
         -88.8298,
         -170.188,
         "2022-07-07 00:18:41"
        ],
        [
         "Fiji",
         3644,
         -74.6891,
         -179.779,
         "2021-10-31 17:44:26"
        ],
        [
         "Congo",
         6170,
         -82.4709,
         1.37215,
         "2020-03-29 23:28:43"
        ],
        [
         "Canada",
         91,
         -54.5927,
         -90.6345,
         "2021-10-11 12:44:03"
        ],
        [
         "Sweden",
         7276,
         -58.4743,
         21.875,
         "2018-08-03 05:14:15"
        ],
        [
         "Niger",
         4113,
         23.4312,
         -25.2749,
         "2021-01-06 06:21:50"
        ],
        [
         "Peru",
         10853,
         26.2386,
         -91.1249,
         "2019-11-03 03:19:46"
        ],
        [
         "Albania",
         7983,
         -87.2,
         -177.109,
         "2019-06-21 20:51:41"
        ],
        [
         "Iran",
         8889,
         -77.4233,
         -174.444,
         "2022-10-09 05:28:20"
        ],
        [
         "Uganda",
         1881,
         10.6188,
         103.231,
         "2018-03-26 06:09:13"
        ],
        [
         "Romania",
         9120,
         47.556,
         3.55852,
         "2021-09-30 17:07:00"
        ],
        [
         "Guinea",
         2780,
         20.7163,
         118.461,
         "2021-03-27 04:26:37"
        ],
        [
         "Nauru",
         10247,
         48.0954,
         99.1652,
         "2021-10-31 01:04:11"
        ],
        [
         "Malta",
         896,
         -57.9836,
         -31.5589,
         "2018-10-20 13:23:05"
        ],
        [
         "Aruba",
         9054,
         -83.104,
         -171.302,
         "2020-05-18 01:31:05"
        ],
        [
         "Congo",
         831,
         -43.7816,
         -66.1592,
         "2021-06-23 23:16:10"
        ],
        [
         "Angola",
         4530,
         3.30986,
         6.98283,
         "2021-09-10 22:13:57"
        ],
        [
         "Cuba",
         2970,
         -75.7236,
         -156.761,
         "2022-06-07 05:58:57"
        ],
        [
         "Albania",
         7640,
         -87.2,
         -177.109,
         "2020-12-26 05:39:12"
        ],
        [
         "Lesotho",
         222,
         43.8747,
         -54.895,
         "2021-12-13 19:14:15"
        ],
        [
         "Liberia",
         2334,
         6.486,
         -29.3747,
         "2018-07-26 13:06:01"
        ],
        [
         "Benin",
         9812,
         -44.6251,
         72.8949,
         "2021-11-20 00:08:55"
        ],
        [
         "Rwanda",
         9482,
         80.272,
         -7.54919,
         "2022-08-13 15:19:04"
        ],
        [
         "Aruba",
         8834,
         -83.104,
         -171.302,
         "2018-05-05 18:10:07"
        ],
        [
         "Aruba",
         4066,
         -61.471,
         -154.912,
         "2020-12-12 13:40:43"
        ],
        [
         "Korea",
         6682,
         -5.04594,
         28.0201,
         "2019-02-10 06:51:48"
        ],
        [
         "Guyana",
         8967,
         24.8791,
         99.4055,
         "2021-06-27 12:33:19"
        ],
        [
         "Macao",
         3638,
         -0.749224,
         58.845,
         "2020-09-12 07:45:37"
        ],
        [
         "Qatar",
         1214,
         -79.9392,
         40.2275,
         "2021-03-06 20:54:28"
        ],
        [
         "Haiti",
         6631,
         72.3119,
         -66.4951,
         "2017-12-10 22:59:33"
        ],
        [
         "Aruba",
         9223,
         -83.104,
         -171.302,
         "2022-08-22 03:36:20"
        ],
        [
         "Monaco",
         179,
         -69.6993,
         160.052,
         "2019-11-22 14:46:15"
        ],
        [
         "Aruba",
         8591,
         -83.104,
         -171.302,
         "2021-08-02 15:08:22"
        ],
        [
         "Chad",
         2952,
         -79.2535,
         -170.409,
         "2019-04-03 08:24:44"
        ],
        [
         "Lesotho",
         867,
         43.8747,
         -54.895,
         "2020-10-06 15:34:55"
        ],
        [
         "Egypt",
         5566,
         -72.7358,
         67.9857,
         "2021-02-17 18:10:11"
        ],
        [
         "Aruba",
         3359,
         -64.984,
         -117.531,
         "2018-12-31 08:50:21"
        ],
        [
         "Egypt",
         5566,
         -72.7358,
         67.9857,
         "2021-02-17 18:10:11"
        ],
        [
         "Kenya",
         6770,
         -58.8668,
         44.9303,
         "2021-11-21 22:59:39"
        ],
        [
         "Aruba",
         9267,
         -83.104,
         -171.302,
         "2019-05-08 18:13:23"
        ],
        [
         "Albania",
         7974,
         -87.2,
         -177.109,
         "2018-05-24 05:43:00"
        ],
        [
         "Albania",
         7596,
         -87.2,
         -177.109,
         "2022-09-03 15:27:36"
        ],
        [
         "Japan",
         7512,
         -69.4772,
         14.3683,
         "2020-01-05 02:10:42"
        ],
        [
         "Aruba",
         4050,
         -61.471,
         -154.912,
         "2021-05-06 22:25:37"
        ],
        [
         "Lesotho",
         867,
         43.8747,
         -54.895,
         "2020-10-06 15:34:55"
        ],
        [
         "Congo",
         4353,
         15.5553,
         -55.4806,
         "2018-02-03 23:18:03"
        ],
        [
         "Sudan",
         3774,
         -49.1799,
         97.2511,
         "2019-03-16 04:49:06"
        ],
        [
         "Albania",
         8452,
         -87.2,
         -177.109,
         "2020-07-13 13:22:54"
        ],
        [
         "Gabon",
         4220,
         15.3315,
         -62.6734,
         "2020-02-09 13:02:02"
        ],
        [
         "China",
         8477,
         -75.3641,
         164.006,
         "2018-02-18 08:41:43"
        ],
        [
         "Benin",
         5252,
         -84.5812,
         -82.755,
         "2019-05-14 07:23:55"
        ],
        [
         "Chad",
         7407,
         -65.5616,
         -143.054,
         "2020-04-25 23:41:24"
        ],
        [
         "Tonga",
         1014,
         81.1477,
         69.3538,
         "2022-02-03 22:05:34"
        ],
        [
         "Egypt",
         2698,
         -72.7174,
         24.169,
         "2021-11-24 08:33:51"
        ],
        [
         "Albania",
         640,
         -87.2,
         -177.109,
         "2019-07-12 16:46:03"
        ],
        [
         "Niue",
         8448,
         -87.5252,
         140.842,
         "2021-09-06 09:41:31"
        ],
        [
         "Korea",
         1514,
         88.2631,
         96.2413,
         "2022-02-12 20:43:15"
        ],
        [
         "Niue",
         9355,
         24.2826,
         -7.25448,
         "2021-04-16 13:44:16"
        ],
        [
         "Gabon",
         6019,
         -12.722,
         178.583,
         "2019-05-23 22:52:10"
        ],
        [
         "Niue",
         8089,
         -56.4684,
         98.8754,
         "2018-06-01 04:06:02"
        ],
        [
         "Malta",
         604,
         -85.3088,
         130.617,
         "2020-12-25 06:02:16"
        ],
        [
         "Angola",
         307,
         26.8027,
         43.1265,
         "2018-01-25 00:55:00"
        ],
        [
         "Japan",
         33,
         -47.1159,
         -118.396,
         "2018-02-15 21:25:06"
        ],
        [
         "Benin",
         8461,
         34.7197,
         79.8326,
         "2021-10-15 09:17:14"
        ],
        [
         "Greece",
         320,
         12.0902,
         113.873,
         "2019-11-13 10:03:45"
        ],
        [
         "Iran",
         1789,
         25.4676,
         -125.575,
         "2020-09-28 10:16:28"
        ],
        [
         "Samoa",
         3266,
         43.6716,
         160.165,
         "2019-02-09 14:23:13"
        ],
        [
         "Haiti",
         5254,
         42.0864,
         127.398,
         "2020-10-16 10:22:44"
        ],
        [
         "Bhutan",
         4761,
         45.8605,
         -93.66,
         "2020-06-05 14:36:00"
        ],
        [
         "Kenya",
         6403,
         24.4809,
         160.728,
         "2021-10-01 16:26:34"
        ],
        [
         "Qatar",
         5679,
         -31.0302,
         69.808,
         "2020-03-16 12:40:13"
        ],
        [
         "Fiji",
         10721,
         82.166,
         -122.531,
         "2019-08-16 10:05:09"
        ],
        [
         "Yemen",
         6333,
         69.6593,
         173.413,
         "2021-05-09 03:29:56"
        ],
        [
         "Malta",
         1701,
         11.8752,
         72.5547,
         "2018-04-08 20:12:32"
        ],
        [
         "Aruba",
         287,
         -84.8378,
         -167.14,
         "2022-06-18 10:40:31"
        ],
        [
         "Aruba",
         544,
         -64.984,
         -117.531,
         "2022-07-08 06:00:32"
        ],
        [
         "India",
         4983,
         -8.61001,
         57.615,
         "2022-10-16 23:45:36"
        ],
        [
         "Aruba",
         301,
         -84.8378,
         -167.14,
         "2018-04-15 07:17:24"
        ],
        [
         "Aruba",
         734,
         -84.8378,
         -167.14,
         "2022-04-04 06:26:56"
        ],
        [
         "Chad",
         5463,
         -62.3082,
         164.589,
         "2021-11-05 17:50:36"
        ],
        [
         "Aruba",
         283,
         -84.8378,
         -167.14,
         "2021-01-04 02:59:01"
        ],
        [
         "Cuba",
         10932,
         87.9514,
         113.689,
         "2022-08-22 08:46:17"
        ],
        [
         "Macao",
         8164,
         46.1297,
         152.314,
         "2019-04-09 15:18:49"
        ],
        [
         "Aruba",
         4036,
         -44.1155,
         -136.5,
         "2021-02-05 11:02:01"
        ],
        [
         "Aruba",
         601,
         -84.8378,
         -167.14,
         "2018-11-09 13:16:19"
        ],
        [
         "Guam",
         9778,
         85.2343,
         126.628,
         "2020-08-24 14:24:42"
        ],
        [
         "Cuba",
         6939,
         -83.907,
         149.749,
         "2022-04-06 03:57:03"
        ],
        [
         "Mali",
         1901,
         48.1778,
         124.806,
         "2018-08-03 19:57:38"
        ],
        [
         "Egypt",
         9903,
         -73.556,
         44.511,
         "2019-05-12 08:33:31"
        ],
        [
         "Niger",
         160,
         71.654,
         -59.7394,
         "2019-08-09 06:43:52"
        ],
        [
         "India",
         1570,
         26.005,
         16.2163,
         "2020-02-28 17:19:16"
        ],
        [
         "Oman",
         1530,
         65.8719,
         110.263,
         "2018-08-23 03:52:50"
        ],
        [
         "Iran",
         6978,
         -22.2957,
         121.77,
         "2020-12-07 06:42:02"
        ],
        [
         "China",
         935,
         38.6535,
         38.6415,
         "2020-12-01 00:14:41"
        ],
        [
         "Fiji",
         7078,
         1.43641,
         135.772,
         "2019-08-25 06:50:19"
        ],
        [
         "Fiji",
         6806,
         51.4822,
         -20.238,
         "2020-10-11 11:07:40"
        ],
        [
         "Peru",
         9106,
         37.2333,
         125.404,
         "2019-05-31 20:07:11"
        ],
        [
         "Togo",
         2498,
         61.4706,
         -51.05,
         "2021-04-03 18:10:34"
        ],
        [
         "Ghana",
         1362,
         48.3704,
         92.28,
         "2022-07-20 05:38:18"
        ],
        [
         "Ghana",
         365,
         64.583,
         15.9277,
         "2020-07-22 01:36:17"
        ],
        [
         "Iran",
         678,
         50.2114,
         56.4204,
         "2019-09-08 16:46:26"
        ],
        [
         "Peru",
         884,
         6.86087,
         63.4991,
         "2019-08-20 10:26:48"
        ],
        [
         "Aruba",
         527,
         -75.3,
         -169.77,
         "2020-11-15 18:35:20"
        ]
       ],
       "datasetInfos": [],
       "dbfsResultPath": null,
       "isJsonSchema": true,
       "metadata": {},
       "overflow": false,
       "plotOptions": {
        "customPlotOptions": {},
        "displayType": "table",
        "pivotAggregation": null,
        "pivotColumns": null,
        "xColumns": null,
        "yColumns": null
       },
       "removedWidgets": [],
       "schema": [
        {
         "metadata": "{}",
         "name": "country",
         "type": "\"string\""
        },
        {
         "metadata": "{}",
         "name": "ind",
         "type": "\"long\""
        },
        {
         "metadata": "{}",
         "name": "latitude",
         "type": "\"double\""
        },
        {
         "metadata": "{}",
         "name": "longitude",
         "type": "\"double\""
        },
        {
         "metadata": "{}",
         "name": "timestamp",
         "type": "\"string\""
        }
       ],
       "type": "table"
      }
     },
     "output_type": "display_data"
    }
   ],
   "source": [
    "# File location and type\n",
    "# Asterisk(*) indicates reading all the content of the specified file that have .json extension\n",
    "file_location = \"s3://user-1254dc635ec5-bucket/topics/1254dc635ec5.geo/partition=0/*.json\" \n",
    "# ^^^ HERE: --> User has full access to read any buckets under the AWS sandbox we use, so you don't have to verify with the access keys from before\n",
    "file_type = \"json\"\n",
    "# Ask Spark to infer the schema\n",
    "infer_schema = \"true\"\n",
    "# Read in JSONs from mounted S3 bucket\n",
    "df_geo = spark.read.format(file_type) \\\n",
    ".option(\"inferSchema\", infer_schema) \\\n",
    ".load(file_location)\n",
    "# Display Spark dataframe to check its content\n",
    "#NOTE: Data contains 1000+ rows. \n",
    "# Show a sample of the data \n",
    "df_geo.limit(50).display()"
   ]
  },
  {
   "cell_type": "code",
   "execution_count": 0,
   "metadata": {
    "application/vnd.databricks.v1+cell": {
     "cellMetadata": {
      "byteLimit": 2048000,
      "rowLimit": 10000
     },
     "inputWidgets": {},
     "nuid": "595cfaf5-ac49-4bf4-a6a8-07384f16753c",
     "showTitle": false,
     "tableResultSettingsMap": {},
     "title": ""
    }
   },
   "outputs": [
    {
     "output_type": "display_data",
     "data": {
      "text/html": [
       "<style scoped>\n",
       "  .table-result-container {\n",
       "    max-height: 300px;\n",
       "    overflow: auto;\n",
       "  }\n",
       "  table, th, td {\n",
       "    border: 1px solid black;\n",
       "    border-collapse: collapse;\n",
       "  }\n",
       "  th, td {\n",
       "    padding: 5px;\n",
       "  }\n",
       "  th {\n",
       "    text-align: left;\n",
       "  }\n",
       "</style><div class='table-result-container'><table class='table-result'><thead style='background-color: white'><tr><th>country</th><th>ind</th><th>latitude</th><th>longitude</th><th>timestamp</th></tr></thead><tbody><tr><td>British Indian Ocean Territory (Chagos Archipelago)</td><td>9455</td><td>-82.9272</td><td>-150.346</td><td>2022-03-15 01:46:32</td></tr><tr><td>British Indian Ocean Territory (Chagos Archipelago)</td><td>6814</td><td>-86.5675</td><td>-149.565</td><td>2022-09-02 11:34:28</td></tr><tr><td>British Indian Ocean Territory (Chagos Archipelago)</td><td>5111</td><td>-83.7472</td><td>8.65953</td><td>2021-04-01 00:56:57</td></tr><tr><td>Antarctica (the territory South of 60 deg S)</td><td>10073</td><td>-32.8885</td><td>-170.295</td><td>2021-06-29 19:56:04</td></tr><tr><td>Antarctica (the territory South of 60 deg S)</td><td>2418</td><td>-88.4642</td><td>-171.061</td><td>2022-05-27 11:30:59</td></tr><tr><td>Antarctica (the territory South of 60 deg S)</td><td>5162</td><td>-71.6607</td><td>-149.206</td><td>2019-09-27 19:06:43</td></tr><tr><td>Antarctica (the territory South of 60 deg S)</td><td>1335</td><td>-77.9931</td><td>-175.682</td><td>2022-03-19 17:29:42</td></tr><tr><td>Antarctica (the territory South of 60 deg S)</td><td>9185</td><td>-10.3764</td><td>-22.9809</td><td>2019-10-06 18:12:55</td></tr><tr><td>Antarctica (the territory South of 60 deg S)</td><td>9335</td><td>-88.4642</td><td>-171.061</td><td>2020-11-14 23:42:22</td></tr><tr><td>Antarctica (the territory South of 60 deg S)</td><td>6749</td><td>-88.4642</td><td>-171.061</td><td>2018-04-16 07:39:46</td></tr><tr><td>South Georgia and the South Sandwich Islands</td><td>10507</td><td>-89.4786</td><td>-68.913</td><td>2018-12-27 23:57:31</td></tr><tr><td>Antarctica (the territory South of 60 deg S)</td><td>1729</td><td>-88.4642</td><td>-171.061</td><td>2021-05-04 14:59:44</td></tr><tr><td>Antarctica (the territory South of 60 deg S)</td><td>8836</td><td>-75.0203</td><td>-108.272</td><td>2022-09-06 23:57:01</td></tr><tr><td>Antarctica (the territory South of 60 deg S)</td><td>4361</td><td>-24.8372</td><td>-163.337</td><td>2022-07-17 10:48:12</td></tr><tr><td>Antarctica (the territory South of 60 deg S)</td><td>9117</td><td>-88.4642</td><td>-171.061</td><td>2018-08-02 03:26:24</td></tr><tr><td>Antarctica (the territory South of 60 deg S)</td><td>7090</td><td>-62.92</td><td>-63.7974</td><td>2022-01-08 18:53:52</td></tr><tr><td>Heard Island and McDonald Islands</td><td>7206</td><td>-69.8132</td><td>-173.161</td><td>2020-08-19 02:53:12</td></tr><tr><td>Lao People's Democratic Republic</td><td>8058</td><td>-45.8033</td><td>-140.37</td><td>2018-08-05 01:23:40</td></tr><tr><td>Heard Island and McDonald Islands</td><td>7631</td><td>54.4122</td><td>130.428</td><td>2021-12-15 22:42:25</td></tr><tr><td>Saint Vincent and the Grenadines</td><td>7958</td><td>-72.3686</td><td>174.831</td><td>2021-02-26 21:03:00</td></tr><tr><td>Saint Vincent and the Grenadines</td><td>2301</td><td>13.4683</td><td>51.7244</td><td>2020-11-14 00:25:28</td></tr><tr><td>Holy See (Vatican City State)</td><td>7180</td><td>-22.7118</td><td>-167.739</td><td>2018-04-22 21:33:50</td></tr><tr><td>Svalbard & Jan Mayen Islands</td><td>10204</td><td>-14.3257</td><td>26.9087</td><td>2020-04-06 02:56:29</td></tr><tr><td>Svalbard & Jan Mayen Islands</td><td>10204</td><td>-14.3257</td><td>26.9087</td><td>2020-04-06 02:56:29</td></tr><tr><td>United States Virgin Islands</td><td>7718</td><td>-21.4347</td><td>108.416</td><td>2022-08-10 06:57:29</td></tr><tr><td>Falkland Islands (Malvinas)</td><td>4186</td><td>-72.0557</td><td>-5.16099</td><td>2018-09-10 12:52:21</td></tr><tr><td>United States Virgin Islands</td><td>2297</td><td>28.1985</td><td>-94.6501</td><td>2021-10-04 19:45:54</td></tr><tr><td>United States Virgin Islands</td><td>7600</td><td>13.9054</td><td>-166.411</td><td>2019-10-14 10:12:49</td></tr><tr><td>French Southern Territories</td><td>6014</td><td>-26.6026</td><td>155.206</td><td>2019-04-30 12:33:13</td></tr><tr><td>French Southern Territories</td><td>813</td><td>-70.9146</td><td>-136.554</td><td>2022-06-13 23:08:43</td></tr><tr><td>Svalbard & Jan Mayen Islands</td><td>974</td><td>-56.9556</td><td>94.6183</td><td>2022-03-17 09:24:07</td></tr><tr><td>Bouvet Island (Bouvetoya)</td><td>10369</td><td>-79.0994</td><td>-101.415</td><td>2020-02-01 10:43:06</td></tr><tr><td>United States Virgin Islands</td><td>204</td><td>29.2096</td><td>-13.1258</td><td>2018-11-23 15:01:11</td></tr><tr><td>Bouvet Island (Bouvetoya)</td><td>8677</td><td>-84.3984</td><td>-144.933</td><td>2020-02-12 23:24:01</td></tr><tr><td>Bouvet Island (Bouvetoya)</td><td>9270</td><td>-84.3984</td><td>-144.933</td><td>2022-05-23 03:24:24</td></tr><tr><td>Bouvet Island (Bouvetoya)</td><td>2465</td><td>-57.1033</td><td>-29.6301</td><td>2022-07-23 11:15:09</td></tr><tr><td>Bouvet Island (Bouvetoya)</td><td>3185</td><td>-88.4607</td><td>-154.638</td><td>2022-06-14 09:39:11</td></tr><tr><td>Bouvet Island (Bouvetoya)</td><td>8251</td><td>-0.165781</td><td>-62.325</td><td>2022-02-03 11:05:11</td></tr><tr><td>Slovakia (Slovak Republic)</td><td>10513</td><td>25.2981</td><td>143.877</td><td>2021-05-30 01:56:22</td></tr><tr><td>Falkland Islands (Malvinas)</td><td>2226</td><td>3.38121</td><td>89.7473</td><td>2018-10-14 11:54:15</td></tr><tr><td>Bouvet Island (Bouvetoya)</td><td>4348</td><td>-81.2924</td><td>-145.407</td><td>2019-04-06 17:59:09</td></tr><tr><td>Bouvet Island (Bouvetoya)</td><td>4574</td><td>-81.2924</td><td>-145.407</td><td>2019-02-22 15:04:43</td></tr><tr><td>Saint Pierre and Miquelon</td><td>7258</td><td>-39.2432</td><td>-46.5562</td><td>2022-08-06 15:17:24</td></tr><tr><td>Cocos (Keeling) Islands</td><td>10794</td><td>-89.5236</td><td>-154.567</td><td>2022-01-01 02:26:50</td></tr><tr><td>Central African Republic</td><td>10052</td><td>14.7195</td><td>-130.921</td><td>2020-01-03 01:10:57</td></tr><tr><td>Bouvet Island (Bouvetoya)</td><td>6660</td><td>-54.5264</td><td>73.4883</td><td>2019-02-01 11:00:19</td></tr><tr><td>Saint Pierre and Miquelon</td><td>7370</td><td>-24.2107</td><td>138.463</td><td>2018-04-05 08:02:42</td></tr><tr><td>Cocos (Keeling) Islands</td><td>10020</td><td>-88.6883</td><td>-86.0607</td><td>2021-08-22 19:54:37</td></tr><tr><td>Bouvet Island (Bouvetoya)</td><td>9935</td><td>-88.516</td><td>-178.811</td><td>2022-02-04 05:27:15</td></tr><tr><td>Saint Pierre and Miquelon</td><td>6740</td><td>-19.6583</td><td>90.4449</td><td>2022-09-29 22:58:19</td></tr></tbody></table></div>"
      ]
     },
     "metadata": {
      "application/vnd.databricks.v1+output": {
       "addedWidgets": {},
       "aggData": [],
       "aggError": "",
       "aggOverflow": false,
       "aggSchema": [],
       "aggSeriesLimitReached": false,
       "aggType": "",
       "arguments": {},
       "columnCustomDisplayInfos": {},
       "data": [
        [
         "British Indian Ocean Territory (Chagos Archipelago)",
         9455,
         -82.9272,
         -150.346,
         "2022-03-15 01:46:32"
        ],
        [
         "British Indian Ocean Territory (Chagos Archipelago)",
         6814,
         -86.5675,
         -149.565,
         "2022-09-02 11:34:28"
        ],
        [
         "British Indian Ocean Territory (Chagos Archipelago)",
         5111,
         -83.7472,
         8.65953,
         "2021-04-01 00:56:57"
        ],
        [
         "Antarctica (the territory South of 60 deg S)",
         10073,
         -32.8885,
         -170.295,
         "2021-06-29 19:56:04"
        ],
        [
         "Antarctica (the territory South of 60 deg S)",
         2418,
         -88.4642,
         -171.061,
         "2022-05-27 11:30:59"
        ],
        [
         "Antarctica (the territory South of 60 deg S)",
         5162,
         -71.6607,
         -149.206,
         "2019-09-27 19:06:43"
        ],
        [
         "Antarctica (the territory South of 60 deg S)",
         1335,
         -77.9931,
         -175.682,
         "2022-03-19 17:29:42"
        ],
        [
         "Antarctica (the territory South of 60 deg S)",
         9185,
         -10.3764,
         -22.9809,
         "2019-10-06 18:12:55"
        ],
        [
         "Antarctica (the territory South of 60 deg S)",
         9335,
         -88.4642,
         -171.061,
         "2020-11-14 23:42:22"
        ],
        [
         "Antarctica (the territory South of 60 deg S)",
         6749,
         -88.4642,
         -171.061,
         "2018-04-16 07:39:46"
        ],
        [
         "South Georgia and the South Sandwich Islands",
         10507,
         -89.4786,
         -68.913,
         "2018-12-27 23:57:31"
        ],
        [
         "Antarctica (the territory South of 60 deg S)",
         1729,
         -88.4642,
         -171.061,
         "2021-05-04 14:59:44"
        ],
        [
         "Antarctica (the territory South of 60 deg S)",
         8836,
         -75.0203,
         -108.272,
         "2022-09-06 23:57:01"
        ],
        [
         "Antarctica (the territory South of 60 deg S)",
         4361,
         -24.8372,
         -163.337,
         "2022-07-17 10:48:12"
        ],
        [
         "Antarctica (the territory South of 60 deg S)",
         9117,
         -88.4642,
         -171.061,
         "2018-08-02 03:26:24"
        ],
        [
         "Antarctica (the territory South of 60 deg S)",
         7090,
         -62.92,
         -63.7974,
         "2022-01-08 18:53:52"
        ],
        [
         "Heard Island and McDonald Islands",
         7206,
         -69.8132,
         -173.161,
         "2020-08-19 02:53:12"
        ],
        [
         "Lao People's Democratic Republic",
         8058,
         -45.8033,
         -140.37,
         "2018-08-05 01:23:40"
        ],
        [
         "Heard Island and McDonald Islands",
         7631,
         54.4122,
         130.428,
         "2021-12-15 22:42:25"
        ],
        [
         "Saint Vincent and the Grenadines",
         7958,
         -72.3686,
         174.831,
         "2021-02-26 21:03:00"
        ],
        [
         "Saint Vincent and the Grenadines",
         2301,
         13.4683,
         51.7244,
         "2020-11-14 00:25:28"
        ],
        [
         "Holy See (Vatican City State)",
         7180,
         -22.7118,
         -167.739,
         "2018-04-22 21:33:50"
        ],
        [
         "Svalbard & Jan Mayen Islands",
         10204,
         -14.3257,
         26.9087,
         "2020-04-06 02:56:29"
        ],
        [
         "Svalbard & Jan Mayen Islands",
         10204,
         -14.3257,
         26.9087,
         "2020-04-06 02:56:29"
        ],
        [
         "United States Virgin Islands",
         7718,
         -21.4347,
         108.416,
         "2022-08-10 06:57:29"
        ],
        [
         "Falkland Islands (Malvinas)",
         4186,
         -72.0557,
         -5.16099,
         "2018-09-10 12:52:21"
        ],
        [
         "United States Virgin Islands",
         2297,
         28.1985,
         -94.6501,
         "2021-10-04 19:45:54"
        ],
        [
         "United States Virgin Islands",
         7600,
         13.9054,
         -166.411,
         "2019-10-14 10:12:49"
        ],
        [
         "French Southern Territories",
         6014,
         -26.6026,
         155.206,
         "2019-04-30 12:33:13"
        ],
        [
         "French Southern Territories",
         813,
         -70.9146,
         -136.554,
         "2022-06-13 23:08:43"
        ],
        [
         "Svalbard & Jan Mayen Islands",
         974,
         -56.9556,
         94.6183,
         "2022-03-17 09:24:07"
        ],
        [
         "Bouvet Island (Bouvetoya)",
         10369,
         -79.0994,
         -101.415,
         "2020-02-01 10:43:06"
        ],
        [
         "United States Virgin Islands",
         204,
         29.2096,
         -13.1258,
         "2018-11-23 15:01:11"
        ],
        [
         "Bouvet Island (Bouvetoya)",
         8677,
         -84.3984,
         -144.933,
         "2020-02-12 23:24:01"
        ],
        [
         "Bouvet Island (Bouvetoya)",
         9270,
         -84.3984,
         -144.933,
         "2022-05-23 03:24:24"
        ],
        [
         "Bouvet Island (Bouvetoya)",
         2465,
         -57.1033,
         -29.6301,
         "2022-07-23 11:15:09"
        ],
        [
         "Bouvet Island (Bouvetoya)",
         3185,
         -88.4607,
         -154.638,
         "2022-06-14 09:39:11"
        ],
        [
         "Bouvet Island (Bouvetoya)",
         8251,
         -0.165781,
         -62.325,
         "2022-02-03 11:05:11"
        ],
        [
         "Slovakia (Slovak Republic)",
         10513,
         25.2981,
         143.877,
         "2021-05-30 01:56:22"
        ],
        [
         "Falkland Islands (Malvinas)",
         2226,
         3.38121,
         89.7473,
         "2018-10-14 11:54:15"
        ],
        [
         "Bouvet Island (Bouvetoya)",
         4348,
         -81.2924,
         -145.407,
         "2019-04-06 17:59:09"
        ],
        [
         "Bouvet Island (Bouvetoya)",
         4574,
         -81.2924,
         -145.407,
         "2019-02-22 15:04:43"
        ],
        [
         "Saint Pierre and Miquelon",
         7258,
         -39.2432,
         -46.5562,
         "2022-08-06 15:17:24"
        ],
        [
         "Cocos (Keeling) Islands",
         10794,
         -89.5236,
         -154.567,
         "2022-01-01 02:26:50"
        ],
        [
         "Central African Republic",
         10052,
         14.7195,
         -130.921,
         "2020-01-03 01:10:57"
        ],
        [
         "Bouvet Island (Bouvetoya)",
         6660,
         -54.5264,
         73.4883,
         "2019-02-01 11:00:19"
        ],
        [
         "Saint Pierre and Miquelon",
         7370,
         -24.2107,
         138.463,
         "2018-04-05 08:02:42"
        ],
        [
         "Cocos (Keeling) Islands",
         10020,
         -88.6883,
         -86.0607,
         "2021-08-22 19:54:37"
        ],
        [
         "Bouvet Island (Bouvetoya)",
         9935,
         -88.516,
         -178.811,
         "2022-02-04 05:27:15"
        ],
        [
         "Saint Pierre and Miquelon",
         6740,
         -19.6583,
         90.4449,
         "2022-09-29 22:58:19"
        ]
       ],
       "datasetInfos": [],
       "dbfsResultPath": null,
       "isJsonSchema": true,
       "metadata": {},
       "overflow": false,
       "plotOptions": {
        "customPlotOptions": {},
        "displayType": "table",
        "pivotAggregation": null,
        "pivotColumns": null,
        "xColumns": null,
        "yColumns": null
       },
       "removedWidgets": [],
       "schema": [
        {
         "metadata": "{}",
         "name": "country",
         "type": "\"string\""
        },
        {
         "metadata": "{}",
         "name": "ind",
         "type": "\"long\""
        },
        {
         "metadata": "{}",
         "name": "latitude",
         "type": "\"double\""
        },
        {
         "metadata": "{}",
         "name": "longitude",
         "type": "\"double\""
        },
        {
         "metadata": "{}",
         "name": "timestamp",
         "type": "\"string\""
        }
       ],
       "type": "table"
      }
     },
     "output_type": "display_data"
    }
   ],
   "source": [
    "# File location and type\n",
    "# Asterisk(*) indicates reading all the content of the specified file that have .json extension\n",
    "file_location = \"s3://user-1254dc635ec5-bucket/topics/1254dc635ec5.pin/partition=0/*.json\" \n",
    "# ^^^ HERE: --> User has full access to read any buckets under the AWS sandbox we use, so you don't have to verify with the access keys from before\n",
    "file_type = \"json\"\n",
    "# Ask Spark to infer the schema\n",
    "infer_schema = \"true\"\n",
    "# Read in JSONs from mounted S3 bucket\n",
    "df_pin = spark.read.format(file_type) \\\n",
    ".option(\"inferSchema\", infer_schema) \\\n",
    ".load(file_location)\n",
    "# Display Spark dataframe to check its content\n",
    "# NOTE: Data contains 1000+ rows.\n",
    "# Show a sample of the data \n",
    "df_geo.limit(50).display()"
   ]
  },
  {
   "cell_type": "code",
   "execution_count": 0,
   "metadata": {
    "application/vnd.databricks.v1+cell": {
     "cellMetadata": {
      "byteLimit": 2048000,
      "rowLimit": 10000
     },
     "inputWidgets": {},
     "nuid": "14dd5d8b-578f-4593-ae1a-21166b2db59a",
     "showTitle": false,
     "tableResultSettingsMap": {},
     "title": ""
    }
   },
   "outputs": [
    {
     "output_type": "display_data",
     "data": {
      "text/html": [
       "<style scoped>\n",
       "  .table-result-container {\n",
       "    max-height: 300px;\n",
       "    overflow: auto;\n",
       "  }\n",
       "  table, th, td {\n",
       "    border: 1px solid black;\n",
       "    border-collapse: collapse;\n",
       "  }\n",
       "  th, td {\n",
       "    padding: 5px;\n",
       "  }\n",
       "  th {\n",
       "    text-align: left;\n",
       "  }\n",
       "</style><div class='table-result-container'><table class='table-result'><thead style='background-color: white'><tr><th>age</th><th>date_joined</th><th>first_name</th><th>ind</th><th>last_name</th></tr></thead><tbody><tr><td>27</td><td>2016-03-08 13:38:37</td><td>Christopher</td><td>2015</td><td>Bradshaw</td></tr><tr><td>59</td><td>2017-05-12 21:22:17</td><td>Alexander</td><td>10673</td><td>Cervantes</td></tr><tr><td>48</td><td>2016-02-27 16:57:44</td><td>Christopher</td><td>1857</td><td>Hamilton</td></tr><tr><td>45</td><td>2016-09-15 06:02:53</td><td>Christopher</td><td>10020</td><td>Hawkins</td></tr><tr><td>35</td><td>2015-10-22 22:42:23</td><td>Christopher</td><td>2041</td><td>Campbell</td></tr><tr><td>48</td><td>2016-06-13 17:09:14</td><td>Christopher</td><td>7031</td><td>Anderson</td></tr><tr><td>39</td><td>2016-06-29 20:43:59</td><td>Christina</td><td>6398</td><td>Davenport</td></tr><tr><td>20</td><td>2015-10-23 04:13:23</td><td>Alexandria</td><td>3599</td><td>Alvarado</td></tr><tr><td>20</td><td>2015-10-23 04:13:23</td><td>Alexandria</td><td>4256</td><td>Alvarado</td></tr><tr><td>44</td><td>2016-12-18 16:05:39</td><td>Michelle</td><td>1901</td><td>Richardson</td></tr><tr><td>20</td><td>2015-10-23 04:13:23</td><td>Alexandria</td><td>3831</td><td>Alvarado</td></tr><tr><td>23</td><td>2015-10-31 19:20:09</td><td>Alexandria</td><td>6602</td><td>Anderson</td></tr><tr><td>20</td><td>2015-10-23 04:13:23</td><td>Alexandria</td><td>4249</td><td>Alvarado</td></tr><tr><td>20</td><td>2015-10-23 04:13:23</td><td>Alexandria</td><td>4245</td><td>Alvarado</td></tr><tr><td>26</td><td>2016-06-16 14:07:36</td><td>Catherine</td><td>10677</td><td>Mitchell</td></tr><tr><td>20</td><td>2015-10-23 04:13:23</td><td>Alexandria</td><td>3896</td><td>Alvarado</td></tr><tr><td>55</td><td>2017-08-12 13:26:38</td><td>Alexander</td><td>2161</td><td>Rodriguez</td></tr><tr><td>30</td><td>2016-03-02 23:44:12</td><td>Christopher</td><td>813</td><td>Gonzalez</td></tr><tr><td>22</td><td>2016-03-24 09:38:54</td><td>Christopher</td><td>2595</td><td>Barnett</td></tr><tr><td>20</td><td>2015-10-23 04:13:23</td><td>Alexandria</td><td>3717</td><td>Alvarado</td></tr><tr><td>20</td><td>2015-10-23 04:13:23</td><td>Alexandria</td><td>3475</td><td>Alvarado</td></tr><tr><td>45</td><td>2016-09-15 06:02:53</td><td>Christopher</td><td>9582</td><td>Hawkins</td></tr><tr><td>20</td><td>2015-12-01 15:08:31</td><td>Christopher</td><td>5076</td><td>Butler</td></tr><tr><td>39</td><td>2017-07-19 07:12:04</td><td>Michelle</td><td>7790</td><td>Gutierrez</td></tr><tr><td>49</td><td>2016-04-22 20:36:02</td><td>Brittany</td><td>10509</td><td>Thompson</td></tr><tr><td>25</td><td>2016-08-19 02:29:26</td><td>Elizabeth</td><td>10248</td><td>English</td></tr><tr><td>30</td><td>2016-09-05 12:31:44</td><td>Jonathan</td><td>1487</td><td>Rodriguez</td></tr><tr><td>31</td><td>2016-07-30 01:45:47</td><td>Valerie</td><td>10917</td><td>Rodriguez</td></tr><tr><td>28</td><td>2015-12-18 10:50:10</td><td>Jennifer</td><td>10734</td><td>Arellano</td></tr><tr><td>24</td><td>2016-01-12 17:59:43</td><td>Brandon</td><td>10429</td><td>Henderson</td></tr><tr><td>24</td><td>2016-06-26 00:05:17</td><td>Samantha</td><td>2946</td><td>Carpenter</td></tr><tr><td>49</td><td>2016-02-27 04:42:03</td><td>Robert</td><td>10600</td><td>Mclaughlin</td></tr><tr><td>30</td><td>2016-09-05 12:31:44</td><td>Jonathan</td><td>1487</td><td>Rodriguez</td></tr><tr><td>40</td><td>2017-03-07 21:33:30</td><td>Christopher</td><td>4761</td><td>Norman</td></tr><tr><td>53</td><td>2017-04-05 13:59:02</td><td>Garrett</td><td>10721</td><td>Hernandez</td></tr><tr><td>27</td><td>2016-03-03 11:25:21</td><td>Christina</td><td>7206</td><td>Anderson</td></tr><tr><td>25</td><td>2016-04-15 17:06:49</td><td>Christopher</td><td>6806</td><td>Daniel</td></tr><tr><td>27</td><td>2016-04-11 21:27:52</td><td>Andrea</td><td>2267</td><td>Blankenship</td></tr><tr><td>24</td><td>2016-03-24 23:39:08</td><td>Danielle</td><td>2532</td><td>Hernandez</td></tr><tr><td>39</td><td>2017-07-19 07:12:04</td><td>Michelle</td><td>7790</td><td>Gutierrez</td></tr><tr><td>42</td><td>2016-02-08 16:47:33</td><td>Christopher</td><td>10675</td><td>Combs</td></tr><tr><td>25</td><td>2016-02-14 23:08:47</td><td>Christopher</td><td>1969</td><td>Haynes</td></tr><tr><td>43</td><td>2016-07-21 15:25:08</td><td>Chelsea</td><td>10119</td><td>Gonzalez</td></tr><tr><td>21</td><td>2017-01-02 03:01:09</td><td>Catherine</td><td>3716</td><td>Ferrell</td></tr><tr><td>20</td><td>2015-11-24 21:01:23</td><td>Alejandra</td><td>7268</td><td>Acevedo</td></tr><tr><td>45</td><td>2017-05-24 01:41:26</td><td>Nicholas</td><td>9426</td><td>Mcdaniel</td></tr><tr><td>59</td><td>2017-06-01 10:55:10</td><td>Michael</td><td>7116</td><td>Mcconnell</td></tr><tr><td>20</td><td>2015-11-16 13:25:08</td><td>Benjamin</td><td>1335</td><td>Campbell</td></tr><tr><td>36</td><td>2017-02-16 16:01:34</td><td>Danielle</td><td>4765</td><td>Gonzalez</td></tr><tr><td>41</td><td>2016-06-14 11:16:18</td><td>Heather</td><td>10204</td><td>Gonzalez</td></tr></tbody></table></div>"
      ]
     },
     "metadata": {
      "application/vnd.databricks.v1+output": {
       "addedWidgets": {},
       "aggData": [],
       "aggError": "",
       "aggOverflow": false,
       "aggSchema": [],
       "aggSeriesLimitReached": false,
       "aggType": "",
       "arguments": {},
       "columnCustomDisplayInfos": {},
       "data": [
        [
         27,
         "2016-03-08 13:38:37",
         "Christopher",
         2015,
         "Bradshaw"
        ],
        [
         59,
         "2017-05-12 21:22:17",
         "Alexander",
         10673,
         "Cervantes"
        ],
        [
         48,
         "2016-02-27 16:57:44",
         "Christopher",
         1857,
         "Hamilton"
        ],
        [
         45,
         "2016-09-15 06:02:53",
         "Christopher",
         10020,
         "Hawkins"
        ],
        [
         35,
         "2015-10-22 22:42:23",
         "Christopher",
         2041,
         "Campbell"
        ],
        [
         48,
         "2016-06-13 17:09:14",
         "Christopher",
         7031,
         "Anderson"
        ],
        [
         39,
         "2016-06-29 20:43:59",
         "Christina",
         6398,
         "Davenport"
        ],
        [
         20,
         "2015-10-23 04:13:23",
         "Alexandria",
         3599,
         "Alvarado"
        ],
        [
         20,
         "2015-10-23 04:13:23",
         "Alexandria",
         4256,
         "Alvarado"
        ],
        [
         44,
         "2016-12-18 16:05:39",
         "Michelle",
         1901,
         "Richardson"
        ],
        [
         20,
         "2015-10-23 04:13:23",
         "Alexandria",
         3831,
         "Alvarado"
        ],
        [
         23,
         "2015-10-31 19:20:09",
         "Alexandria",
         6602,
         "Anderson"
        ],
        [
         20,
         "2015-10-23 04:13:23",
         "Alexandria",
         4249,
         "Alvarado"
        ],
        [
         20,
         "2015-10-23 04:13:23",
         "Alexandria",
         4245,
         "Alvarado"
        ],
        [
         26,
         "2016-06-16 14:07:36",
         "Catherine",
         10677,
         "Mitchell"
        ],
        [
         20,
         "2015-10-23 04:13:23",
         "Alexandria",
         3896,
         "Alvarado"
        ],
        [
         55,
         "2017-08-12 13:26:38",
         "Alexander",
         2161,
         "Rodriguez"
        ],
        [
         30,
         "2016-03-02 23:44:12",
         "Christopher",
         813,
         "Gonzalez"
        ],
        [
         22,
         "2016-03-24 09:38:54",
         "Christopher",
         2595,
         "Barnett"
        ],
        [
         20,
         "2015-10-23 04:13:23",
         "Alexandria",
         3717,
         "Alvarado"
        ],
        [
         20,
         "2015-10-23 04:13:23",
         "Alexandria",
         3475,
         "Alvarado"
        ],
        [
         45,
         "2016-09-15 06:02:53",
         "Christopher",
         9582,
         "Hawkins"
        ],
        [
         20,
         "2015-12-01 15:08:31",
         "Christopher",
         5076,
         "Butler"
        ],
        [
         39,
         "2017-07-19 07:12:04",
         "Michelle",
         7790,
         "Gutierrez"
        ],
        [
         49,
         "2016-04-22 20:36:02",
         "Brittany",
         10509,
         "Thompson"
        ],
        [
         25,
         "2016-08-19 02:29:26",
         "Elizabeth",
         10248,
         "English"
        ],
        [
         30,
         "2016-09-05 12:31:44",
         "Jonathan",
         1487,
         "Rodriguez"
        ],
        [
         31,
         "2016-07-30 01:45:47",
         "Valerie",
         10917,
         "Rodriguez"
        ],
        [
         28,
         "2015-12-18 10:50:10",
         "Jennifer",
         10734,
         "Arellano"
        ],
        [
         24,
         "2016-01-12 17:59:43",
         "Brandon",
         10429,
         "Henderson"
        ],
        [
         24,
         "2016-06-26 00:05:17",
         "Samantha",
         2946,
         "Carpenter"
        ],
        [
         49,
         "2016-02-27 04:42:03",
         "Robert",
         10600,
         "Mclaughlin"
        ],
        [
         30,
         "2016-09-05 12:31:44",
         "Jonathan",
         1487,
         "Rodriguez"
        ],
        [
         40,
         "2017-03-07 21:33:30",
         "Christopher",
         4761,
         "Norman"
        ],
        [
         53,
         "2017-04-05 13:59:02",
         "Garrett",
         10721,
         "Hernandez"
        ],
        [
         27,
         "2016-03-03 11:25:21",
         "Christina",
         7206,
         "Anderson"
        ],
        [
         25,
         "2016-04-15 17:06:49",
         "Christopher",
         6806,
         "Daniel"
        ],
        [
         27,
         "2016-04-11 21:27:52",
         "Andrea",
         2267,
         "Blankenship"
        ],
        [
         24,
         "2016-03-24 23:39:08",
         "Danielle",
         2532,
         "Hernandez"
        ],
        [
         39,
         "2017-07-19 07:12:04",
         "Michelle",
         7790,
         "Gutierrez"
        ],
        [
         42,
         "2016-02-08 16:47:33",
         "Christopher",
         10675,
         "Combs"
        ],
        [
         25,
         "2016-02-14 23:08:47",
         "Christopher",
         1969,
         "Haynes"
        ],
        [
         43,
         "2016-07-21 15:25:08",
         "Chelsea",
         10119,
         "Gonzalez"
        ],
        [
         21,
         "2017-01-02 03:01:09",
         "Catherine",
         3716,
         "Ferrell"
        ],
        [
         20,
         "2015-11-24 21:01:23",
         "Alejandra",
         7268,
         "Acevedo"
        ],
        [
         45,
         "2017-05-24 01:41:26",
         "Nicholas",
         9426,
         "Mcdaniel"
        ],
        [
         59,
         "2017-06-01 10:55:10",
         "Michael",
         7116,
         "Mcconnell"
        ],
        [
         20,
         "2015-11-16 13:25:08",
         "Benjamin",
         1335,
         "Campbell"
        ],
        [
         36,
         "2017-02-16 16:01:34",
         "Danielle",
         4765,
         "Gonzalez"
        ],
        [
         41,
         "2016-06-14 11:16:18",
         "Heather",
         10204,
         "Gonzalez"
        ]
       ],
       "datasetInfos": [],
       "dbfsResultPath": null,
       "isJsonSchema": true,
       "metadata": {},
       "overflow": false,
       "plotOptions": {
        "customPlotOptions": {},
        "displayType": "table",
        "pivotAggregation": null,
        "pivotColumns": null,
        "xColumns": null,
        "yColumns": null
       },
       "removedWidgets": [],
       "schema": [
        {
         "metadata": "{}",
         "name": "age",
         "type": "\"long\""
        },
        {
         "metadata": "{}",
         "name": "date_joined",
         "type": "\"string\""
        },
        {
         "metadata": "{}",
         "name": "first_name",
         "type": "\"string\""
        },
        {
         "metadata": "{}",
         "name": "ind",
         "type": "\"long\""
        },
        {
         "metadata": "{}",
         "name": "last_name",
         "type": "\"string\""
        }
       ],
       "type": "table"
      }
     },
     "output_type": "display_data"
    }
   ],
   "source": [
    "# File location and type\n",
    "# Asterisk(*) indicates reading all the content of the specified file that have .json extension\n",
    "file_location = \"s3://user-1254dc635ec5-bucket/topics/1254dc635ec5.user/partition=0/*.json\" \n",
    "# ^^^ HERE: --> User has full access to read any buckets under the AWS sandbox we use, so you don't have to verify with the access keys from before\n",
    "file_type = \"json\"\n",
    "# Ask Spark to infer the schema\n",
    "infer_schema = \"true\"\n",
    "# Read in JSONs from mounted S3 bucket\n",
    "df_user = spark.read.format(file_type) \\\n",
    ".option(\"inferSchema\", infer_schema) \\\n",
    ".load(file_location)\n",
    "# Display Spark dataframe to check its content\n",
    "#NOTE: Data contains 1000+ rows\n",
    "# Showing a sample of the data\n",
    "df_user.limit(50).display()"
   ]
  },
  {
   "cell_type": "code",
   "execution_count": 0,
   "metadata": {
    "application/vnd.databricks.v1+cell": {
     "cellMetadata": {
      "byteLimit": 2048000,
      "rowLimit": 10000
     },
     "inputWidgets": {},
     "nuid": "edcc1685-ae9a-4b79-9cb6-411ee837bc06",
     "showTitle": false,
     "tableResultSettingsMap": {},
     "title": ""
    }
   },
   "outputs": [],
   "source": [
    "#Convert Spark DataFrame to Pandas DataFrame\n",
    "import pandas as pd\n",
    "df_geo = df_geo.toPandas()\n",
    "df_pin = df_pin.toPandas()\n",
    "df_user = df_user.toPandas()"
   ]
  },
  {
   "cell_type": "code",
   "execution_count": 0,
   "metadata": {
    "application/vnd.databricks.v1+cell": {
     "cellMetadata": {
      "byteLimit": 2048000,
      "rowLimit": 10000
     },
     "inputWidgets": {},
     "nuid": "8171cfa1-fded-41d7-956a-d6a4ac006f4c",
     "showTitle": false,
     "tableResultSettingsMap": {},
     "title": ""
    }
   },
   "outputs": [],
   "source": [
    "# Remove duplicates\n",
    "df_pin.drop_duplicates(subset='index', keep='first', inplace=True)\n",
    "df_geo.drop_duplicates(subset='ind', keep='first', inplace=True)\n",
    "df_user.drop_duplicates(subset='ind', keep='first', inplace=True)"
   ]
  },
  {
   "cell_type": "code",
   "execution_count": 0,
   "metadata": {
    "application/vnd.databricks.v1+cell": {
     "cellMetadata": {
      "byteLimit": 2048000,
      "rowLimit": 10000
     },
     "inputWidgets": {},
     "nuid": "02a71f25-fa50-4528-8541-a34db29118e2",
     "showTitle": false,
     "tableResultSettingsMap": {},
     "title": ""
    }
   },
   "outputs": [],
   "source": [
    "# Clean df_pin\n",
    "# Replace empty entries and entries with no relevant data in each column with Nones\n",
    "import numpy as np\n",
    "df_pin.replace('', np.nan, inplace=True)\n",
    "df_pin.replace('None', np.nan, inplace=True)\n",
    "df_pin.replace('Null', np.nan, inplace=True)\n",
    "df_pin.replace('null', np.nan, inplace=True)\n",
    "df_pin.replace('No Title Data Available', np.nan, inplace=True)\n",
    "df_pin.replace('User Info Error', np.nan, inplace=True)\n",
    "df_pin.replace('Image src error.', np.nan, inplace=True)"
   ]
  },
  {
   "cell_type": "code",
   "execution_count": 0,
   "metadata": {
    "application/vnd.databricks.v1+cell": {
     "cellMetadata": {
      "byteLimit": 2048000,
      "rowLimit": 10000
     },
     "inputWidgets": {},
     "nuid": "d79b7d1a-3645-44f2-b482-43a00d8633ba",
     "showTitle": false,
     "tableResultSettingsMap": {},
     "title": ""
    }
   },
   "outputs": [],
   "source": [
    "# Perform the necessary transformations on the follower_count to ensure every entry is a number. Make sure the data type of this column is an int.\n",
    "# Convert k/K and m/M\n",
    "df_pin['follower_count'] = df_pin['follower_count'].str.replace('k', '000')\n",
    "df_pin['follower_count'] = df_pin['follower_count'].str.replace('K', '000')\n",
    "df_pin['follower_count'] = df_pin['follower_count'].str.replace('m', '000000')\n",
    "df_pin['follower_count'] = df_pin['follower_count'].str.replace('M', '000000')\n",
    "# Convert to numeric\n",
    "df_pin['follower_count'] = pd.to_numeric(df_pin['follower_count'], errors='coerce')\n",
    "# Convert to int\n",
    "df_pin['follower_count'] = df_pin['follower_count'].fillna(0).astype(int)"
   ]
  },
  {
   "cell_type": "code",
   "execution_count": 0,
   "metadata": {
    "application/vnd.databricks.v1+cell": {
     "cellMetadata": {
      "byteLimit": 2048000,
      "rowLimit": 10000
     },
     "inputWidgets": {},
     "nuid": "1fa62629-1b99-496a-b668-59fe606082a6",
     "showTitle": false,
     "tableResultSettingsMap": {},
     "title": ""
    }
   },
   "outputs": [],
   "source": [
    "# Ensure that each column containing numeric data has a numeric data type\n",
    "df_pin['index'] = pd.to_numeric(df_pin['index'])"
   ]
  },
  {
   "cell_type": "code",
   "execution_count": 0,
   "metadata": {
    "application/vnd.databricks.v1+cell": {
     "cellMetadata": {
      "byteLimit": 2048000,
      "rowLimit": 10000
     },
     "inputWidgets": {},
     "nuid": "46ad3289-5686-46fe-a319-139ddf0cc12b",
     "showTitle": false,
     "tableResultSettingsMap": {},
     "title": ""
    }
   },
   "outputs": [],
   "source": [
    "# Clean the data in the save_location column to include only the save location path\n",
    "df_pin[\"save_location\"] = df_pin[\"save_location\"].str.replace(\"Local save in \", \"\")"
   ]
  },
  {
   "cell_type": "code",
   "execution_count": 0,
   "metadata": {
    "application/vnd.databricks.v1+cell": {
     "cellMetadata": {
      "byteLimit": 2048000,
      "rowLimit": 10000
     },
     "inputWidgets": {},
     "nuid": "cd499dd5-bd30-4e46-9558-46f1f8f757d1",
     "showTitle": false,
     "tableResultSettingsMap": {},
     "title": ""
    }
   },
   "outputs": [],
   "source": [
    "# Rename the index column to ind.\n",
    "df_pin.rename(columns={'index': 'ind'}, inplace=True)"
   ]
  },
  {
   "cell_type": "code",
   "execution_count": 0,
   "metadata": {
    "application/vnd.databricks.v1+cell": {
     "cellMetadata": {
      "byteLimit": 2048000,
      "rowLimit": 10000
     },
     "inputWidgets": {},
     "nuid": "5e56fa9e-212a-4f1b-9e57-6a8672478fef",
     "showTitle": false,
     "tableResultSettingsMap": {},
     "title": ""
    }
   },
   "outputs": [],
   "source": [
    "# Reorder the DataFrame columns to have the following column order:\n",
    "# ind\n",
    "# unique_id\n",
    "# title\n",
    "# description\n",
    "# follower_count\n",
    "# poster_name\n",
    "# tag_list\n",
    "# is_image_or_video\n",
    "# image_src\n",
    "# save_location\n",
    "# category\n",
    "df_pin = df_pin[['ind', 'unique_id', 'title', 'description', 'follower_count', 'poster_name', 'tag_list', 'is_image_or_video', 'image_src', 'save_location', 'category']]\n"
   ]
  },
  {
   "cell_type": "code",
   "execution_count": 0,
   "metadata": {
    "application/vnd.databricks.v1+cell": {
     "cellMetadata": {
      "byteLimit": 2048000,
      "rowLimit": 10000
     },
     "inputWidgets": {},
     "nuid": "a088ec14-640a-4970-811e-3a4cfa3b0d8b",
     "showTitle": false,
     "tableResultSettingsMap": {},
     "title": ""
    }
   },
   "outputs": [],
   "source": [
    "# Clean df_geo\n",
    "# Create a new column coordinates that contains an array based on the latitude and longitude columns\n",
    "df_geo['coordinates'] = df_geo[['latitude', 'longitude']].values.tolist()"
   ]
  },
  {
   "cell_type": "code",
   "execution_count": 0,
   "metadata": {
    "application/vnd.databricks.v1+cell": {
     "cellMetadata": {
      "byteLimit": 2048000,
      "rowLimit": 10000
     },
     "inputWidgets": {},
     "nuid": "1135f6ea-7284-47ff-ab3a-5e92f9e9209d",
     "showTitle": false,
     "tableResultSettingsMap": {},
     "title": ""
    }
   },
   "outputs": [],
   "source": [
    "# Drop the latitude and longitude columns from the DataFrame\n",
    "df_geo = df_geo.drop(['latitude', 'longitude'], axis=1)"
   ]
  },
  {
   "cell_type": "code",
   "execution_count": 0,
   "metadata": {
    "application/vnd.databricks.v1+cell": {
     "cellMetadata": {
      "byteLimit": 2048000,
      "rowLimit": 10000
     },
     "inputWidgets": {},
     "nuid": "dd8753fd-38bd-4723-bdeb-011055a41393",
     "showTitle": false,
     "tableResultSettingsMap": {},
     "title": ""
    }
   },
   "outputs": [],
   "source": [
    "# Convert the timestamp column from a string to a timestamp data type\n",
    "df_geo['timestamp'] = pd.to_datetime(df_geo['timestamp'])"
   ]
  },
  {
   "cell_type": "code",
   "execution_count": 0,
   "metadata": {
    "application/vnd.databricks.v1+cell": {
     "cellMetadata": {
      "byteLimit": 2048000,
      "rowLimit": 10000
     },
     "inputWidgets": {},
     "nuid": "80f97988-fee0-4564-ad09-433f0494533a",
     "showTitle": false,
     "tableResultSettingsMap": {},
     "title": ""
    }
   },
   "outputs": [],
   "source": [
    "# Reorder the DataFrame columns to have the following column order:\n",
    "# ind\n",
    "# country\n",
    "# coordinates\n",
    "# timestamp\n",
    "df_geo = df_geo[['ind', 'country', 'coordinates', 'timestamp']]"
   ]
  },
  {
   "cell_type": "code",
   "execution_count": 0,
   "metadata": {
    "application/vnd.databricks.v1+cell": {
     "cellMetadata": {
      "byteLimit": 2048000,
      "rowLimit": 10000
     },
     "inputWidgets": {},
     "nuid": "d047162f-eb48-46f1-aacb-0ce122e171fe",
     "showTitle": false,
     "tableResultSettingsMap": {},
     "title": ""
    }
   },
   "outputs": [],
   "source": [
    "# Clean df_user\n",
    "# Create a new column user_name that concatenates the information found in the first_name and last_name columns\n",
    "df_user['user_name'] = df_user['first_name'] + ' ' + df_user['last_name']"
   ]
  },
  {
   "cell_type": "code",
   "execution_count": 0,
   "metadata": {
    "application/vnd.databricks.v1+cell": {
     "cellMetadata": {
      "byteLimit": 2048000,
      "rowLimit": 10000
     },
     "inputWidgets": {},
     "nuid": "e9f33db1-2133-4f65-9b7e-57735fde7915",
     "showTitle": false,
     "tableResultSettingsMap": {},
     "title": ""
    }
   },
   "outputs": [],
   "source": [
    "# Drop the first_name and last_name columns from the DataFrame\n",
    "df_user = df_user.drop(['first_name', 'last_name'], axis=1)"
   ]
  },
  {
   "cell_type": "code",
   "execution_count": 0,
   "metadata": {
    "application/vnd.databricks.v1+cell": {
     "cellMetadata": {
      "byteLimit": 2048000,
      "rowLimit": 10000
     },
     "inputWidgets": {},
     "nuid": "21957558-e577-4e9c-ae85-a31d8f66e0e4",
     "showTitle": false,
     "tableResultSettingsMap": {},
     "title": ""
    }
   },
   "outputs": [],
   "source": [
    "# Convert the date_joined column from a string to a timestamp data type\n",
    "df_user['date_joined'] = pd.to_datetime(df_user['date_joined'])"
   ]
  },
  {
   "cell_type": "code",
   "execution_count": 0,
   "metadata": {
    "application/vnd.databricks.v1+cell": {
     "cellMetadata": {
      "byteLimit": 2048000,
      "rowLimit": 10000
     },
     "inputWidgets": {},
     "nuid": "022b2fba-aa75-4d2a-aa4e-2e1609cd3a3d",
     "showTitle": false,
     "tableResultSettingsMap": {},
     "title": ""
    }
   },
   "outputs": [],
   "source": [
    "# Reorder the DataFrame columns to have the following column order:\n",
    "# ind\n",
    "# user_name\n",
    "# age\n",
    "# date_joined\n",
    "df_user = df_user[['ind', 'user_name', 'age', 'date_joined']]"
   ]
  },
  {
   "cell_type": "code",
   "execution_count": 0,
   "metadata": {
    "application/vnd.databricks.v1+cell": {
     "cellMetadata": {
      "byteLimit": 2048000,
      "rowLimit": 10000
     },
     "inputWidgets": {},
     "nuid": "f565ccb3-32f5-4d29-abf7-8a40cb93cddc",
     "showTitle": false,
     "tableResultSettingsMap": {},
     "title": ""
    }
   },
   "outputs": [
    {
     "output_type": "stream",
     "name": "stdout",
     "output_type": "stream",
     "text": [
      "           country      category  category_count\n26         Algeria        quotes              19\n12         Albania           art              14\n3      Afghanistan     education               9\n83       Argentina       tattoos               9\n46         Andorra       tattoos               7\n..             ...           ...             ...\n309        Denmark  mens-fashion               1\n300           Cuba      vehicles               1\n294  Cote d'Ivoire        travel               1\n287   Cook Islands        travel               1\n648          Yemen    home-decor               1\n\n[210 rows x 3 columns]\n"
     ]
    }
   ],
   "source": [
    "# Find the most popular Pinterest category people post to based on their country.\n",
    "# Your query should return a DataFrame that contains the following columns:\n",
    "# country\n",
    "# category\n",
    "# category_count, a new column containing the desired query output\n",
    "df_cat_count = df_pin.merge(df_geo, left_on='ind', right_on='ind')\n",
    "df_cat_count = df_cat_count.groupby(['country', 'category']).size().reset_index(name='category_count')\n",
    "df_cat_count = df_cat_count.sort_values(by='category_count', ascending=False)\n",
    "df_cat_count.drop_duplicates(subset='country', keep='first', inplace=True)\n",
    "print(df_cat_count)"
   ]
  },
  {
   "cell_type": "code",
   "execution_count": 0,
   "metadata": {
    "application/vnd.databricks.v1+cell": {
     "cellMetadata": {
      "byteLimit": 2048000,
      "rowLimit": 10000
     },
     "inputWidgets": {},
     "nuid": "2d48b802-1919-44a8-9635-7ea37699f8bd",
     "showTitle": false,
     "tableResultSettingsMap": {},
     "title": ""
    }
   },
   "outputs": [
    {
     "output_type": "stream",
     "name": "stdout",
     "output_type": "stream",
     "text": [
      "    post_year        category  category_count\n15       2018       christmas              23\n24       2018          travel              20\n16       2018  diy-and-crafts              19\n13       2018             art              18\n22       2018          quotes              18\n..        ...             ...             ...\n71       2022         finance              10\n76       2022          travel              10\n69       2022       education               9\n70       2022  event-planning               9\n77       2022        vehicles               7\n\n[65 rows x 3 columns]\n"
     ]
    }
   ],
   "source": [
    "# Find out what was the most populat category each year\n",
    "# Find how many posts each category had between 2018 and 2022.\n",
    "# Your query should return a DataFrame that contains the following columns:\n",
    "# post_year, a new column that contains only the year from the timestamp column\n",
    "# category\n",
    "# category_count, a new column containing the desired query output\n",
    "df_cat_count_2 = df_pin.merge(df_geo, left_on='ind', right_on='ind')\n",
    "df_cat_count_2['post_year'] = df_cat_count_2['timestamp'].dt.year\n",
    "df_cat_count_2 = df_cat_count_2.groupby(['post_year', 'category']).size().reset_index(name='category_count')\n",
    "df_cat_count_2 = df_cat_count_2[df_cat_count_2['post_year'].between(2018, 2022)]\n",
    "df_cat_count_2 = df_cat_count_2.sort_values(by=['post_year', 'category_count'], ascending=[True, False])\n",
    "# Remove hash from next line if you want just the top category for each year\n",
    "#df_cat_count_2 = df_cat_count_2.drop_duplicates(subset='post_year', keep='first')\n",
    "print(df_cat_count_2)"
   ]
  },
  {
   "cell_type": "code",
   "execution_count": 0,
   "metadata": {
    "application/vnd.databricks.v1+cell": {
     "cellMetadata": {
      "byteLimit": 2048000,
      "rowLimit": 10000
     },
     "inputWidgets": {},
     "nuid": "5f1a4be2-9a66-4431-9f53-a34fb3ad3e1f",
     "showTitle": false,
     "tableResultSettingsMap": {},
     "title": ""
    }
   },
   "outputs": [
    {
     "output_type": "stream",
     "name": "stdout",
     "output_type": "stream",
     "text": [
      "                      country  ... follower_count\n0                 Afghanistan  ...        3000000\n1                     Albania  ...        5000000\n2                     Algeria  ...         942000\n3              American Samoa  ...        8000000\n4                     Andorra  ...        1000000\n..                        ...  ...            ...\n205  United States of America  ...          47000\n206                 Venezuela  ...         100000\n207                   Vietnam  ...          15000\n208         Wallis and Futuna  ...           2000\n209                     Yemen  ...           4000\n\n[210 rows x 3 columns]\n"
     ]
    }
   ],
   "source": [
    "# Find the user with the most followers in each country\n",
    "# Step 1: For each country find the user with the most followers.\n",
    "# Your query should return a DataFrame that contains the following columns:\n",
    "# country\n",
    "# poster_name\n",
    "# follower_count\n",
    "df_user_follower = df_pin.merge(df_geo, left_on='ind', right_on='ind')\n",
    "df_user_follower = df_user_follower.groupby(['country']).apply(lambda x: x.nlargest(1, 'follower_count')).reset_index(drop=True)\n",
    "df_user_follower = df_user_follower[['country', 'poster_name', 'follower_count']]\n",
    "print(df_user_follower)"
   ]
  },
  {
   "cell_type": "code",
   "execution_count": 0,
   "metadata": {
    "application/vnd.databricks.v1+cell": {
     "cellMetadata": {
      "byteLimit": 2048000,
      "rowLimit": 10000
     },
     "inputWidgets": {},
     "nuid": "b90c9201-4575-4a9a-bb58-9e9056d11dc0",
     "showTitle": false,
     "tableResultSettingsMap": {},
     "title": ""
    }
   },
   "outputs": [
    {
     "output_type": "stream",
     "name": "stdout",
     "output_type": "stream",
     "text": [
      "          country  poster_name  follower_count\n3  American Samoa  Mamas Uncut         8000000\n"
     ]
    }
   ],
   "source": [
    "# Step 2: Based on the above query, find the country with the user with most followers.\n",
    "# Your query should return a DataFrame that contains the following columns:\n",
    "# country\n",
    "# follower_count\n",
    "# This DataFrame should have only one entry.\n",
    "df_user_follower = df_user_follower.sort_values(by='follower_count', ascending=False)\n",
    "df_user_follower_country = df_user_follower.head(1)\n",
    "print(df_user_follower_country)"
   ]
  },
  {
   "cell_type": "code",
   "execution_count": 0,
   "metadata": {
    "application/vnd.databricks.v1+cell": {
     "cellMetadata": {
      "byteLimit": 2048000,
      "rowLimit": 10000
     },
     "inputWidgets": {},
     "nuid": "e18b8ab8-dff5-451b-b6d0-adf57b69353a",
     "showTitle": false,
     "tableResultSettingsMap": {},
     "title": ""
    }
   },
   "outputs": [
    {
     "output_type": "stream",
     "name": "stdout",
     "output_type": "stream",
     "text": [
      "   age_group      category  category_count\n10     18-24       tattoos              52\n15     25-35     christmas              29\n35     36-50        quotes              20\n47       +50  mens-fashion              10\n"
     ]
    }
   ],
   "source": [
    "# Find the most popular category for different age groups\n",
    "# What is the most popular category people post to based on the following age groups:\n",
    "# 18-24\n",
    "# 25-35\n",
    "# 36-50\n",
    "# +50\n",
    "# Your query should return a DataFrame that contains the following columns:\n",
    "# age_group, a new column based on the original age column\n",
    "# category\n",
    "# category_count, a new column containing the desired query output\n",
    "df_age_cat = df_pin.merge(df_user, left_on='ind', right_on='ind')\n",
    "df_age_cat['age_group'] = pd.cut(df_age_cat['age'], bins=[18, 24, 35, 50, 100], labels=['18-24', '25-35', '36-50', '+50'])\n",
    "df_age_cat = df_age_cat.groupby(['age_group', 'category']).size().reset_index(name='category_count')\n",
    "df_age_cat = df_age_cat.sort_values(by='category_count', ascending=False)\n",
    "df_age_cat = df_age_cat.groupby('age_group').head(1)\n",
    "print(df_age_cat)\n"
   ]
  },
  {
   "cell_type": "code",
   "execution_count": 0,
   "metadata": {
    "application/vnd.databricks.v1+cell": {
     "cellMetadata": {
      "byteLimit": 2048000,
      "rowLimit": 10000
     },
     "inputWidgets": {},
     "nuid": "74ecb9fb-2138-4a67-87d0-cb73258af5f6",
     "showTitle": false,
     "tableResultSettingsMap": {},
     "title": ""
    }
   },
   "outputs": [
    {
     "output_type": "stream",
     "name": "stdout",
     "output_type": "stream",
     "text": [
      "           follower_count\nage_group                \n18-24               89000\n25-35               21000\n36-50                6000\n+50                  1000\n"
     ]
    }
   ],
   "source": [
    "# Find the median follower count for different age groups\n",
    "# What is the median follower count for users in the following age groups:\n",
    "# 18-24\n",
    "# 25-35\n",
    "# 36-50\n",
    "# +50\n",
    "# Your query should return a DataFrame that contains the following columns:\n",
    "# age_group, a new column based on the original age column\n",
    "# median_follower_count, a new column containing the desired query output\n",
    "df_age_med_fol = df_pin.merge(df_user, left_on='ind', right_on='ind')\n",
    "df_age_med_fol['age_group'] = pd.cut(df_age_med_fol['age'], bins=[18, 24, 35, 50, 100], labels=['18-24', '25-35', '36-50', '+50'])\n",
    "df_age_med_fol = df_age_med_fol.groupby(['age_group']).agg({'follower_count': 'median'})\n",
    "df_age_med_fol['follower_count'] = df_age_med_fol['follower_count'].astype(int)\n",
    "print(df_age_med_fol)"
   ]
  },
  {
   "cell_type": "code",
   "execution_count": 0,
   "metadata": {
    "application/vnd.databricks.v1+cell": {
     "cellMetadata": {
      "byteLimit": 2048000,
      "rowLimit": 10000
     },
     "inputWidgets": {},
     "nuid": "e5f11b98-1996-4870-b516-90ce01b8a2da",
     "showTitle": false,
     "tableResultSettingsMap": {},
     "title": ""
    }
   },
   "outputs": [
    {
     "output_type": "stream",
     "name": "stdout",
     "output_type": "stream",
     "text": [
      "   post_year  number_users_joined\n0       2017                   38\n1       2018                  193\n2       2019                  164\n3       2020                  188\n"
     ]
    }
   ],
   "source": [
    "# Find out how many users have joined each year\n",
    "# Find how many users have joined between 2015 and 2020.\n",
    "# Your query should return a DataFrame that contains the following columns:\n",
    "# post_year, a new column that contains only the year from the timestamp column\n",
    "# number_users_joined, a new column containing the desired query output\n",
    "df_yr_joined = df_geo.merge(df_user, left_on='ind', right_on='ind')\n",
    "df_yr_joined['post_year'] = df_geo['timestamp'].dt.year\n",
    "df_yr_joined = df_yr_joined.groupby('post_year').size().reset_index(name='number_users_joined')\n",
    "df_yr_joined = df_yr_joined[['post_year', 'number_users_joined']]\n",
    "df_yr_joined = df_yr_joined.sort_values(by='post_year')\n",
    "df_yr_joined['post_year'] = df_yr_joined['post_year'].astype(int)\n",
    "df_yr_joined = df_yr_joined.loc[df_yr_joined['post_year'].between(2015, 2020)]\n",
    "print(df_yr_joined)"
   ]
  },
  {
   "cell_type": "code",
   "execution_count": 0,
   "metadata": {
    "application/vnd.databricks.v1+cell": {
     "cellMetadata": {
      "byteLimit": 2048000,
      "rowLimit": 10000
     },
     "inputWidgets": {},
     "nuid": "2557c1c3-aa9f-4d94-ad7f-48cb066f8327",
     "showTitle": false,
     "tableResultSettingsMap": {},
     "title": ""
    }
   },
   "outputs": [
    {
     "output_type": "stream",
     "name": "stdout",
     "output_type": "stream",
     "text": [
      "   post_year  median_follower_count\n0       2017                  36500\n1       2018                  24500\n2       2019                  32000\n3       2020                  29000\n"
     ]
    }
   ],
   "source": [
    "# Find the median follower count of users based on their joining year\n",
    "# Find the median follower count of users have joined between 2015 and 2020.\n",
    "# Your query should return a DataFrame that contains the following columns:\n",
    "# post_year, a new column that contains only the year from the timestamp column\n",
    "# median_follower_count, a new column containing the desired query output\n",
    "df_yr_med_fol = df_geo.merge(df_user, left_on='ind', right_on='ind')\n",
    "df_yr_med_fol = df_yr_med_fol.merge(df_pin, left_on='ind', right_on='ind')\n",
    "df_yr_med_fol['post_year'] = df_yr_med_fol['timestamp'].dt.year\n",
    "df_yr_med_fol = df_yr_med_fol.groupby('post_year').agg({'follower_count': 'median'}).reset_index()\n",
    "df_yr_med_fol['follower_count'] = df_yr_med_fol['follower_count'].astype(int)\n",
    "df_yr_med_fol.rename(columns={'follower_count': 'median_follower_count'}, inplace=True)\n",
    "df_yr_med_fol = df_yr_med_fol.loc[df_yr_med_fol['post_year'].between(2015, 2020)]\n",
    "df_yr_med_fol = df_yr_med_fol[['post_year', 'median_follower_count']]\n",
    "print(df_yr_med_fol)"
   ]
  },
  {
   "cell_type": "code",
   "execution_count": 0,
   "metadata": {
    "application/vnd.databricks.v1+cell": {
     "cellMetadata": {
      "byteLimit": 2048000,
      "rowLimit": 10000
     },
     "inputWidgets": {},
     "nuid": "b699a024-6f0c-461a-aad1-97b2797e4d96",
     "showTitle": false,
     "tableResultSettingsMap": {},
     "title": ""
    }
   },
   "outputs": [
    {
     "output_type": "stream",
     "name": "stdout",
     "output_type": "stream",
     "text": [
      "   age_group  post_year  follower_count\n0      18-24       2017          353000\n1      18-24       2018           73000\n2      18-24       2019           91000\n3      18-24       2020          104000\n6      25-35       2017           28000\n7      25-35       2018           21000\n8      25-35       2019           19500\n9      25-35       2020           24500\n12     36-50       2017           28500\n13     36-50       2018            4000\n14     36-50       2019            6000\n15     36-50       2020            7500\n18       +50       2017            7500\n19       +50       2018             777\n20       +50       2019            2500\n21       +50       2020             908\n"
     ]
    }
   ],
   "source": [
    "# Find the median follower count of users based on their joining year and age group\n",
    "# Find the median follower count of users that have joined between 2015 and 2020, based on which age group they are part of.\n",
    "# Your query should return a DataFrame that contains the following columns:\n",
    "# age_group, a new column based on the original age column\n",
    "# post_year, a new column that contains only the year from the timestamp column\n",
    "# median_follower_count, a new column containing the desired query output\n",
    "df_age_yr_med_fol = df_geo.merge(df_user, left_on='ind', right_on='ind')\n",
    "df_age_yr_med_fol = df_age_yr_med_fol.merge(df_pin, left_on='ind', right_on='ind')\n",
    "df_age_yr_med_fol['age_group'] = pd.cut(df_age_yr_med_fol['age'], bins=[18, 24, 35, 50, 100], labels=['18-24', '25-35', '36-50', '+50'])\n",
    "df_age_yr_med_fol['post_year'] = df_age_yr_med_fol['timestamp'].dt.year\n",
    "df_age_yr_med_fol = df_age_yr_med_fol.groupby(['age_group', 'post_year']).agg({'follower_count': 'median'}).reset_index()\n",
    "df_age_yr_med_fol = df_age_yr_med_fol[['age_group', 'post_year', 'follower_count']]\n",
    "df_age_yr_med_fol = df_age_yr_med_fol.loc[df_age_yr_med_fol['post_year'].between(2015, 2020)]\n",
    "df_age_yr_med_fol['follower_count'] = df_age_yr_med_fol['follower_count'].astype(int)\n",
    "print(df_age_yr_med_fol)\n"
   ]
  },
  {
   "cell_type": "code",
   "execution_count": 0,
   "metadata": {
    "application/vnd.databricks.v1+cell": {
     "cellMetadata": {
      "byteLimit": 2048000,
      "rowLimit": 10000
     },
     "inputWidgets": {},
     "nuid": "04199112-ef75-449f-9dad-07add7ca8cb3",
     "showTitle": false,
     "tableResultSettingsMap": {},
     "title": ""
    }
   },
   "outputs": [
    {
     "output_type": "stream",
     "name": "stdout",
     "output_type": "stream",
     "text": [
      "<class 'pandas.core.frame.DataFrame'>\nInt64Index: 966 entries, 0 to 1002\nData columns (total 11 columns):\n #   Column             Non-Null Count  Dtype \n---  ------             --------------  ----- \n 0   ind                966 non-null    int64 \n 1   unique_id          966 non-null    object\n 2   title              956 non-null    object\n 3   description        966 non-null    object\n 4   follower_count     966 non-null    int64 \n 5   poster_name        956 non-null    object\n 6   tag_list           966 non-null    object\n 7   is_image_or_video  966 non-null    object\n 8   image_src          943 non-null    object\n 9   save_location      966 non-null    object\n 10  category           966 non-null    object\ndtypes: int64(2), object(9)\nmemory usage: 90.6+ KB\n"
     ]
    }
   ],
   "source": [
    "df_pin.info()"
   ]
  },
  {
   "cell_type": "code",
   "execution_count": 0,
   "metadata": {
    "application/vnd.databricks.v1+cell": {
     "cellMetadata": {
      "byteLimit": 2048000,
      "rowLimit": 10000
     },
     "inputWidgets": {},
     "nuid": "f7365ee6-1949-48b0-a241-0cdd65ed5492",
     "showTitle": false,
     "tableResultSettingsMap": {},
     "title": ""
    }
   },
   "outputs": [
    {
     "output_type": "stream",
     "name": "stdout",
     "output_type": "stream",
     "text": [
      "<class 'pandas.core.frame.DataFrame'>\nInt64Index: 965 entries, 0 to 1001\nData columns (total 4 columns):\n #   Column       Non-Null Count  Dtype         \n---  ------       --------------  -----         \n 0   ind          965 non-null    int64         \n 1   country      965 non-null    object        \n 2   coordinates  965 non-null    object        \n 3   timestamp    965 non-null    datetime64[ns]\ndtypes: datetime64[ns](1), int64(1), object(2)\nmemory usage: 70.0+ KB\n"
     ]
    }
   ],
   "source": [
    "df_geo.info()"
   ]
  },
  {
   "cell_type": "code",
   "execution_count": 0,
   "metadata": {
    "application/vnd.databricks.v1+cell": {
     "cellMetadata": {
      "byteLimit": 2048000,
      "rowLimit": 10000
     },
     "inputWidgets": {},
     "nuid": "87629765-d4e4-47c3-b2c6-ea3139c01cb6",
     "showTitle": false,
     "tableResultSettingsMap": {},
     "title": ""
    }
   },
   "outputs": [
    {
     "output_type": "stream",
     "name": "stdout",
     "output_type": "stream",
     "text": [
      "<class 'pandas.core.frame.DataFrame'>\nInt64Index: 965 entries, 0 to 1001\nData columns (total 4 columns):\n #   Column       Non-Null Count  Dtype         \n---  ------       --------------  -----         \n 0   ind          965 non-null    int64         \n 1   user_name    965 non-null    object        \n 2   age          965 non-null    int64         \n 3   date_joined  965 non-null    datetime64[ns]\ndtypes: datetime64[ns](1), int64(2), object(1)\nmemory usage: 37.7+ KB\n"
     ]
    }
   ],
   "source": [
    "df_user.info()"
   ]
  }
 ],
 "metadata": {
  "application/vnd.databricks.v1+notebook": {
   "computePreferences": null,
   "dashboards": [],
   "environmentMetadata": {
    "base_environment": "",
    "client": "1"
   },
   "language": "python",
   "notebookMetadata": {
    "mostRecentlyExecutedCommandWithImplicitDF": {
     "commandId": 2608466356240708,
     "dataframes": [
      "_sqldf"
     ]
    },
    "pythonIndentUnit": 4
   },
   "notebookName": "Load S3 Bucket to Databricks and Clean",
   "widgets": {}
  },
  "language_info": {
   "name": "python"
  }
 },
 "nbformat": 4,
 "nbformat_minor": 0
}